{
 "cells": [
  {
   "cell_type": "markdown",
   "metadata": {},
   "source": [
    "# Intelligent Systems in Medical Imaging 2023\n",
    "\n",
    "This Jupyter notebook is part of the course Intelligent Systems in Medical Imaging (ISMI) from Radboud University (Nijmegen, Netherlands), and it was developed by researchers of Radboud University Medical Center (Nijmegen, Netherlands).\n",
    "\n",
    "You should have obtained this notebook by downloading it from the official Brightspace page of the course.\n",
    "\n",
    "This notebook formulates an assignment as part of the ISMI course, and the content of this notebook should be used solely to develop a solution to this assignment. You should not make the code provided in this notebook, or your own solution, publicly available."
   ]
  },
  {
   "cell_type": "markdown",
   "metadata": {},
   "source": [
    "## Teaching Assistants\n",
    "\n",
    "* Bram de Wilde (bram.dewilde@radboudumc.nl)\n",
    "* Pierpaolo Vendittelli (pierpaolo.vendittelli@radboudumc.nl)\n",
    "* Joeran Bosma (joeran.bosma@radboudumc.nl)\n",
    "* Stephan Dooper (stephan.dooper@radboudumc.nl)\n",
    "\n",
    "For questions about the assignments that go beyond the content, you can contact Bram de Wilde. Questions about the content are addressed in the tutorial sessions. You are also encouraged to use the Brightspace discussion forums to discuss content of the assignments. We will also keep an eye out there to help!"
   ]
  },
  {
   "cell_type": "markdown",
   "metadata": {},
   "source": [
    "## Guidelines and instructions\n",
    "Make sure you write code in any place that says \"YOUR CODE HERE\" by substituting `None` variables or by adding your own solution. Make sure you write in any place that says \"YOUR ANSWER HERE\" with your answers to the questions.\n",
    "\n",
    "Please **do not delete or add any cells**.\n",
    "\n",
    "Before you turn this problem in, make sure everything runs without errors. The easiest way to check this is to restart the kernel and run all cells (in the menubar, select Runtime$\\rightarrow$Restart & Run All).\n",
    "\n",
    "* Groups: You should work in **groups of 2 or 3 people**. (groups of 2 are preferred!)\n",
    "* You are expected to work in Google Colab. If you run the notebooks locally, you may have to solve some issues yourself!\n",
    "* Submit your **fully executed** notebook to Brightspace with file name format: `GroupN_NameSurname1_NameSurname2_NameSurname3.ipynb`\n",
    "* The deadlines for all assignments are on Brightspace.\n",
    "* Deadlines are soft, but make an effort to be on time. We prioritise feedback on assignments that are handed in before the deadline.\n",
    "* Each assignment has 100 points, your grade is your total number of points divided by 10.\n",
    "* The assignments are mandatory, but **do not count** towards your final grade for the course.\n",
    "* For assignments where you have to submit to grand-challenge.org, use team name format `ismi-GroupN-nickname1`.\n",
    "* When working with Google Colab, we advise you to download model checkpoints (.h5 files). This way you don't lose your checkpoint if your session times out. Also, don't forget to connect to a **GPU runtime** when training neural networks!\n",
    "* In Google Colab, you can mount your Google Drive to save files, by clicking the Folder icon on the left, and then click the Mount Drive icon.\n",
    "\n",
    "There are more detailed instructions on Brightspace on how to use Google Colab for the assignments. You can find it here: https://brightspace.ru.nl/d2l/le/content/333312/Home"
   ]
  },
  {
   "cell_type": "markdown",
   "metadata": {},
   "source": [
    "## Students\n",
    "Please fill in this cell with your names, e-mail address and s-numbers. This information will be used to grade your assignment.\n",
    "\n",
    "* [Name student #1], [s-number], [e-mail address]\n",
    "* [Name student #2], [s-number], [e-mail address]\n",
    "* [Name student #3], [s-number], [e-mail address]"
   ]
  },
  {
   "cell_type": "markdown",
   "metadata": {
    "deletable": false,
    "editable": false,
    "nbgrader": {
     "cell_type": "markdown",
     "checksum": "01a00a78b52e45b4e1a9b0d709e92733",
     "grade": false,
     "grade_id": "cell-7a6279cb8e648798",
     "locked": true,
     "schema_version": 3,
     "solution": false,
     "task": false
    }
   },
   "source": [
    "---------\n",
    "# Vessel segmentation in retina fundus images\n",
    "<img src=\"images/21_training.png\" width=\"250\" height=\"250\" align=\"right\">\n",
    "The goal of this assignment is to develop an algorithm for automatic segmentation of vessels in retina fundus images using \n",
    "feature classification and morphological filtering.\n",
    "\n",
    "\n",
    "\n",
    " \n",
    "## Clinical background\n",
    "\n",
    "Retinal vessel segmentation and delineation of morphological attributes of retinal blood vessels, such as length, width, tortuosity, branching patterns and angles are utilized for the diagnosis, screening, treatment, and evaluation of various cardiovascular and ophthalmologic diseases such as diabetes, hypertension, arteriosclerosis and chorodial neovascularization.\n",
    "\n",
    "Automatic detection and analysis of the vasculature can assist in the implementation of screening programs for diabetic retinopathy, can aid research on the relationship between vessel tortuosity and hypertensive retinopathy, vessel diameter measurement in relation with diagnosis of hypertension, and computer-assisted laser surgery.\n",
    "\n",
    "Automatic generation of retinal maps and extraction of branch points have been used for temporal or multimodal image registration, retinal image mosaic synthesis. Moreover, the retinal vascular tree is found to be unique for each individual and can be used for biometric identification.\n",
    "\n",
    "## Data \n",
    "\n",
    "In this assignment, we are going to develop a system to automatically **segment vessels** in human retina fundus images. For this purpose, we are going to use data from the publicly available DRIVE dataset (http://www.isi.uu.nl/Research/Databases/DRIVE/).\n",
    "The DRIVE dataset consists of 40 images, 20 used for training and 20 used for testing. Each case contains:\n",
    "* a fundus (RGB) image\n",
    "* a binary mask, which indicates the area of the image that has to be analyzed (removing black background)\n",
    "* manual annotations of retinal vessels, provided as a binary map\n",
    "\n",
    "## Tasks for this assignment\n",
    "<img src=\"images/submission.png\" width=\"420\" align=\"right\">\n",
    "\n",
    "1. Develop a system to segment vessels in retinal images in this notebook. You will have to submit this notebook with your code, which we will run and evaluate, together with the results of the segmentation. <br>\n",
    "\n",
    "2. Use the training set provided with the DRIVE dataset to train/tune the parameters of your system. You cannot use data from the test set available on the DRIVE website, nor from other datasets. <br>\n",
    "\n",
    "3. Apply it to the test dataset and generate a binary map of the segmented vessel. The map must have the same size as the input image. <br>\n",
    "\n",
    "4. **Submit the results of your algorithm to the mini-challenge framework**. You can create a zip-file by running the corresponding cell at the end of the notebook. You will have to **submit** this zip-file to the mini-challenge framework (https://drive.grand-challenge.org/). In order to submit results, click on the **Submit** tab on grand-challenge, then click on the **Choose File** button to select your .zip \"Predictions File\" and submit it. You can monitor the execution of your submission by clicking on the link at the end of the page. Note that while grading your assignment, we will run your implementation and reproduce your results. Any significant discrepancy between the results submitted to the mini-challenge framework and the one computed using this notebook will be penalized and discussed with the student. **Note**: It is allowed to submit multiple times, checking the performance of different results of your algorithm. In order to keep track of your submissions, you can add a comment when you submit your .zip file. <br>\n",
    "<font color='red'>\n",
    " <h3> Only submissions of teams will be accepted, and single users should not submit (unless they don't have a team). <br/><br/>\n",
    "\n",
    " The name of the team should have the format \"ismi22-GroupN-nickname\".<br/>\n",
    "</h3>\n",
    "</font>\n",
    "\n",
    "5. Once you have completed your assignment, **submit the fully-executed notebook to Brightspace**. DO NOT submit the notebook to grand-challenge.<br>\n",
    "\n",
    "## Implementation \n",
    "\n",
    "### First task: Max 80 pts\n",
    "You will be asked to implement your vessel segmentation system based on **pixel classification based on texture analysis**.\n",
    "For this purpose, you can use the following publications as reference:\n",
    "\n",
    "* [1] M. Niemeijer et al. \"Comparative study of retinal vessel segmentation methods on a new publicly available database\"\n",
    "* [2] Y. Yang et al., \"An automatic hybrid method for retinal blood vessel extraction\"\n",
    "* [3] M.M. Fraz et al., \"Blood vessel segmentation methodologies in retinal images - A survey\"\n",
    "\n",
    "The first paper explains how to segment retinal vessels using pixel classification.\n",
    "In this assignment, you should implement the solution based on pixel classification as is explained in section 2.3.5 of the first paper.  \n",
    "\n",
    "### Second task: Max 20 pts\n",
    "Next, you could try to **improve the segmentation** result. The goal is to design the best CAD system for vessel segmentation and validate its performance on the DRIVE dataset! A few ideas to improve the system are:\n",
    "\n",
    "* More features (Directional filters, local binary patterns, Gabor filters, etc.). Get creative!\n",
    "* Postprocessing to improve the results using morphological filtering\n",
    "* More training samples\n",
    "* etc."
   ]
  },
  {
   "cell_type": "markdown",
   "metadata": {
    "deletable": false,
    "editable": false,
    "nbgrader": {
     "cell_type": "markdown",
     "checksum": "d70f1fba91234fd733a4b6db8c7c2ec7",
     "grade": false,
     "grade_id": "cell-4dbd74cf34136a2c",
     "locked": true,
     "schema_version": 3,
     "solution": false,
     "task": false
    }
   },
   "source": [
    "# Overview\n",
    "A method based on texture analysis and pixel classification, requires a set of labeled samples, for which the correct label is known. We call this a *training set*. In order to build a training set, positive (vessel) and negative (non-vessel) samples have to be extracted from the images in the training set. This set will be used to classify new (test) samples, using for example a **nearest-neighbour** strategy for assigning labels. To objectively validate different methods, we will compare the results of your method with reference data (manual annotations). The outline of the approach you are about the implement is:\n",
    "1. Load data: download the data, import and convert to numpy, inspect the available annotations.\n",
    "2. Feature extraction: Implement texture analysis to extract features from the images and create a training set.\n",
    "3. Train the classifier: for example a nearest-neighbour classifier.\n",
    "4. Test the classifier: apply the classifier to new data to obtain a new vessel map.\n",
    "5. Submit your results: submit the output of your algorithm to grand-challenge, where it will be evaluated and compared to other submissions.\n"
   ]
  },
  {
   "cell_type": "markdown",
   "metadata": {
    "deletable": false,
    "editable": false,
    "nbgrader": {
     "cell_type": "markdown",
     "checksum": "75ea330cc7fa895d30f76e4711c37951",
     "grade": false,
     "grade_id": "cell-b6bc2ac2d933b6f8",
     "locked": true,
     "schema_version": 3,
     "solution": false,
     "task": false
    }
   },
   "source": [
    "## Step 1: Load data\n",
    "\n",
    "Let's get started by importing libraries needed for this assignment:"
   ]
  },
  {
   "cell_type": "code",
   "execution_count": null,
   "metadata": {
    "deletable": false,
    "editable": false,
    "nbgrader": {
     "cell_type": "code",
     "checksum": "b2276db9543813c212cdc0fedea01cf2",
     "grade": false,
     "grade_id": "cell-bbb3c676a4c1e3f4",
     "locked": true,
     "schema_version": 3,
     "solution": false,
     "task": false
    },
    "tags": []
   },
   "outputs": [],
   "source": [
    "!pip3 install -q --upgrade ismi_utils\n",
    "!pip install imagecodecs"
   ]
  },
  {
   "cell_type": "code",
   "execution_count": null,
   "metadata": {
    "deletable": false,
    "editable": false,
    "nbgrader": {
     "cell_type": "code",
     "checksum": "555380dfcb06813bedb27025c87ec5c1",
     "grade": false,
     "grade_id": "cell-8c226e19379d6363",
     "locked": true,
     "schema_version": 3,
     "solution": false,
     "task": false
    },
    "run_control": {
     "frozen": false,
     "read_only": false
    }
   },
   "outputs": [],
   "source": [
    "import os\n",
    "import shutil\n",
    "import numpy as np\n",
    "from PIL import Image\n",
    "from pathlib import Path\n",
    "import matplotlib\n",
    "import matplotlib.pyplot as plt\n",
    "from mpl_toolkits.mplot3d import Axes3D\n",
    "from sklearn.neighbors import KNeighborsClassifier\n",
    "import scipy.signal\n",
    "from tqdm import tnrange\n",
    "from tqdm.notebook import tqdm\n",
    "import requests\n",
    "import zipfile\n",
    "import skimage.io\n",
    "from ismi_utils import download_data"
   ]
  },
  {
   "cell_type": "code",
   "execution_count": null,
   "metadata": {},
   "outputs": [],
   "source": [
    "'''Please insert here your teamname'''\n",
    "TeamName = ''"
   ]
  },
  {
   "cell_type": "markdown",
   "metadata": {
    "deletable": false,
    "editable": false,
    "nbgrader": {
     "cell_type": "markdown",
     "checksum": "602ab9af1f5987019b9941cda6df6494",
     "grade": false,
     "grade_id": "cell-c702227f7f26e0b2",
     "locked": true,
     "schema_version": 3,
     "solution": false,
     "task": false
    }
   },
   "source": [
    "Now, let's load the training data (images, masks and labels) into memory."
   ]
  },
  {
   "cell_type": "code",
   "execution_count": null,
   "metadata": {
    "deletable": false,
    "editable": false,
    "nbgrader": {
     "cell_type": "code",
     "checksum": "44487f22696c2c9b2b383134af22f4f1",
     "grade": false,
     "grade_id": "cell-3a8045f2bb51dbe1",
     "locked": true,
     "schema_version": 3,
     "solution": false,
     "task": false
    },
    "run_control": {
     "frozen": false,
     "read_only": false
    }
   },
   "outputs": [],
   "source": [
    "assignment_name  = \"assignment_2.zip\"\n",
    "download_data(assignment_name, link=\"https://surfdrive.surf.nl/files/index.php/s/Kn4hCF4G919ijr3/download\")\n",
    "data_folder = Path('./DRIVE')"
   ]
  },
  {
   "cell_type": "markdown",
   "metadata": {
    "deletable": false,
    "editable": false,
    "nbgrader": {
     "cell_type": "markdown",
     "checksum": "620fd68e2e96764146d19740cc40bbeb",
     "grade": false,
     "grade_id": "cell-1e442cc69fc23f13",
     "locked": true,
     "schema_version": 3,
     "solution": false,
     "task": false
    }
   },
   "source": [
    "Now that the data is on the machine you are using, you can continue working on this notebook."
   ]
  },
  {
   "cell_type": "code",
   "execution_count": null,
   "metadata": {
    "deletable": false,
    "editable": false,
    "nbgrader": {
     "cell_type": "code",
     "checksum": "d38364f6d1ac14017ebbf18c44982498",
     "grade": false,
     "grade_id": "cell-3968608a9cc35407",
     "locked": true,
     "schema_version": 3,
     "solution": false,
     "task": false
    },
    "run_control": {
     "frozen": false,
     "read_only": false
    }
   },
   "outputs": [],
   "source": [
    "def get_file_list(path, ext=''):\n",
    "    path = Path(path)\n",
    "    return sorted(path.glob(f\"*{ext}\"))\n",
    "\n",
    "def load_img(path):\n",
    "    return skimage.io.imread(path)\n",
    "\n",
    "train_img_files = get_file_list(data_folder / 'training' / 'images', '.tif')\n",
    "train_msk_files = get_file_list(data_folder / 'training' / 'mask', '.gif')\n",
    "train_lbl_files = get_file_list(data_folder / 'training' / '1st_manual', '.gif')\n",
    "\n",
    "# train_img_files\n",
    "train_imgs = [load_img(f) for f in train_img_files]\n",
    "train_msks = [load_img(f) for f in train_msk_files]\n",
    "train_lbls = [load_img(f) for f in train_lbl_files]"
   ]
  },
  {
   "cell_type": "markdown",
   "metadata": {
    "deletable": false,
    "editable": false,
    "nbgrader": {
     "cell_type": "markdown",
     "checksum": "7262d501e65905ae67b01bf06b7460c8",
     "grade": false,
     "grade_id": "cell-bf1d170b8eb99b31",
     "locked": true,
     "schema_version": 3,
     "solution": false,
     "task": false
    }
   },
   "source": [
    "Let's define a function to visualize:\n",
    "- The Image\n",
    "- The fundus mask\n",
    "- Manual annotation\n",
    "\n",
    "Notice the use of the argument ```cmap``` to change the ```colormap``` of the visualization. "
   ]
  },
  {
   "cell_type": "code",
   "execution_count": null,
   "metadata": {
    "deletable": false,
    "editable": false,
    "nbgrader": {
     "cell_type": "code",
     "checksum": "f377ccddeb67769f22a7a62a3e2ff1ad",
     "grade": false,
     "grade_id": "cell-74ef3384508cd1ef",
     "locked": true,
     "schema_version": 3,
     "solution": false,
     "task": false
    },
    "run_control": {
     "frozen": false,
     "read_only": false
    }
   },
   "outputs": [],
   "source": [
    "def show_image(img, msk, lbl):\n",
    "    matplotlib.rcParams['figure.figsize'] = (20, 12)\n",
    "    plt.subplot(1,3,1)\n",
    "    plt.imshow(img)\n",
    "    plt.title('RGB image')\n",
    "    plt.subplot(1,3,2)\n",
    "    plt.imshow(msk, cmap='gray')\n",
    "    plt.title('Mask')\n",
    "    plt.subplot(1,3,3)\n",
    "    plt.imshow(lbl, cmap='gray')\n",
    "    plt.title('Manual annotation')\n",
    "    plt.show()"
   ]
  },
  {
   "cell_type": "markdown",
   "metadata": {
    "deletable": false,
    "editable": false,
    "nbgrader": {
     "cell_type": "markdown",
     "checksum": "b5bfef3f203b87174d8579aa184de58c",
     "grade": false,
     "grade_id": "cell-62350dc006f2c19a",
     "locked": true,
     "schema_version": 3,
     "solution": false,
     "task": false
    }
   },
   "source": [
    "Show some images in the training set using the function defined above. Try setting a few values for ```i```."
   ]
  },
  {
   "cell_type": "code",
   "execution_count": null,
   "metadata": {
    "run_control": {
     "frozen": false,
     "read_only": false
    }
   },
   "outputs": [],
   "source": [
    "i = 4 # Try some values here    \n",
    "show_image(train_imgs[i], train_msks[i], train_lbls[i])"
   ]
  },
  {
   "cell_type": "markdown",
   "metadata": {
    "deletable": false,
    "editable": false,
    "nbgrader": {
     "cell_type": "markdown",
     "checksum": "e354d869d9b424f908a158a6b0637617",
     "grade": false,
     "grade_id": "cell-92004db42d4da013",
     "locked": true,
     "schema_version": 3,
     "solution": false,
     "task": false
    }
   },
   "source": [
    "## Step 2: Feature extraction\n",
    "\n",
    "The system described in paper [1] uses filters based on Gaussian and derivative of Gaussian functions. Now we will create a two-dimensional Gaussian filter kernel that can be used the extract features from an image. \n",
    "If you completed the first assignment, you have implemented this function already, but let's re-write it so that we explicitly specify the kernel size."
   ]
  },
  {
   "cell_type": "code",
   "execution_count": null,
   "metadata": {
    "deletable": false,
    "editable": false,
    "nbgrader": {
     "cell_type": "code",
     "checksum": "b3c5fa0f705a6e084d457b93c09306ee",
     "grade": false,
     "grade_id": "cell-8bbf12a9262d17fe",
     "locked": true,
     "schema_version": 3,
     "solution": false,
     "task": false
    },
    "run_control": {
     "frozen": false,
     "read_only": false
    },
    "tags": []
   },
   "outputs": [],
   "source": [
    "def gaussian_2d(sigma, kernel_size=3):\n",
    "    \"\"\"\n",
    "    Computes a 2D Gaussian kernel with a given sigma (in pixels)\n",
    "    The size of the kernel can be set as a multiple of the sigma (kernel_size*sigma)\n",
    "    \"\"\"\n",
    "    x0, y0 = 0, 0\n",
    "    sx = int(np.ceil(kernel_size * sigma))\n",
    "    sy = int(np.ceil(kernel_size * sigma))\n",
    "    x, y = np.meshgrid(np.arange(-sx, sx + 1), np.arange(-sy, sy + 1))\n",
    "    exponent = (x**2 + y**2) / (2 * sigma**2)\n",
    "    kernel = np.exp(-exponent)\n",
    "    return kernel, x, y\n",
    "\n",
    "def visualize_gaussian_kernel(gaussian_kernel):\n",
    "    ''' \n",
    "        Visualizes a Gaussian kernel\n",
    "    '''    \n",
    "    fig = plt.figure()\n",
    "    ax = Axes3D(fig)\n",
    "    fig.add_axes(ax)\n",
    "    y_dim, x_dim = gaussian_kernel.shape\n",
    "    sx = x_dim // 2\n",
    "    sy = y_dim // 2\n",
    "    x, y = np.meshgrid(range(-sx, sx + 1), range(-sy, sy + 1))\n",
    "    ax.plot_surface(x, y, gaussian_kernel, rstride=1, cstride=1, cmap='jet')\n",
    "    plt.show()"
   ]
  },
  {
   "cell_type": "markdown",
   "metadata": {
    "deletable": false,
    "editable": false,
    "nbgrader": {
     "cell_type": "markdown",
     "checksum": "d449726650046bc6890f9961709166f8",
     "grade": false,
     "grade_id": "cell-608297f0db77b60d",
     "locked": true,
     "schema_version": 3,
     "solution": false,
     "task": false
    }
   },
   "source": [
    "The `visualize_gaussian_kernel` function will help you create the Gaussian filter kernel by visualizing it in 3D. \n",
    "It will show the Gaussian filter kernel you defined in the function above.\n",
    "Try changing sigma to see the kernel at different scales. With `size_sigma=3` you should be able to see the 'interesting' part of the gaussian function. It should look roughly like this (image from the first assignment): "
   ]
  },
  {
   "cell_type": "markdown",
   "metadata": {
    "deletable": false,
    "editable": false,
    "nbgrader": {
     "cell_type": "markdown",
     "checksum": "e1b2054e2de38dd4ed3fcf0657296f02",
     "grade": false,
     "grade_id": "cell-65c595b1f338500e",
     "locked": true,
     "schema_version": 3,
     "solution": false,
     "task": false
    }
   },
   "source": [
    "<img src=\"../assignment_1/images/gaussian.gif\" width=\"400\">"
   ]
  },
  {
   "cell_type": "code",
   "execution_count": null,
   "metadata": {
    "run_control": {
     "frozen": false,
     "read_only": false
    }
   },
   "outputs": [],
   "source": [
    "sigma = 3 # Try some values here\n",
    "kernel_size = 3\n",
    "gaussian_kernel,_,_ = gaussian_2d(sigma, kernel_size)\n",
    "visualize_gaussian_kernel(gaussian_kernel)"
   ]
  },
  {
   "cell_type": "markdown",
   "metadata": {
    "deletable": false,
    "editable": false,
    "nbgrader": {
     "cell_type": "markdown",
     "checksum": "abfe14f28f566778e899781e6dab0aae",
     "grade": false,
     "grade_id": "cell-c9171e5fe288786f",
     "locked": true,
     "schema_version": 3,
     "solution": false,
     "task": false
    }
   },
   "source": [
    "### Collect features\n",
    "\n",
    "Now you will implement a *feature extractor* that will extract features from an image. You will have to decide what filters, or texture analysis operators, will be used to describe the appearance of pixels. \n",
    "\n",
    "In order to define the number of features, consider the approach that you are going to implement. Base it specifically on paper [1] so keep in mind how many sigmas (and which) are you going to use!\n",
    "\n",
    "Suggested features: \n",
    "- Gaussians at different scales\n",
    "- Derivatives of Gaussians at different scales and angles\n",
    "- Second derivatives at different scales and angles\n",
    "\n",
    "\n",
    "Suggested functions to use:\n",
    " - ```gaussian_2d``` \n",
    " - ```scipy.signal.fftconvolve```\n",
    "\n",
    "Define your feature extraction function here:\n"
   ]
  },
  {
   "cell_type": "code",
   "execution_count": null,
   "metadata": {
    "deletable": false,
    "nbgrader": {
     "cell_type": "code",
     "checksum": "27a7a6976aad4b23eae5d6c0d92e735c",
     "grade": false,
     "grade_id": "cell-f1cd2a0874efb009",
     "locked": false,
     "schema_version": 3,
     "solution": true,
     "task": false
    },
    "run_control": {
     "frozen": false,
     "read_only": false
    }
   },
   "outputs": [],
   "source": [
    "def extract_features(img):\n",
    "    \"\"\"\n",
    "        Computes features from a give input image.\n",
    "        returns a Python list of feature maps (numpy arrays, the same size as the image)\n",
    "        that contain the result of the convolution of each filter with the input image.\n",
    "        \n",
    "        As mentioned in the lecture, given the input image 'img', only the green channel\n",
    "        is typically used in retina fundus image analysis. Therefore, the green channel\n",
    "        is extracted, and you can use it as input for all subsequent steps in this function.\n",
    "    \"\"\"    \n",
    "    img_green = img[:,:,1]\n",
    "    # the first feature element is the green channel itself    \n",
    "    features = [img_green]\n",
    "    \n",
    "    # YOUR CODE HERE\n",
    "    return features"
   ]
  },
  {
   "cell_type": "code",
   "execution_count": null,
   "metadata": {
    "deletable": false,
    "editable": false,
    "nbgrader": {
     "cell_type": "code",
     "checksum": "299112f4d37372f87289a0b91137b545",
     "grade": true,
     "grade_id": "cell-c834aadad1d827cd",
     "locked": true,
     "points": 10,
     "schema_version": 3,
     "solution": false,
     "task": false
    }
   },
   "outputs": [],
   "source": [
    "\"\"\"DO NOT MODIFY THIS CELL\"\"\"\n"
   ]
  },
  {
   "cell_type": "markdown",
   "metadata": {
    "deletable": false,
    "editable": false,
    "nbgrader": {
     "cell_type": "markdown",
     "checksum": "e4c874857d449b483d3db7bc0be5abc5",
     "grade": false,
     "grade_id": "cell-66e2e3a645692388",
     "locked": true,
     "schema_version": 3,
     "solution": false,
     "task": false
    }
   },
   "source": [
    "You can visualize the output of your feature extraction function here:"
   ]
  },
  {
   "cell_type": "code",
   "execution_count": null,
   "metadata": {
    "run_control": {
     "frozen": false,
     "read_only": false
    }
   },
   "outputs": [],
   "source": [
    "n_img = 0  # select the image in the training set\n",
    "img = train_imgs[n_img]\n",
    "features = extract_features(img)\n",
    "matplotlib.rcParams['figure.figsize'] = (2, 2)\n",
    "for i, f in enumerate(features):\n",
    "    print('Image {}'.format(i))\n",
    "    plt.imshow(f, cmap='gray')\n",
    "    plt.show()"
   ]
  },
  {
   "cell_type": "markdown",
   "metadata": {
    "deletable": false,
    "editable": false,
    "nbgrader": {
     "cell_type": "markdown",
     "checksum": "806951e57b7650c64a9962b2b788c81a",
     "grade": false,
     "grade_id": "cell-08da110ef7c26d85",
     "locked": true,
     "schema_version": 3,
     "solution": false,
     "task": false
    }
   },
   "source": [
    "**Question:** When implemented according to the paper, how many features does your `extract_features` function generate? Explain where these features come from."
   ]
  },
  {
   "cell_type": "markdown",
   "metadata": {
    "deletable": false,
    "nbgrader": {
     "cell_type": "markdown",
     "checksum": "b6e98c3f17ce6a3b066cfae2ef1ea3b8",
     "grade": true,
     "grade_id": "cell-a2ed466e579ea527",
     "locked": false,
     "points": 10,
     "schema_version": 3,
     "solution": true,
     "task": false
    }
   },
   "source": [
    "YOUR ANSWER HERE"
   ]
  },
  {
   "cell_type": "markdown",
   "metadata": {
    "deletable": false,
    "editable": false,
    "nbgrader": {
     "cell_type": "markdown",
     "checksum": "cb99449f8c673e2d5f495b0ee3c983f1",
     "grade": false,
     "grade_id": "cell-44bf0b48879bf161",
     "locked": true,
     "schema_version": 3,
     "solution": false,
     "task": false
    }
   },
   "source": [
    "### Generate training data\n",
    "\n",
    "We have read images, masks and manual annotations from the training set already:\n",
    "* train_imgs (images)\n",
    "* train_msks (masks)\n",
    "* train_lbls (labels)\n",
    "\n",
    "Now, we initialize the numpy arrays that will contain training **samples (x)** and corresponding training **labels (y)**. The matrix `x_train` will contain the features of each pixel in the training set, one sample per row, and one feature per column. The vector `y_train` will contain the corresponding label of each training sample. "
   ]
  },
  {
   "cell_type": "markdown",
   "metadata": {
    "deletable": false,
    "editable": false,
    "nbgrader": {
     "cell_type": "markdown",
     "checksum": "8958c4681b659fcb34c1d25a56443f53",
     "grade": false,
     "grade_id": "cell-905a0927a6cde1b9",
     "locked": true,
     "schema_version": 3,
     "solution": false,
     "task": false
    }
   },
   "source": [
    "Pick a reasonable number for `n_samples_per_class_per_image`. More samples will likely result in better performance, but may make your method slow. 10 samples per class per image is probably the minimum you need for some indicative results if you want state of the art, you can take up to 2000 or more samples, but beware that this may result in long processing times."
   ]
  },
  {
   "cell_type": "code",
   "execution_count": null,
   "metadata": {
    "deletable": false,
    "nbgrader": {
     "cell_type": "code",
     "checksum": "adf8a0968f1d9ff96be35618877ce085",
     "grade": false,
     "grade_id": "cell-8cc3c4d9863f2e75",
     "locked": false,
     "schema_version": 3,
     "solution": true,
     "task": false
    },
    "run_control": {
     "frozen": false,
     "read_only": false
    }
   },
   "outputs": [],
   "source": [
    "n_samples_per_class_per_image = None\n",
    "n_classes = None\n",
    "n_features = None\n",
    "\n",
    "# YOUR CODE HERE"
   ]
  },
  {
   "cell_type": "code",
   "execution_count": null,
   "metadata": {
    "deletable": false,
    "editable": false,
    "nbgrader": {
     "cell_type": "code",
     "checksum": "a2ee28dd9ae21654e03bd232c9ce0ad2",
     "grade": true,
     "grade_id": "cell-8cc3c4d9863f2e76",
     "locked": true,
     "points": 5,
     "schema_version": 3,
     "solution": false,
     "task": false
    },
    "run_control": {
     "frozen": false,
     "read_only": false
    }
   },
   "outputs": [],
   "source": [
    "\"\"\"DO NOT MODIFY THIS CELL\"\"\""
   ]
  },
  {
   "cell_type": "code",
   "execution_count": null,
   "metadata": {
    "deletable": false,
    "editable": false,
    "nbgrader": {
     "cell_type": "code",
     "checksum": "eff5ba55d6990fa1d0535520ed619950",
     "grade": false,
     "grade_id": "cell-8cc3c4d9863f2e77",
     "locked": true,
     "schema_version": 3,
     "solution": false,
     "task": false
    },
    "run_control": {
     "frozen": false,
     "read_only": false
    }
   },
   "outputs": [],
   "source": [
    "vector_size = n_classes * n_samples_per_class_per_image * len(train_imgs)\n",
    "\n",
    "# x_train will contain the vector of features, extracted at <vector_size> locations in the training set\n",
    "x_train = np.zeros((vector_size, n_features))\n",
    "# y_train will contain the corresponding labels\n",
    "y_train = np.zeros(vector_size)"
   ]
  },
  {
   "cell_type": "markdown",
   "metadata": {
    "deletable": false,
    "editable": false,
    "nbgrader": {
     "cell_type": "markdown",
     "checksum": "e6cf04e19b54364fadf9deddf896be02",
     "grade": false,
     "grade_id": "cell-e30afdb9aad81d97",
     "locked": true,
     "schema_version": 3,
     "solution": false,
     "task": false
    }
   },
   "source": [
    "The following function is useful when you want to collect samples randomly selected from a given binary mask, for example when you want to obtain positive and negative samples from a segmentation map. In the case of vessel segmentation, this function can be used to obtain a given number of coordinates that contain pixels labeled as vessel or non-vessel. "
   ]
  },
  {
   "cell_type": "code",
   "execution_count": null,
   "metadata": {
    "deletable": false,
    "editable": false,
    "nbgrader": {
     "cell_type": "code",
     "checksum": "8e4941cbc8f354f6b650bc6619872ef2",
     "grade": false,
     "grade_id": "cell-80384991ed7e7a2c",
     "locked": true,
     "schema_version": 3,
     "solution": false,
     "task": false
    },
    "run_control": {
     "frozen": false,
     "read_only": false
    }
   },
   "outputs": [],
   "source": [
    "def get_random_indices(array, n):\n",
    "    '''\n",
    "    returns n indices (as a tuple of x-coords and y-coords) where the array is True\n",
    "    '''\n",
    "    x, y = np.where(array)\n",
    "    ixs = np.random.choice(len(x), size=n, replace=False)\n",
    "    return x[ixs], y[ixs]"
   ]
  },
  {
   "cell_type": "markdown",
   "metadata": {
    "deletable": false,
    "editable": false,
    "nbgrader": {
     "cell_type": "markdown",
     "checksum": "bad85e3d0d14ac057091520a4dd0f6e5",
     "grade": false,
     "grade_id": "cell-32443829dea70da0",
     "locked": true,
     "schema_version": 3,
     "solution": false,
     "task": false
    }
   },
   "source": [
    "The following piece of code will loop through the images in the training set and extract features using the feature extractor you implemented. Next it will pick random locations (using the function above) in the image for background pixels and foreground pixels. \n",
    "Using these locations and the produced features you can now fill the numpy arrays `x_train` and `y_train` with a set of training samples (x) and corresponding training labels (y) to be used for training.\n",
    "**Hint: think of features as a [height x width x features] matrix, so every x,y location contains a vector of features**"
   ]
  },
  {
   "cell_type": "code",
   "execution_count": null,
   "metadata": {
    "deletable": false,
    "nbgrader": {
     "cell_type": "code",
     "checksum": "40a20144856f494db19a755287956622",
     "grade": false,
     "grade_id": "cell-6779343a0c7a5cdd",
     "locked": false,
     "schema_version": 3,
     "solution": true,
     "task": false
    },
    "run_control": {
     "frozen": false,
     "read_only": false
    }
   },
   "outputs": [],
   "source": [
    "def extract_training_data(train_imgs, train_lbls, train_msks, n_samples_per_class_per_image, n_classes):\n",
    "    x_train = np.zeros((len(train_imgs) * n_samples_per_class_per_image * n_classes, len(extract_features(train_imgs[0]))))\n",
    "    y_train = np.zeros(len(train_imgs) * n_samples_per_class_per_image * n_classes)\n",
    "\n",
    "    for i, (img, lbl, msk) in enumerate(zip(train_imgs, train_lbls, train_msks)):\n",
    "        # extract features from the given image\n",
    "        features = extract_features(img)\n",
    "        \n",
    "        # make two boolean arrays, the same size as the image\n",
    "        # positive_samples should be True at vessel pixels\n",
    "        # negative_samples should be True at background pixels (but not outside the mask!)\n",
    "        # You can use the numpy element wise logical operations \n",
    "        positive_samples = None\n",
    "        negative_samples = None          \n",
    "        # YOUR CODE HERE\n",
    "        # extract indices for our set of samples\n",
    "        p_idx = get_random_indices(positive_samples, n_samples_per_class_per_image)    \n",
    "        n_idx = get_random_indices(negative_samples, n_samples_per_class_per_image) \n",
    "        \n",
    "        # NOW:\n",
    "        # extract positive and negative samples from the produced features and place them in x_train\n",
    "        # create labels and place them in y_train\n",
    "        # YOUR CODE HERE\n",
    "        \n",
    "    return x_train, y_train\n",
    "\n",
    "x_train, y_train = extract_training_data(train_imgs, train_lbls, train_msks, n_samples_per_class_per_image, n_classes)"
   ]
  },
  {
   "cell_type": "code",
   "execution_count": null,
   "metadata": {
    "deletable": false,
    "editable": false,
    "nbgrader": {
     "cell_type": "code",
     "checksum": "6c2b1a99fb125b9f5264bfd4ba9aad8f",
     "grade": true,
     "grade_id": "cell-71869c4544bcefae",
     "locked": true,
     "points": 20,
     "schema_version": 3,
     "solution": false,
     "task": false
    },
    "tags": []
   },
   "outputs": [],
   "source": [
    "\"\"\"DO NOT MODIFY THIS CELL\"\"\""
   ]
  },
  {
   "cell_type": "markdown",
   "metadata": {
    "deletable": false,
    "editable": false,
    "nbgrader": {
     "cell_type": "markdown",
     "checksum": "6a298b5fae6741ab9879123767db8d9f",
     "grade": false,
     "grade_id": "cell-723c0047e00d7232",
     "locked": true,
     "schema_version": 3,
     "solution": false,
     "task": false
    }
   },
   "source": [
    "## Normalization"
   ]
  },
  {
   "cell_type": "markdown",
   "metadata": {
    "deletable": false,
    "editable": false,
    "nbgrader": {
     "cell_type": "markdown",
     "checksum": "ee5b085fa71fa6955b131676bc0799be",
     "grade": false,
     "grade_id": "cell-7b218d8689072112",
     "locked": true,
     "schema_version": 3,
     "solution": false,
     "task": false
    }
   },
   "source": [
    "The samples obtained using the code above need to be normalized to obtain good performance. \n",
    "Implement a normalization function that will make sure the training dataset has **zero mean** and **unit variance** in the cell below.\n",
    "The function should also return the mean and standard deviation of your training dataset. **Note**: a division by ```zero``` may cause some numerical problems..."
   ]
  },
  {
   "cell_type": "code",
   "execution_count": null,
   "metadata": {
    "deletable": false,
    "nbgrader": {
     "cell_type": "code",
     "checksum": "1237338cdd037b846a609a6f3ae450be",
     "grade": false,
     "grade_id": "cell-f19a5f76d3f35a5c",
     "locked": false,
     "schema_version": 3,
     "solution": true,
     "task": false
    },
    "run_control": {
     "frozen": false,
     "read_only": false
    }
   },
   "outputs": [],
   "source": [
    "def normalization(x_train):\n",
    "    '''\n",
    "        apply normalization to the samples (x_train)\n",
    "        returns a new array that has been properly normalized, \n",
    "        also returns the mean and standard deviation per feature in the training set \n",
    "    ''' \n",
    "    \n",
    "    \n",
    "    x_train_normalized = None # array of normalized features\n",
    "    mean = None # array of mean value per feature \n",
    "    std = None # array of std value per feature\n",
    "       \n",
    "    \n",
    "    # YOUR CODE HERE\n",
    "    return x_train_normalized, mean, std"
   ]
  },
  {
   "cell_type": "code",
   "execution_count": null,
   "metadata": {
    "deletable": false,
    "editable": false,
    "nbgrader": {
     "cell_type": "code",
     "checksum": "f12b091b6a49f840e755d040354bf7e5",
     "grade": false,
     "grade_id": "cell-0727e110b06b97a6",
     "locked": true,
     "schema_version": 3,
     "solution": false,
     "task": false
    },
    "run_control": {
     "frozen": false,
     "read_only": false
    }
   },
   "outputs": [],
   "source": [
    "x_train_normalized, train_mean, train_std = normalization(x_train)"
   ]
  },
  {
   "cell_type": "code",
   "execution_count": null,
   "metadata": {
    "deletable": false,
    "editable": false,
    "nbgrader": {
     "cell_type": "code",
     "checksum": "097432ee58333c30fea7d8cd56ba55f6",
     "grade": true,
     "grade_id": "cell-fc811587c98695cc",
     "locked": true,
     "points": 5,
     "schema_version": 3,
     "solution": false,
     "task": false
    }
   },
   "outputs": [],
   "source": [
    "\"\"\"DO NOT MODIFY THIS CELL\"\"\""
   ]
  },
  {
   "cell_type": "markdown",
   "metadata": {
    "deletable": false,
    "editable": false,
    "nbgrader": {
     "cell_type": "markdown",
     "checksum": "9877fa85466bad919a6fe7ea97d4609e",
     "grade": false,
     "grade_id": "cell-6e21252d04115ba7",
     "locked": true,
     "schema_version": 3,
     "solution": false,
     "task": false
    }
   },
   "source": [
    "# Step 3: Train the classifier\n",
    "Now that you have created the training data we can use it to train our classifier!\n",
    "The classifier that we have seen in the lecture is k-Nearest Neighbors (kNN).\n",
    "You can use that one, which is available in the ```sklearn``` library (imported at the beginning of this notebook).\n",
    "Pick a meaningful value for ```k``` (the number of neighbors).\n",
    "\n",
    "You will notice that kNN is a **slow** algorithm when you apply it to new data.\n",
    "We propose using it because it is the only one we have seen so far.\n",
    "But if you know other classifiers thath you want to use in this assignment, feel free to do it!"
   ]
  },
  {
   "cell_type": "code",
   "execution_count": null,
   "metadata": {
    "deletable": false,
    "nbgrader": {
     "cell_type": "code",
     "checksum": "9bc4dd03c60112b005e6e8f89155e2b3",
     "grade": false,
     "grade_id": "cell-4c5c2882144a93de",
     "locked": false,
     "schema_version": 3,
     "solution": true,
     "task": false
    },
    "run_control": {
     "frozen": false,
     "read_only": false
    }
   },
   "outputs": [],
   "source": [
    "n_neighbors = None\n",
    "\n",
    "# YOUR CODE HERE\n",
    "\n",
    "\n",
    "\n",
    "classifier = KNeighborsClassifier(n_neighbors=n_neighbors) \n",
    "classifier.fit(x_train_normalized, y_train)"
   ]
  },
  {
   "cell_type": "code",
   "execution_count": null,
   "metadata": {
    "deletable": false,
    "editable": false,
    "nbgrader": {
     "cell_type": "code",
     "checksum": "ce8193ef49e34974cdced9caeb531b0f",
     "grade": true,
     "grade_id": "cell-a7aa673b96ecb36c",
     "locked": true,
     "points": 5,
     "schema_version": 3,
     "solution": false,
     "task": false
    }
   },
   "outputs": [],
   "source": [
    "\"\"\"DO NOT MODIFY THIS CELL\"\"\""
   ]
  },
  {
   "cell_type": "markdown",
   "metadata": {
    "deletable": false,
    "editable": false,
    "nbgrader": {
     "cell_type": "markdown",
     "checksum": "43e88dd3e3fca5f56215f09aa24e9617",
     "grade": false,
     "grade_id": "cell-2d90d25881e0da19",
     "locked": true,
     "schema_version": 3,
     "solution": false,
     "task": false
    }
   },
   "source": [
    "# Step 4: Test the classifier\n",
    "Now that we have a trained classifier we can apply it to some unseen data and evaluate its performance.\n",
    "First we load the test data (note that labels for test data are not available now!):"
   ]
  },
  {
   "cell_type": "code",
   "execution_count": null,
   "metadata": {
    "deletable": false,
    "editable": false,
    "nbgrader": {
     "cell_type": "code",
     "checksum": "25ddc7965bc4dc3a7d24d6e229e0f446",
     "grade": false,
     "grade_id": "cell-f20024b0d87e736c",
     "locked": true,
     "schema_version": 3,
     "solution": false,
     "task": false
    },
    "run_control": {
     "frozen": false,
     "read_only": false
    }
   },
   "outputs": [],
   "source": [
    "test_img_files = get_file_list(data_folder / 'test' / 'images', '.tif')\n",
    "test_msk_files = get_file_list(data_folder / 'test' / 'mask', '.gif')\n",
    "\n",
    "test_imgs = [load_img(f) for f in test_img_files]\n",
    "test_msks = [load_img(f) for f in test_msk_files]"
   ]
  },
  {
   "cell_type": "markdown",
   "metadata": {
    "deletable": false,
    "editable": false,
    "nbgrader": {
     "cell_type": "markdown",
     "checksum": "49dd5a741ba5d66ef13cf9ae4a91837e",
     "grade": false,
     "grade_id": "cell-88cfd848116dbb69",
     "locked": true,
     "schema_version": 3,
     "solution": false,
     "task": false
    },
    "tags": []
   },
   "source": [
    "**Question:** What step is crucial in ensuring that the distributions of the training set and test set do not vary greatly in machine learning?\n",
    "\n",
    "**Question:** How would you perform this step on the test set?"
   ]
  },
  {
   "cell_type": "markdown",
   "metadata": {
    "deletable": false,
    "nbgrader": {
     "cell_type": "markdown",
     "checksum": "3f29c3d065746f685f4f5d2a7e26800a",
     "grade": true,
     "grade_id": "cell-b22fd9bdad4a71a9",
     "locked": false,
     "points": 10,
     "schema_version": 3,
     "solution": true,
     "task": false
    },
    "tags": []
   },
   "source": [
    "YOUR ANSWER HERE"
   ]
  },
  {
   "cell_type": "code",
   "execution_count": null,
   "metadata": {
    "deletable": false,
    "nbgrader": {
     "cell_type": "code",
     "checksum": "6e270f7037cfd2b9d50524921ff43048",
     "grade": false,
     "grade_id": "cell-2188a2b65618a292",
     "locked": false,
     "schema_version": 3,
     "solution": true,
     "task": false
    },
    "run_control": {
     "frozen": false,
     "read_only": false
    }
   },
   "outputs": [],
   "source": [
    "test_mean = None\n",
    "test_std = None\n",
    "\n",
    "# YOUR CODE HERE\n",
    "\n"
   ]
  },
  {
   "cell_type": "code",
   "execution_count": null,
   "metadata": {
    "deletable": false,
    "editable": false,
    "nbgrader": {
     "cell_type": "code",
     "checksum": "888374db9075d14b289176b095ba81dc",
     "grade": true,
     "grade_id": "cell-949c89b35373b8eb",
     "locked": true,
     "points": 5,
     "schema_version": 3,
     "solution": false,
     "task": false
    }
   },
   "outputs": [],
   "source": [
    "\"\"\"DO NOT MODIFY THIS CELL\"\"\""
   ]
  },
  {
   "cell_type": "code",
   "execution_count": null,
   "metadata": {
    "deletable": false,
    "editable": false,
    "nbgrader": {
     "cell_type": "code",
     "checksum": "262580c3dc55e1b7d15ed330d2351946",
     "grade": false,
     "grade_id": "cell-b1415b9a9f30c47a",
     "locked": true,
     "schema_version": 3,
     "solution": false,
     "task": false
    },
    "run_control": {
     "frozen": false,
     "read_only": false
    }
   },
   "outputs": [],
   "source": [
    "def normalization_test(x_test):\n",
    "    '''\n",
    "    Normalization of the test data\n",
    "    ''' \n",
    "    return (x_test - test_mean) / test_std "
   ]
  },
  {
   "cell_type": "markdown",
   "metadata": {
    "deletable": false,
    "editable": false,
    "nbgrader": {
     "cell_type": "markdown",
     "checksum": "b08e297e2333392e5af290687f2f5aba",
     "grade": false,
     "grade_id": "cell-1071ad43caa53fa3",
     "locked": true,
     "schema_version": 3,
     "solution": false,
     "task": false
    }
   },
   "source": [
    "The next function will classify a new, unseen image using our classifier. It will:\n",
    "\n",
    "* Extract features for every pixel in the image\n",
    "* Apply normalization\n",
    "* Classify every pixel\n",
    "* Put the pixels back in the shape of the original image"
   ]
  },
  {
   "cell_type": "code",
   "execution_count": null,
   "metadata": {
    "deletable": false,
    "editable": false,
    "nbgrader": {
     "cell_type": "code",
     "checksum": "76c73efd61cf3a9413c9ba424b74bdf1",
     "grade": false,
     "grade_id": "cell-0d8b5d05344c508a",
     "locked": true,
     "schema_version": 3,
     "solution": false,
     "task": false
    },
    "run_control": {
     "frozen": false,
     "read_only": false
    }
   },
   "outputs": [],
   "source": [
    "def classify_img(classifier, img, msk, threshold):\n",
    "\n",
    "    # compute features\n",
    "    print('extraction features')\n",
    "    features = extract_features(img) \n",
    "    print('features extracted')\n",
    "\n",
    "    h, w, c = img.shape\n",
    "    # reshape the features to an array of feature vectors\n",
    "    x_test = np.moveaxis(np.array(features), 0, 2).reshape((h * w, -1))\n",
    "    # normalize the features\n",
    "    x_test_normalized = normalization_test(x_test)\n",
    "\n",
    "    print('classifying pixels with nearest-neighbor')\n",
    "    p_test = classifier.predict_proba(x_test_normalized)\n",
    "    print('classification done')\n",
    "\n",
    "    # reshape to image format, set pixels outside the mask to zero\n",
    "    p_test_reshaped = p_test[:,1].reshape(h, w) * msk\n",
    "\n",
    "    # Threshold the probabilitymap to obtain the final result\n",
    "    final_output = (p_test_reshaped > threshold) * 255 \n",
    "    \n",
    "    # return the raw output and the thresholded image\n",
    "    return p_test_reshaped, final_output\n"
   ]
  },
  {
   "cell_type": "markdown",
   "metadata": {
    "deletable": false,
    "editable": false,
    "nbgrader": {
     "cell_type": "markdown",
     "checksum": "d73db5ca119f0d65e3af654598c04570",
     "grade": false,
     "grade_id": "cell-20353504f2bf7983",
     "locked": true,
     "schema_version": 3,
     "solution": false,
     "task": false
    }
   },
   "source": [
    "We loop over all the images in the test set and do the following for every image:\n",
    "* classify all pixels, using the above defined `classify_img` function\n",
    "* plot the results\n",
    "* save the thresholded output image as a png file"
   ]
  },
  {
   "cell_type": "code",
   "execution_count": null,
   "metadata": {
    "deletable": false,
    "editable": false,
    "nbgrader": {
     "cell_type": "code",
     "checksum": "e76c39032ed9fac41552b60755baaf6a",
     "grade": false,
     "grade_id": "cell-d51ef03b96b8a338",
     "locked": true,
     "schema_version": 3,
     "solution": false,
     "task": false
    },
    "run_control": {
     "frozen": false,
     "read_only": false
    }
   },
   "outputs": [],
   "source": [
    "# First, we will set the folder where the results will be saved\n",
    "# feel free to modify this location (if you wish not to overwrite previous results)\n",
    "result_output_folder = 'vessel_segmentation_results'\n",
    "\n",
    "result_output_folder = Path(result_output_folder)\n",
    "\n",
    "if not result_output_folder.exists():\n",
    "    result_output_folder.mkdir(parents=True)"
   ]
  },
  {
   "cell_type": "code",
   "execution_count": null,
   "metadata": {},
   "outputs": [],
   "source": [
    "# optimize this parameter (values 0-255)\n",
    "optimal_threshold = 128\n",
    "\n",
    "for i, (img, msk) in enumerate(zip(test_imgs, test_msks)):\n",
    "    print('processing image:', i)\n",
    "    raw_output, final_output = classify_img(classifier, img, msk, optimal_threshold)\n",
    "\n",
    "    # plot the results\n",
    "    matplotlib.rcParams['figure.figsize'] = (10, 6)\n",
    "    plt.subplot(1, 3, 1).set_title('Input Img')\n",
    "    plt.imshow(img)\n",
    "    plt.subplot(1, 3, 2).set_title('Raw output')\n",
    "    plt.imshow(raw_output)\n",
    "    plt.subplot(1, 3, 3).set_title('Final Output')\n",
    "    plt.imshow(final_output)\n",
    "    plt.show()\n",
    "\n",
    "    # save the image as png file\n",
    "    im = Image.fromarray(final_output.astype('uint8'))\n",
    "    im.save(os.path.join(result_output_folder, \"{}.png\".format(i + 1)))"
   ]
  },
  {
   "cell_type": "markdown",
   "metadata": {
    "deletable": false,
    "editable": false,
    "nbgrader": {
     "cell_type": "markdown",
     "checksum": "4a8a152d19515d57976660d6f3a0e449",
     "grade": false,
     "grade_id": "cell-c426496bebee8d5b",
     "locked": true,
     "schema_version": 3,
     "solution": false,
     "task": false
    }
   },
   "source": [
    "**Question:** What is the output of your kNN classifier? Did you obtain a label for each pixel? How is that label computed?\n"
   ]
  },
  {
   "cell_type": "markdown",
   "metadata": {
    "deletable": false,
    "nbgrader": {
     "cell_type": "markdown",
     "checksum": "7e614b46cd023b6a01f35b3714466b0e",
     "grade": true,
     "grade_id": "cell-2c259648ead48180",
     "locked": false,
     "points": 10,
     "schema_version": 3,
     "solution": true,
     "task": false
    }
   },
   "source": [
    "YOUR ANSWER HERE"
   ]
  },
  {
   "cell_type": "markdown",
   "metadata": {
    "deletable": false,
    "editable": false,
    "nbgrader": {
     "cell_type": "markdown",
     "checksum": "a9b3176d1564b103f35b20115d131b76",
     "grade": false,
     "grade_id": "cell-c4ac441ba580d5f0",
     "locked": true,
     "schema_version": 3,
     "solution": false,
     "task": false
    }
   },
   "source": [
    "# Step 5: Submit your results!\n",
    "\n",
    "After processing all the images in the test set you can execute the cell below to create a zip-file of the images with the segmentation results."
   ]
  },
  {
   "cell_type": "code",
   "execution_count": null,
   "metadata": {
    "deletable": false,
    "editable": false,
    "nbgrader": {
     "cell_type": "code",
     "checksum": "d5492fb3da8459ecdf3f73e47701027b",
     "grade": false,
     "grade_id": "cell-2335bd45bc8adaeb",
     "locked": true,
     "schema_version": 3,
     "solution": false,
     "task": false
    },
    "run_control": {
     "frozen": false,
     "read_only": false
    }
   },
   "outputs": [],
   "source": [
    "shutil.make_archive('results', 'zip', result_output_folder)"
   ]
  },
  {
   "cell_type": "markdown",
   "metadata": {
    "deletable": false,
    "editable": false,
    "nbgrader": {
     "cell_type": "markdown",
     "checksum": "1339c01b73fedd02b283624fb108c7ee",
     "grade": false,
     "grade_id": "cell-47e39c949a9410cc",
     "locked": true,
     "schema_version": 3,
     "solution": false,
     "task": false
    }
   },
   "source": [
    "You can now download this zipfile `results.zip` from the file explorer on the left.\n",
    "Next, upload your result to the challenge website (https://drive.grand-challenge.org/evaluation/submissions/create/) and see how well you performed compared to your fellow students! You can submit as often as you want, only the best result counts.  "
   ]
  },
  {
   "cell_type": "markdown",
   "metadata": {
    "deletable": false,
    "editable": false,
    "nbgrader": {
     "cell_type": "markdown",
     "checksum": "2d5cbbb0876515de1081491696da2a37",
     "grade": false,
     "grade_id": "cell-811a1fdf2703c6b5",
     "locked": true,
     "points": 20,
     "schema_version": 3,
     "solution": false,
     "task": true
    }
   },
   "source": [
    "# Second task (20 points)\n",
    "### Improve your results!\n",
    "\n",
    "Try to improve your results and resubmit.\n",
    "\n",
    "A few ideas to improve the system are:\n",
    "\n",
    "* Change the threshold\n",
    "* More training samples\n",
    "* Different classifier (if you know any)\n",
    "* More features (Directional filters, local binary patterns, Gabor filters, get creative!\n",
    "* Postprocessing to improve the results (morphological operations), for example remove the rim around the field of view (which is obviously not part of a vessel), remove noise, etc."
   ]
  },
  {
   "cell_type": "code",
   "execution_count": null,
   "metadata": {
    "run_control": {
     "frozen": false,
     "read_only": false
    }
   },
   "outputs": [],
   "source": [
    "# Use these cells to write improve your solution, please do not add new cells!"
   ]
  },
  {
   "cell_type": "code",
   "execution_count": null,
   "metadata": {},
   "outputs": [],
   "source": []
  },
  {
   "cell_type": "code",
   "execution_count": null,
   "metadata": {},
   "outputs": [],
   "source": []
  },
  {
   "cell_type": "code",
   "execution_count": null,
   "metadata": {},
   "outputs": [],
   "source": []
  },
  {
   "cell_type": "code",
   "execution_count": null,
   "metadata": {},
   "outputs": [],
   "source": []
  }
 ],
 "metadata": {
  "kernelspec": {
   "display_name": "Python 3 (ipykernel)",
   "language": "python",
   "name": "python3"
  },
  "language_info": {
   "codemirror_mode": {
    "name": "ipython",
    "version": 3
   },
   "file_extension": ".py",
   "mimetype": "text/x-python",
   "name": "python",
   "nbconvert_exporter": "python",
   "pygments_lexer": "ipython3",
   "version": "3.8.12"
  }
 },
 "nbformat": 4,
 "nbformat_minor": 4
}
