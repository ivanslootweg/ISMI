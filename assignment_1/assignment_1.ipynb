{
  "cells": [
    {
      "cell_type": "markdown",
      "metadata": {
        "id": "9-lKGdMEUHOg"
      },
      "source": [
        "# Intelligent Systems in Medical Imaging 2023\n",
        "\n",
        "This Jupyter notebook is part of the course Intelligent Systems in Medical Imaging (ISMI) from Radboud University (Nijmegen, Netherlands), and it was developed by researchers of Radboud University Medical Center (Nijmegen, Netherlands).\n",
        "\n",
        "You should have obtained this notebook by downloading it from the official Brightspace page of the course.\n",
        "\n",
        "This notebook formulates an assignment as part of the ISMI course, and the content of this notebook should be used solely to develop a solution to this assignment. You should not make the code provided in this notebook, or your own solution, publicly available."
      ]
    },
    {
      "cell_type": "markdown",
      "metadata": {
        "id": "KL2svg14UHOk"
      },
      "source": [
        "## Teaching Assistants\n",
        "\n",
        "* Bram de Wilde (bram.dewilde@radboudumc.nl)\n",
        "* Pierpaolo Vendittelli (pierpaolo.vendittelli@radboudumc.nl)\n",
        "* Joeran Bosma (joeran.bosma@radboudumc.nl)\n",
        "* Stephan Dooper (stephan.dooper@radboudumc.nl)\n",
        "\n",
        "For questions about the assignments that go beyond the content, you can contact Bram de Wilde. Questions about the content are addressed in the tutorial sessions. You are also encouraged to use the Brightspace discussion forums to discuss content of the assignments. We will also keep an eye out there to help!"
      ]
    },
    {
      "cell_type": "markdown",
      "metadata": {
        "id": "MWrBqe3iUHOm"
      },
      "source": [
        "## Guidelines and instructions\n",
        "Make sure you write code in any place that says \"YOUR CODE HERE\" by substituting `None` variables or by adding your own solution. Make sure you write in any place that says \"YOUR ANSWER HERE\" with your answers to the questions.\n",
        "\n",
        "Please **do not delete or add any cells**.\n",
        "\n",
        "Before you turn this problem in, make sure everything runs without errors. The easiest way to check this is to restart the kernel and run all cells (in the menubar, select Runtime$\\rightarrow$Restart & Run All).\n",
        "\n",
        "* Groups: You should work in **groups of 2 or 3 people**. (groups of 2 are preferred!)\n",
        "* You are expected to work in Google Colab. If you run the notebooks locally, you may have to solve some issues yourself!\n",
        "* Submit your **fully executed** notebook to Brightspace with file name format: `GroupN_NameSurname1_NameSurname2_NameSurname3.ipynb`\n",
        "* The deadlines for all assignments are on Brightspace.\n",
        "* Deadlines are soft, but make an effort to be on time. We prioritise feedback on assignments that are handed in before the deadline.\n",
        "* Each assignment has 100 points, your grade is your total number of points divided by 10.\n",
        "* The assignments are mandatory, but **do not count** towards your final grade for the course.\n",
        "* For assignments where you have to submit to grand-challenge.org, use team name format `ismi-GroupN-nickname1`.\n",
        "* When working with Google Colab, we advise you to download model checkpoints (.h5 files). This way you don't lose your checkpoint if your session times out. Also, don't forget to connect to a **GPU runtime** when training neural networks!\n",
        "* In Google Colab, you can mount your Google Drive to save files, by clicking the Folder icon on the left, and then click the Mount Drive icon.\n",
        "\n",
        "There are more detailed instructions on Brightspace on how to use Google Colab for the assignments. You can find it here: https://brightspace.ru.nl/d2l/le/content/333312/Home"
      ]
    },
    {
      "cell_type": "markdown",
      "metadata": {
        "id": "YB70aKXJUHOp"
      },
      "source": [
        "## Students\n",
        "Please fill in this cell with your names, e-mail address and s-numbers. This information will be used to grade your assignment.\n",
        "\n",
        "* Sven van der Post, s1028679, sven.vanderpost@ru.nl\n",
        "* [Name student #2], [s-number], [e-mail address]\n",
        "* [Name student #3], [s-number], [e-mail address]"
      ]
    },
    {
      "cell_type": "markdown",
      "metadata": {
        "deletable": false,
        "editable": false,
        "nbgrader": {
          "cell_type": "markdown",
          "checksum": "5c5aae66972d8ec32a73d20775a70924",
          "grade": false,
          "grade_id": "cell-94bcb4b803fa8b7c",
          "locked": true,
          "schema_version": 3,
          "solution": false,
          "task": false
        },
        "id": "e_VL4s2rUHOr"
      },
      "source": [
        "# Introduction to CAD systems and image processing basic\n",
        "In this first assignment, you will implement and apply some basic image processing techniques, while getting familiar with a few types of medical imaging data.\n",
        "In particular, you will be working with data from:\n",
        "* mammography (breast, 2D)\n",
        "* histopathology (colon, 2D)\n",
        "* chest CT (lungs, 3D)\n",
        "\n",
        "You will implement the following techniques:\n",
        "1. conversion of raw mammography data into a gray-scale image\n",
        "2. stain normalization in digital pathology with histogram matching\n",
        "3. trachea detection in chest CT with blob detection\n",
        "\n",
        "First, import the libraries necessary for this assignment."
      ]
    },
    {
      "cell_type": "code",
      "execution_count": 1,
      "metadata": {
        "deletable": false,
        "editable": false,
        "nbgrader": {
          "cell_type": "code",
          "checksum": "5e75afbeac82a3706f50f68cde6ddf5c",
          "grade": false,
          "grade_id": "cell-97d8d132de4d608a",
          "locked": true,
          "schema_version": 3,
          "solution": false,
          "task": false
        },
        "tags": [],
        "colab": {
          "base_uri": "https://localhost:8080/"
        },
        "id": "kW8HDDbMUHOs",
        "outputId": "8a10d33a-bce8-40fb-b7c3-000ead8d418e"
      },
      "outputs": [
        {
          "output_type": "stream",
          "name": "stdout",
          "text": [
            "\u001b[2K     \u001b[90m━━━━━━━━━━━━━━━━━━━━━━━━━━━━━━━━━━━━━━━━\u001b[0m \u001b[32m10.8/10.8 MB\u001b[0m \u001b[31m49.9 MB/s\u001b[0m eta \u001b[36m0:00:00\u001b[0m\n",
            "\u001b[2K     \u001b[90m━━━━━━━━━━━━━━━━━━━━━━━━━━━━━━━━━━━━━━━━\u001b[0m \u001b[32m52.7/52.7 MB\u001b[0m \u001b[31m12.6 MB/s\u001b[0m eta \u001b[36m0:00:00\u001b[0m\n",
            "\u001b[2K     \u001b[90m━━━━━━━━━━━━━━━━━━━━━━━━━━━━━━━━━━━━━━━━\u001b[0m \u001b[32m72.0/72.0 KB\u001b[0m \u001b[31m7.8 MB/s\u001b[0m eta \u001b[36m0:00:00\u001b[0m\n",
            "\u001b[2K     \u001b[90m━━━━━━━━━━━━━━━━━━━━━━━━━━━━━━━━━━━━━━\u001b[0m \u001b[32m210.6/210.6 KB\u001b[0m \u001b[31m20.5 MB/s\u001b[0m eta \u001b[36m0:00:00\u001b[0m\n",
            "\u001b[2K     \u001b[90m━━━━━━━━━━━━━━━━━━━━━━━━━━━━━━━━━━━━━━\u001b[0m \u001b[32m274.9/274.9 KB\u001b[0m \u001b[31m25.0 MB/s\u001b[0m eta \u001b[36m0:00:00\u001b[0m\n",
            "\u001b[2K     \u001b[90m━━━━━━━━━━━━━━━━━━━━━━━━━━━━━━━━━━━━━━\u001b[0m \u001b[32m439.1/439.1 KB\u001b[0m \u001b[31m34.2 MB/s\u001b[0m eta \u001b[36m0:00:00\u001b[0m\n",
            "\u001b[2K     \u001b[90m━━━━━━━━━━━━━━━━━━━━━━━━━━━━━━━━━━━━━━━━\u001b[0m \u001b[32m56.4/56.4 KB\u001b[0m \u001b[31m5.7 MB/s\u001b[0m eta \u001b[36m0:00:00\u001b[0m\n",
            "\u001b[2K     \u001b[90m━━━━━━━━━━━━━━━━━━━━━━━━━━━━━━━━━━━━━━━━\u001b[0m \u001b[32m62.8/62.8 KB\u001b[0m \u001b[31m6.4 MB/s\u001b[0m eta \u001b[36m0:00:00\u001b[0m\n",
            "\u001b[2K     \u001b[90m━━━━━━━━━━━━━━━━━━━━━━━━━━━━━━━━━━━━━━━━\u001b[0m \u001b[32m1.6/1.6 MB\u001b[0m \u001b[31m68.9 MB/s\u001b[0m eta \u001b[36m0:00:00\u001b[0m\n",
            "\u001b[2K     \u001b[90m━━━━━━━━━━━━━━━━━━━━━━━━━━━━━━━━━━━━━━━━\u001b[0m \u001b[32m8.9/8.9 MB\u001b[0m \u001b[31m88.7 MB/s\u001b[0m eta \u001b[36m0:00:00\u001b[0m\n",
            "\u001b[2K     \u001b[90m━━━━━━━━━━━━━━━━━━━━━━━━━━━━━━━━━━━━━━━━\u001b[0m \u001b[32m2.2/2.2 MB\u001b[0m \u001b[31m41.7 MB/s\u001b[0m eta \u001b[36m0:00:00\u001b[0m\n",
            "\u001b[2K     \u001b[90m━━━━━━━━━━━━━━━━━━━━━━━━━━━━━━━━━━━━━━\u001b[0m \u001b[32m102.0/102.0 KB\u001b[0m \u001b[31m10.8 MB/s\u001b[0m eta \u001b[36m0:00:00\u001b[0m\n",
            "\u001b[2K     \u001b[90m━━━━━━━━━━━━━━━━━━━━━━━━━━━━━━━━━━━━━━\u001b[0m \u001b[32m365.3/365.3 KB\u001b[0m \u001b[31m28.9 MB/s\u001b[0m eta \u001b[36m0:00:00\u001b[0m\n",
            "\u001b[2K     \u001b[90m━━━━━━━━━━━━━━━━━━━━━━━━━━━━━━━━━━━━━━\u001b[0m \u001b[32m133.1/133.1 KB\u001b[0m \u001b[31m13.7 MB/s\u001b[0m eta \u001b[36m0:00:00\u001b[0m\n",
            "\u001b[2K     \u001b[90m━━━━━━━━━━━━━━━━━━━━━━━━━━━━━━━━━━━━━━\u001b[0m \u001b[32m439.1/439.1 KB\u001b[0m \u001b[31m29.2 MB/s\u001b[0m eta \u001b[36m0:00:00\u001b[0m\n",
            "\u001b[2K     \u001b[90m━━━━━━━━━━━━━━━━━━━━━━━━━━━━━━━━━━━━━━━━\u001b[0m \u001b[32m9.9/9.9 MB\u001b[0m \u001b[31m51.3 MB/s\u001b[0m eta \u001b[36m0:00:00\u001b[0m\n",
            "\u001b[2K     \u001b[90m━━━━━━━━━━━━━━━━━━━━━━━━━━━━━━━━━━━━━━\u001b[0m \u001b[32m424.0/424.0 KB\u001b[0m \u001b[31m36.7 MB/s\u001b[0m eta \u001b[36m0:00:00\u001b[0m\n",
            "\u001b[2K     \u001b[90m━━━━━━━━━━━━━━━━━━━━━━━━━━━━━━━━━━━━━━━━\u001b[0m \u001b[32m78.7/78.7 KB\u001b[0m \u001b[31m8.5 MB/s\u001b[0m eta \u001b[36m0:00:00\u001b[0m\n",
            "\u001b[2K     \u001b[90m━━━━━━━━━━━━━━━━━━━━━━━━━━━━━━━━━━━━━━━━\u001b[0m \u001b[32m1.6/1.6 MB\u001b[0m \u001b[31m69.7 MB/s\u001b[0m eta \u001b[36m0:00:00\u001b[0m\n",
            "\u001b[2K     \u001b[90m━━━━━━━━━━━━━━━━━━━━━━━━━━━━━━━━━━━━━━━━\u001b[0m \u001b[32m93.5/93.5 KB\u001b[0m \u001b[31m9.7 MB/s\u001b[0m eta \u001b[36m0:00:00\u001b[0m\n",
            "\u001b[2K     \u001b[90m━━━━━━━━━━━━━━━━━━━━━━━━━━━━━━━━━━━━━━━━\u001b[0m \u001b[32m93.5/93.5 KB\u001b[0m \u001b[31m9.4 MB/s\u001b[0m eta \u001b[36m0:00:00\u001b[0m\n",
            "\u001b[2K     \u001b[90m━━━━━━━━━━━━━━━━━━━━━━━━━━━━━━━━━━━━━━━━\u001b[0m \u001b[32m93.5/93.5 KB\u001b[0m \u001b[31m9.5 MB/s\u001b[0m eta \u001b[36m0:00:00\u001b[0m\n",
            "\u001b[2K     \u001b[90m━━━━━━━━━━━━━━━━━━━━━━━━━━━━━━━━━━━━━━━━\u001b[0m \u001b[32m93.5/93.5 KB\u001b[0m \u001b[31m10.5 MB/s\u001b[0m eta \u001b[36m0:00:00\u001b[0m\n",
            "\u001b[2K     \u001b[90m━━━━━━━━━━━━━━━━━━━━━━━━━━━━━━━━━━━━━━━━\u001b[0m \u001b[32m93.2/93.2 KB\u001b[0m \u001b[31m10.1 MB/s\u001b[0m eta \u001b[36m0:00:00\u001b[0m\n",
            "\u001b[2K     \u001b[90m━━━━━━━━━━━━━━━━━━━━━━━━━━━━━━━━━━━━━━━━\u001b[0m \u001b[32m92.7/92.7 KB\u001b[0m \u001b[31m9.3 MB/s\u001b[0m eta \u001b[36m0:00:00\u001b[0m\n",
            "\u001b[2K     \u001b[90m━━━━━━━━━━━━━━━━━━━━━━━━━━━━━━━━━━━━━━━━\u001b[0m \u001b[32m91.1/91.1 KB\u001b[0m \u001b[31m9.5 MB/s\u001b[0m eta \u001b[36m0:00:00\u001b[0m\n",
            "\u001b[2K     \u001b[90m━━━━━━━━━━━━━━━━━━━━━━━━━━━━━━━━━━━━━━━━\u001b[0m \u001b[32m1.1/1.1 MB\u001b[0m \u001b[31m47.5 MB/s\u001b[0m eta \u001b[36m0:00:00\u001b[0m\n",
            "\u001b[2K     \u001b[90m━━━━━━━━━━━━━━━━━━━━━━━━━━━━━━━━━━━━━━\u001b[0m \u001b[32m365.2/365.2 KB\u001b[0m \u001b[31m29.6 MB/s\u001b[0m eta \u001b[36m0:00:00\u001b[0m\n",
            "\u001b[2K     \u001b[90m━━━━━━━━━━━━━━━━━━━━━━━━━━━━━━━━━━━━━━━━\u001b[0m \u001b[32m80.6/80.6 KB\u001b[0m \u001b[31m7.8 MB/s\u001b[0m eta \u001b[36m0:00:00\u001b[0m\n",
            "\u001b[2K     \u001b[90m━━━━━━━━━━━━━━━━━━━━━━━━━━━━━━━━━━━━━━\u001b[0m \u001b[32m365.2/365.2 KB\u001b[0m \u001b[31m31.0 MB/s\u001b[0m eta \u001b[36m0:00:00\u001b[0m\n",
            "\u001b[2K     \u001b[90m━━━━━━━━━━━━━━━━━━━━━━━━━━━━━━━━━━━━━━\u001b[0m \u001b[32m364.0/364.0 KB\u001b[0m \u001b[31m31.1 MB/s\u001b[0m eta \u001b[36m0:00:00\u001b[0m\n",
            "\u001b[2K     \u001b[90m━━━━━━━━━━━━━━━━━━━━━━━━━━━━━━━━━━━━━━\u001b[0m \u001b[32m361.1/361.1 KB\u001b[0m \u001b[31m31.8 MB/s\u001b[0m eta \u001b[36m0:00:00\u001b[0m\n",
            "\u001b[2K     \u001b[90m━━━━━━━━━━━━━━━━━━━━━━━━━━━━━━━━━━━━━━\u001b[0m \u001b[32m361.0/361.0 KB\u001b[0m \u001b[31m31.0 MB/s\u001b[0m eta \u001b[36m0:00:00\u001b[0m\n",
            "\u001b[2K     \u001b[90m━━━━━━━━━━━━━━━━━━━━━━━━━━━━━━━━━━━━━━\u001b[0m \u001b[32m361.0/361.0 KB\u001b[0m \u001b[31m25.2 MB/s\u001b[0m eta \u001b[36m0:00:00\u001b[0m\n",
            "\u001b[2K     \u001b[90m━━━━━━━━━━━━━━━━━━━━━━━━━━━━━━━━━━━━━━\u001b[0m \u001b[32m360.9/360.9 KB\u001b[0m \u001b[31m29.1 MB/s\u001b[0m eta \u001b[36m0:00:00\u001b[0m\n",
            "\u001b[2K     \u001b[90m━━━━━━━━━━━━━━━━━━━━━━━━━━━━━━━━━━━━━━\u001b[0m \u001b[32m360.5/360.5 KB\u001b[0m \u001b[31m26.1 MB/s\u001b[0m eta \u001b[36m0:00:00\u001b[0m\n",
            "\u001b[2K     \u001b[90m━━━━━━━━━━━━━━━━━━━━━━━━━━━━━━━━━━━━━━\u001b[0m \u001b[32m347.0/347.0 KB\u001b[0m \u001b[31m25.9 MB/s\u001b[0m eta \u001b[36m0:00:00\u001b[0m\n",
            "\u001b[2K     \u001b[90m━━━━━━━━━━━━━━━━━━━━━━━━━━━━━━━━━━━━━━━━\u001b[0m \u001b[32m55.9/55.9 KB\u001b[0m \u001b[31m4.8 MB/s\u001b[0m eta \u001b[36m0:00:00\u001b[0m\n",
            "\u001b[2K     \u001b[90m━━━━━━━━━━━━━━━━━━━━━━━━━━━━━━━━━━━━━━━━\u001b[0m \u001b[32m89.9/89.9 KB\u001b[0m \u001b[31m9.6 MB/s\u001b[0m eta \u001b[36m0:00:00\u001b[0m\n",
            "\u001b[2K     \u001b[90m━━━━━━━━━━━━━━━━━━━━━━━━━━━━━━━━━━━━━━━━\u001b[0m \u001b[32m90.4/90.4 KB\u001b[0m \u001b[31m9.4 MB/s\u001b[0m eta \u001b[36m0:00:00\u001b[0m\n",
            "\u001b[2K     \u001b[90m━━━━━━━━━━━━━━━━━━━━━━━━━━━━━━━━━━━━━━━━\u001b[0m \u001b[32m71.9/71.9 KB\u001b[0m \u001b[31m7.1 MB/s\u001b[0m eta \u001b[36m0:00:00\u001b[0m\n",
            "\u001b[2K     \u001b[90m━━━━━━━━━━━━━━━━━━━━━━━━━━━━━━━━━━━━━━━━\u001b[0m \u001b[32m71.9/71.9 KB\u001b[0m \u001b[31m7.3 MB/s\u001b[0m eta \u001b[36m0:00:00\u001b[0m\n",
            "\u001b[2K     \u001b[90m━━━━━━━━━━━━━━━━━━━━━━━━━━━━━━━━━━━━━━━━\u001b[0m \u001b[32m71.8/71.8 KB\u001b[0m \u001b[31m7.9 MB/s\u001b[0m eta \u001b[36m0:00:00\u001b[0m\n",
            "\u001b[2K     \u001b[90m━━━━━━━━━━━━━━━━━━━━━━━━━━━━━━━━━━━━━━━━\u001b[0m \u001b[32m71.8/71.8 KB\u001b[0m \u001b[31m7.2 MB/s\u001b[0m eta \u001b[36m0:00:00\u001b[0m\n",
            "\u001b[2K     \u001b[90m━━━━━━━━━━━━━━━━━━━━━━━━━━━━━━━━━━━━━━━━\u001b[0m \u001b[32m71.8/71.8 KB\u001b[0m \u001b[31m7.7 MB/s\u001b[0m eta \u001b[36m0:00:00\u001b[0m\n",
            "\u001b[2K     \u001b[90m━━━━━━━━━━━━━━━━━━━━━━━━━━━━━━━━━━━━━━━━\u001b[0m \u001b[32m71.8/71.8 KB\u001b[0m \u001b[31m7.4 MB/s\u001b[0m eta \u001b[36m0:00:00\u001b[0m\n",
            "\u001b[2K     \u001b[90m━━━━━━━━━━━━━━━━━━━━━━━━━━━━━━━━━━━━━━━━\u001b[0m \u001b[32m71.8/71.8 KB\u001b[0m \u001b[31m6.6 MB/s\u001b[0m eta \u001b[36m0:00:00\u001b[0m\n",
            "\u001b[2K     \u001b[90m━━━━━━━━━━━━━━━━━━━━━━━━━━━━━━━━━━━━━━━━\u001b[0m \u001b[32m71.5/71.5 KB\u001b[0m \u001b[31m7.4 MB/s\u001b[0m eta \u001b[36m0:00:00\u001b[0m\n",
            "\u001b[2K     \u001b[90m━━━━━━━━━━━━━━━━━━━━━━━━━━━━━━━━━━━━━━━━\u001b[0m \u001b[32m86.2/86.2 KB\u001b[0m \u001b[31m8.3 MB/s\u001b[0m eta \u001b[36m0:00:00\u001b[0m\n",
            "\u001b[2K     \u001b[90m━━━━━━━━━━━━━━━━━━━━━━━━━━━━━━━━━━━━━━━━\u001b[0m \u001b[32m1.6/1.6 MB\u001b[0m \u001b[31m57.0 MB/s\u001b[0m eta \u001b[36m0:00:00\u001b[0m\n",
            "\u001b[?25h\u001b[33mWARNING: jsonschema 4.3.3 does not provide the extra 'format-nongpl'\u001b[0m\u001b[33m\n",
            "\u001b[2K     \u001b[90m━━━━━━━━━━━━━━━━━━━━━━━━━━━━━━━━━━━━━━━━\u001b[0m \u001b[32m66.4/66.4 KB\u001b[0m \u001b[31m6.7 MB/s\u001b[0m eta \u001b[36m0:00:00\u001b[0m\n",
            "\u001b[?25h\u001b[31mERROR: pip's dependency resolver does not currently take into account all the packages that are installed. This behaviour is the source of the following dependency conflicts.\n",
            "google-colab 1.0.0 requires notebook~=5.7.16, but you have notebook 6.4.12 which is incompatible.\n",
            "google-colab 1.0.0 requires tornado~=6.0.4, but you have tornado 6.2 which is incompatible.\n",
            "flask 1.1.4 requires Jinja2<3.0,>=2.10.1, but you have jinja2 3.1.2 which is incompatible.\u001b[0m\u001b[31m\n",
            "\u001b[0m"
          ]
        }
      ],
      "source": [
        "%pip install -q --upgrade ismi_utils"
      ]
    },
    {
      "cell_type": "code",
      "execution_count": 3,
      "metadata": {
        "deletable": false,
        "editable": false,
        "nbgrader": {
          "cell_type": "code",
          "checksum": "746eed956f1d3e9e84a247491d916b5c",
          "grade": false,
          "grade_id": "cell-a53a266c847e82b7",
          "locked": true,
          "schema_version": 3,
          "solution": false,
          "task": false
        },
        "tags": [],
        "id": "-v3d2cGVUHOu"
      },
      "outputs": [],
      "source": [
        "import copy\n",
        "\n",
        "import matplotlib.pyplot as plt\n",
        "import numpy as np\n",
        "import scipy.signal\n",
        "import SimpleITK as sitk\n",
        "from matplotlib import cm\n",
        "from scipy.ndimage import binary_fill_holes\n",
        "\n",
        "from ismi_utils import download_data"
      ]
    },
    {
      "cell_type": "markdown",
      "metadata": {
        "deletable": false,
        "editable": false,
        "nbgrader": {
          "cell_type": "markdown",
          "checksum": "338cce35b4795ab3f31bda94c5749523",
          "grade": false,
          "grade_id": "cell-412b747f05325873",
          "locked": true,
          "schema_version": 3,
          "solution": false,
          "task": false
        },
        "id": "hZeBv-3dUHOw"
      },
      "source": [
        "## Data\n",
        "All data used in this assignment, as well as in all assignments of this course, are publicly available, and mostly data are stored in a public folder on SURFDrive.\n",
        "The data for this assignment can be downloaded by executing the next cell.\n",
        "This will download and uncompress data contained in the file ```assignment_1.zip``` to a folder ```/your_notebook_directory/assignment_1```.\n",
        "\n",
        "Run the next cell and wait until the progress bar becomes green.\n",
        "On a decent network connection it should take ~1 minute."
      ]
    },
    {
      "cell_type": "code",
      "execution_count": 4,
      "metadata": {
        "deletable": false,
        "editable": false,
        "nbgrader": {
          "cell_type": "code",
          "checksum": "1e069313cf06001fec162619e71785a6",
          "grade": false,
          "grade_id": "cell-b4dcae438eb85131",
          "locked": true,
          "schema_version": 3,
          "solution": false,
          "task": false
        },
        "colab": {
          "base_uri": "https://localhost:8080/"
        },
        "id": "q7UaZ7JbUHOy",
        "outputId": "7a6a035c-4a16-4073-e8f1-945532ff0969"
      },
      "outputs": [
        {
          "output_type": "stream",
          "name": "stderr",
          "text": [
            "100%|██████████| 178M/178M [00:06<00:00, 28.6MB/s]\n"
          ]
        }
      ],
      "source": [
        "download_data(\"assignment_1.zip\", link=\"https://surfdrive.surf.nl/files/index.php/s/5675CTqWNfms8GS/download\")"
      ]
    },
    {
      "cell_type": "markdown",
      "metadata": {
        "deletable": false,
        "editable": false,
        "nbgrader": {
          "cell_type": "markdown",
          "checksum": "a4730ae6cf430574dc3891e89ad4deed",
          "grade": false,
          "grade_id": "cell-424342b637879968",
          "locked": true,
          "schema_version": 3,
          "solution": false,
          "task": false
        },
        "id": "UxVxbXk5UHOz"
      },
      "source": [
        "Check that the downloaded folder contains the following structure:\n",
        "````\n",
        "assignment_1\n",
        "  |-LIDC-IDRI\n",
        "    |-LIDC-IDRI-0001\n",
        "      |-1.3.6.1.4.1.14519.5.2.1.6279.6001.298806137288633453246975630178\n",
        "        |-1.3.6.1.4.1.14519.5.2.1.6279.6001.179049373636438705059720603192\n",
        "          |-000001.dcm\n",
        "          |-...\n",
        "  |-CRC-Prim-HE-05_APPLICATION.mha\n",
        "  |-CRC-Prim-HE-10_APPLICATION.mha\n",
        "  |-processed_mammography.mhd\n",
        "  |-processed_mammography.raw\n",
        "  |-raw_mammography.mhd\n",
        "  |-raw_mammography.raw\n",
        "````"
      ]
    },
    {
      "cell_type": "markdown",
      "metadata": {
        "deletable": false,
        "editable": false,
        "nbgrader": {
          "cell_type": "markdown",
          "checksum": "0d6519d4225ead2bf6d0061a65f2076f",
          "grade": false,
          "grade_id": "cell-0be300956f8c8f90",
          "locked": true,
          "schema_version": 3,
          "solution": false,
          "task": false
        },
        "id": "Sw4n4v9tUHO1"
      },
      "source": [
        "## 1. Gray-scale transformation of breast tomography (55 points)\n",
        "The first assignment consists of reconstructing a gray-scale mammography image from the raw data acquired with the mammography machine. As you have seen in the lecture, there are several steps that have to be applied to reconstruct a gray-scale image, which can be interpreted by radiologists to detect tumors, masses, cysts and micro-calcifications."
      ]
    },
    {
      "cell_type": "markdown",
      "metadata": {
        "deletable": false,
        "editable": false,
        "nbgrader": {
          "cell_type": "markdown",
          "checksum": "3dec48275f479797e5b6dc0942cc5091",
          "grade": false,
          "grade_id": "cell-ded6285becc24172",
          "locked": true,
          "schema_version": 3,
          "solution": false,
          "task": false
        },
        "id": "CdxO5T2oUHO2"
      },
      "source": [
        "### Read image\n",
        "In your local data folder, you can find a file containing raw mammography data and the corresponding processed gray-level version. The processed version comes from the vendor and is the result of several filtering and enhancement steps that are proprietary. Your goal is to do a good job at deriving a gray-level image from raw data.\n",
        "The files are in ITK format, with extension ````.mhd````, and can be opened using the library ````SimpleITK````. You can find documentation on ````SimpleITK```` at this link: http://www.simpleitk.org/SimpleITK/help/documentation.html.\n",
        "In the next cell, we provide the function used to read the raw data and the gray-level images.\n",
        "Furthermore, we indicate which steps have to be implemented.\n",
        "Complete the assignment by implementing the steps indicated."
      ]
    },
    {
      "cell_type": "code",
      "execution_count": null,
      "metadata": {
        "deletable": false,
        "editable": false,
        "nbgrader": {
          "cell_type": "code",
          "checksum": "839eb95d26a414e522859c3f8ace54cd",
          "grade": false,
          "grade_id": "cell-483da8c8d3d0f9cd",
          "locked": true,
          "schema_version": 3,
          "solution": false,
          "task": false
        },
        "id": "NrKv4L1nUHO3"
      },
      "outputs": [],
      "source": [
        "# Raw and gray-level data in ITK format\n",
        "raw_img_filename = \"./assignment_1/raw_mammography.mhd\"\n",
        "out_img_filename = \"./assignment_1/processed_mammography.mhd\"\n",
        "\n",
        "# Read ITK files using SimpleITK\n",
        "raw_img = sitk.ReadImage(raw_img_filename)\n",
        "out_img = sitk.ReadImage(out_img_filename)\n",
        "\n",
        "# Print image information\n",
        "print(f\"image size: {raw_img.GetSize()}\")\n",
        "print(f\"image origin: {raw_img.GetOrigin()}\")\n",
        "print(f\"image spacing: {raw_img.GetSpacing()}\")\n",
        "print(f\"image width: {raw_img.GetWidth()}\")\n",
        "print(f\"image height: {raw_img.GetHeight()}\")\n",
        "print(f\"image depth: {raw_img.GetDepth()}\")"
      ]
    },
    {
      "cell_type": "markdown",
      "metadata": {
        "deletable": false,
        "editable": false,
        "nbgrader": {
          "cell_type": "markdown",
          "checksum": "54b8545aa6ce3d1d1fae94ae6989e8aa",
          "grade": false,
          "grade_id": "cell-87839cd46c0e4c70",
          "locked": true,
          "schema_version": 3,
          "solution": false,
          "task": false
        },
        "id": "DfzV1KDvUHO5"
      },
      "source": [
        "**Question:**\n",
        "What is the width of the image in mm? \n",
        "\n",
        "*Hint: the image adheres to the DICOM standard for pixel spacing*"
      ]
    },
    {
      "cell_type": "markdown",
      "metadata": {
        "deletable": false,
        "nbgrader": {
          "cell_type": "markdown",
          "checksum": "1ff679a8fe1e741a73f31aa4698b3c9d",
          "grade": true,
          "grade_id": "cell-4dea97df7288b705",
          "locked": false,
          "points": 5,
          "schema_version": 3,
          "solution": true,
          "task": false
        },
        "id": "MLR4bd7sUHO6"
      },
      "source": [
        "YOUR ANSWER HERE"
      ]
    },
    {
      "cell_type": "markdown",
      "metadata": {
        "deletable": false,
        "editable": false,
        "nbgrader": {
          "cell_type": "markdown",
          "checksum": "91a5d7215064153b5c308c2e9dc88671",
          "grade": false,
          "grade_id": "cell-7e7172f86de4e956",
          "locked": true,
          "schema_version": 3,
          "solution": false,
          "task": false
        },
        "id": "dCOjYw6bUHO6"
      },
      "source": [
        "### Convert ITK image to Numpy array\n",
        "In order to easily manipulate data, it is convenient to convert it to a numpy array. Numpy arrays can be transformed using the `numpy` library and can easily be visualized using the `matplotlib` library.\n",
        "Please check the documentation in http://insightsoftwareconsortium.github.io/SimpleITK-Notebooks/Python_html/01_Image_Basics.html to find the proper function to transform the SimpleITK image to numpy. Write your code below:\n",
        "* ````out_np````: should contain the numpy array from ````out_img````\n",
        "* ````raw_np````: should contain the numpy array from ````raw_img````\n",
        "\n",
        "Note: If you are not familiar with Numpy, you can check out this tutorial: http://cs231n.github.io/python-numpy-tutorial/"
      ]
    },
    {
      "cell_type": "code",
      "execution_count": null,
      "metadata": {
        "deletable": false,
        "nbgrader": {
          "cell_type": "code",
          "checksum": "bf97733de1cdbe01147ce24160befb53",
          "grade": false,
          "grade_id": "get_array_from_image",
          "locked": false,
          "schema_version": 3,
          "solution": true,
          "task": false
        },
        "id": "KVvYUdHRUHO7"
      },
      "outputs": [],
      "source": [
        "# Convert the ITK image into numpy format\n",
        "out_np = None\n",
        "raw_np = None\n",
        "# YOUR CODE HERE"
      ]
    },
    {
      "cell_type": "code",
      "execution_count": null,
      "metadata": {
        "deletable": false,
        "editable": false,
        "nbgrader": {
          "cell_type": "code",
          "checksum": "02b415b2e4a8b6d453eb3a91b2edd5b0",
          "grade": true,
          "grade_id": "get_array_from_image_is_not_None",
          "locked": true,
          "points": 5,
          "schema_version": 3,
          "solution": false,
          "task": false
        },
        "id": "NfjiDgv-UHO8"
      },
      "outputs": [],
      "source": [
        "\"\"\"DO NOT MODIFY THIS CELL\"\"\"\n",
        "assert(out_np is not None),\"out_np cannot be None\"\n",
        "assert(raw_np is not None),\"raw_np cannot be None\""
      ]
    },
    {
      "cell_type": "code",
      "execution_count": null,
      "metadata": {
        "deletable": false,
        "editable": false,
        "nbgrader": {
          "cell_type": "code",
          "checksum": "fd16401053faf0656ff4ac24df07f235",
          "grade": false,
          "grade_id": "cell-caa6360c5996a8e4",
          "locked": true,
          "schema_version": 3,
          "solution": false,
          "task": false
        },
        "id": "NScSGDeHUHO8"
      },
      "outputs": [],
      "source": [
        "# Visualize the two numpy arrays\n",
        "plt.subplot(1,2,1)\n",
        "plt.imshow(raw_np, cmap=\"gray\")\n",
        "plt.title(\"raw data\")\n",
        "plt.subplot(1,2,2)\n",
        "plt.imshow(out_np, cmap=\"gray\")\n",
        "plt.title(\"gray-level data (target)\")\n",
        "plt.show()"
      ]
    },
    {
      "cell_type": "markdown",
      "metadata": {
        "deletable": false,
        "editable": false,
        "nbgrader": {
          "cell_type": "markdown",
          "checksum": "61bd5e5e90657c841d6bf0f75e28d203",
          "grade": false,
          "grade_id": "cell-f38f6220680e14c7",
          "locked": true,
          "schema_version": 3,
          "solution": false,
          "task": false
        },
        "id": "0-XBg31NUHO9"
      },
      "source": [
        "### Image processing\n",
        "Implement the three main steps necessary to convert raw data into a gray-level image:\n",
        "1. Logaritmic transformation\n",
        "2. Intensity inversion\n",
        "3. Contrast stretching\n",
        "\n",
        "<img src=\"https://github.com/ivanslootweg/ISMI/blob/main/assignment_1/images/raw2gray.png?raw=1\">"
      ]
    },
    {
      "cell_type": "markdown",
      "metadata": {
        "deletable": false,
        "editable": false,
        "nbgrader": {
          "cell_type": "markdown",
          "checksum": "a6e1ba1ff19e5da39e2ae267240aa34a",
          "grade": false,
          "grade_id": "cell-cd8075031753d20f",
          "locked": true,
          "schema_version": 3,
          "solution": false,
          "task": false
        },
        "id": "C5PV-7t_UHO9"
      },
      "source": [
        "#### Logaritmic transformation\n",
        "\n",
        "Implement the logarithmic transformation in the code cell below. You need to implement this function from scratch, so you cannot use the built-in `np.log` function. To prevent math errors, transform the input from `x -> x + 1`. The function should work for any input number or numpy array with positive values."
      ]
    },
    {
      "cell_type": "code",
      "execution_count": null,
      "metadata": {
        "deletable": false,
        "nbgrader": {
          "cell_type": "code",
          "checksum": "2e682ca24fefc1bf6983c1309631882a",
          "grade": false,
          "grade_id": "logarithmic_transformation",
          "locked": false,
          "schema_version": 3,
          "solution": true,
          "task": false
        },
        "id": "dmFB7_81UHO9"
      },
      "outputs": [],
      "source": [
        "# Logarithmic transformation\n",
        "def log_transform(x):\n",
        "    \"\"\"Apply a logarithmic transformation\"\"\"\n",
        "    # YOUR CODE HERE"
      ]
    },
    {
      "cell_type": "code",
      "execution_count": null,
      "metadata": {
        "deletable": false,
        "editable": false,
        "nbgrader": {
          "cell_type": "code",
          "checksum": "2c3d9534407bc5043953fa518694a6bc",
          "grade": true,
          "grade_id": "logarithmic_transformation_Test",
          "locked": true,
          "points": 5,
          "schema_version": 3,
          "solution": false,
          "task": false
        },
        "id": "BbZRgd1hUHO-"
      },
      "outputs": [],
      "source": [
        "\"\"\"DO NOT MODIFY THIS CELL\"\"\""
      ]
    },
    {
      "cell_type": "markdown",
      "metadata": {
        "deletable": false,
        "editable": false,
        "nbgrader": {
          "cell_type": "markdown",
          "checksum": "09ee01e25c4d26e404290b21b687bd06",
          "grade": false,
          "grade_id": "cell-a0f6303ef9f0df8b",
          "locked": true,
          "schema_version": 3,
          "solution": false,
          "task": false
        },
        "id": "dSj0BAIwUHO_"
      },
      "source": [
        "Apply the logarithmic transformation to the raw mammography image. The result should be a numpy array with variable name `mammo_log`."
      ]
    },
    {
      "cell_type": "code",
      "execution_count": null,
      "metadata": {
        "deletable": false,
        "nbgrader": {
          "cell_type": "code",
          "checksum": "9f04b007ece0f06794ea42e84ab0ea2c",
          "grade": false,
          "grade_id": "cell-aed760391c104c6d",
          "locked": false,
          "schema_version": 3,
          "solution": true,
          "task": false
        },
        "id": "GR53BWMKUHO_"
      },
      "outputs": [],
      "source": [
        "mammo_log = None\n",
        "# YOUR CODE HERE"
      ]
    },
    {
      "cell_type": "code",
      "execution_count": null,
      "metadata": {
        "deletable": false,
        "editable": false,
        "nbgrader": {
          "cell_type": "code",
          "checksum": "a88414d84fadf557c12d2220a25542df",
          "grade": true,
          "grade_id": "cell-3161e412e2c2c2d0",
          "locked": true,
          "points": 2,
          "schema_version": 3,
          "solution": false,
          "task": false
        },
        "id": "yic1SmcRUHPA"
      },
      "outputs": [],
      "source": [
        "\"\"\"DO NOT MODIFY THIS CELL\"\"\"\n",
        "assert(mammo_log is not None),\"mammo_log cannot be None\""
      ]
    },
    {
      "cell_type": "code",
      "execution_count": null,
      "metadata": {
        "deletable": false,
        "editable": false,
        "nbgrader": {
          "cell_type": "code",
          "checksum": "cf93a8af9abf113e2effad8acbe627ea",
          "grade": false,
          "grade_id": "cell-bac0a150cbebaa38",
          "locked": true,
          "schema_version": 3,
          "solution": false,
          "task": false
        },
        "id": "UCXhAIXZUHPB"
      },
      "outputs": [],
      "source": [
        "# Visualize the result\n",
        "plt.imshow(mammo_log, cmap=\"gray\")\n",
        "plt.title(\"After logaritmic transformation\")\n",
        "plt.show()"
      ]
    },
    {
      "cell_type": "markdown",
      "metadata": {
        "deletable": false,
        "editable": false,
        "nbgrader": {
          "cell_type": "markdown",
          "checksum": "4630f4f8032090d6548af631b1d47f48",
          "grade": false,
          "grade_id": "cell-1889668462984986",
          "locked": true,
          "schema_version": 3,
          "solution": false,
          "task": false
        },
        "id": "jatqGNj2UHPC"
      },
      "source": [
        "#### Intensity inversion\n",
        "Implement intensity inversion in the code cell below. You may use any numpy function you like. The function should work for any input number or numpy array, with positive and/or negative numbers."
      ]
    },
    {
      "cell_type": "code",
      "execution_count": null,
      "metadata": {
        "deletable": false,
        "nbgrader": {
          "cell_type": "code",
          "checksum": "e731c966ef46c3b438cf689cd1d52d0f",
          "grade": false,
          "grade_id": "cell-2f38f52368e3e69b",
          "locked": false,
          "schema_version": 3,
          "solution": true,
          "task": false
        },
        "id": "gsIwpaveUHPC"
      },
      "outputs": [],
      "source": [
        "# Intensity inversion\n",
        "def intensity_inversion(x):\n",
        "    \"\"\"Apply an intensity inversion\n",
        "    \"\"\"\n",
        "    # YOUR CODE HERE"
      ]
    },
    {
      "cell_type": "code",
      "execution_count": null,
      "metadata": {
        "deletable": false,
        "editable": false,
        "nbgrader": {
          "cell_type": "code",
          "checksum": "96336c12c41aad8d86c8a72f30342bbd",
          "grade": true,
          "grade_id": "cell-544805ea8776c928",
          "locked": true,
          "points": 5,
          "schema_version": 3,
          "solution": false,
          "task": false
        },
        "id": "k-EqlqkQUHPD"
      },
      "outputs": [],
      "source": [
        "\"\"\"DO NOT MODIFY THIS CELL\"\"\""
      ]
    },
    {
      "cell_type": "markdown",
      "metadata": {
        "deletable": false,
        "editable": false,
        "nbgrader": {
          "cell_type": "markdown",
          "checksum": "2366241766657a639c1578880cbd27c7",
          "grade": false,
          "grade_id": "cell-f3b2f1bd7579984f",
          "locked": true,
          "schema_version": 3,
          "solution": false,
          "task": false
        },
        "id": "0sySVLZGUHPD"
      },
      "source": [
        "Apply intensity inversion to `mammo_log`. The result should be a numpy array with variable name `mammo_inv`."
      ]
    },
    {
      "cell_type": "code",
      "execution_count": null,
      "metadata": {
        "deletable": false,
        "nbgrader": {
          "cell_type": "code",
          "checksum": "93c0b0f2705e73475db53ce9d4e15682",
          "grade": false,
          "grade_id": "cell-c70c71db07ff324d",
          "locked": false,
          "schema_version": 3,
          "solution": true,
          "task": false
        },
        "id": "KMLzV2L4UHPE"
      },
      "outputs": [],
      "source": [
        "# Call the intensity inversion function passing the correct parameter(s)\n",
        "mammo_inv = None\n",
        "# YOUR CODE HERE"
      ]
    },
    {
      "cell_type": "code",
      "execution_count": null,
      "metadata": {
        "deletable": false,
        "editable": false,
        "nbgrader": {
          "cell_type": "code",
          "checksum": "8761e1e26d4052ca91a27105b5928979",
          "grade": true,
          "grade_id": "cell-921e235b78809245",
          "locked": true,
          "points": 2,
          "schema_version": 3,
          "solution": false,
          "task": false
        },
        "id": "1JS6dYPBUHPE"
      },
      "outputs": [],
      "source": [
        "\"\"\"DO NOT MODIFY THIS CELL\"\"\"\n",
        "assert(mammo_inv is not None),\"mammo_inv cannot be None\""
      ]
    },
    {
      "cell_type": "code",
      "execution_count": null,
      "metadata": {
        "deletable": false,
        "editable": false,
        "nbgrader": {
          "cell_type": "code",
          "checksum": "e4b8e6b25354acf9540787c92421c04d",
          "grade": false,
          "grade_id": "cell-bb6501226e0a8e71",
          "locked": true,
          "schema_version": 3,
          "solution": false,
          "task": false
        },
        "id": "eItf8B87UHPF"
      },
      "outputs": [],
      "source": [
        "# Visualize the result\n",
        "plt.imshow(mammo_inv, cmap=\"gray\")\n",
        "plt.title(\"After intensity inversion\")\n",
        "plt.show()"
      ]
    },
    {
      "cell_type": "markdown",
      "metadata": {
        "deletable": false,
        "editable": false,
        "nbgrader": {
          "cell_type": "markdown",
          "checksum": "a23277e5f566ee724a94e1e87a390409",
          "grade": false,
          "grade_id": "cell-b282c26e2485952a",
          "locked": true,
          "schema_version": 3,
          "solution": false,
          "task": false
        },
        "id": "yoHYjRdfUHPG"
      },
      "source": [
        "#### Contrast stretching\n",
        "In order to apply the contrast stretching operation, let's first define a general contrast stretching function. The inputs should be at least:\n",
        "\n",
        "1. the input signal, \n",
        "2. the window range values ```p0``` and ```pk```, as defined in the lecture.\n",
        "\n",
        "\n",
        "**Note**: The end results should not contain intensity values larger than ```qk``` or lower than ```q0```.\n",
        "\n",
        "**Tip**: Keep the input unchanged, and return a contrast-stretched version of the input.\n",
        "\n",
        "The function should work for any input number or numpy array, with positive and/or negative numbers."
      ]
    },
    {
      "cell_type": "code",
      "execution_count": null,
      "metadata": {
        "deletable": false,
        "nbgrader": {
          "cell_type": "code",
          "checksum": "82e01ff609203158af38ae042e5a4ec3",
          "grade": false,
          "grade_id": "cell-e3a6d1c5d2ad220e",
          "locked": false,
          "schema_version": 3,
          "solution": true,
          "task": false
        },
        "id": "R6oYeYi4UHPG"
      },
      "outputs": [],
      "source": [
        "# contrast stretching\n",
        "def contrast_stretching(x, p0, pk, q0=0., qk=255.):\n",
        "    \"\"\"Apply contrast stretching\"\"\"\n",
        "    # YOUR CODE HERE"
      ]
    },
    {
      "cell_type": "code",
      "execution_count": null,
      "metadata": {
        "deletable": false,
        "editable": false,
        "nbgrader": {
          "cell_type": "code",
          "checksum": "f0d0c8cdcc7b9b4188c7a95ad6956bc5",
          "grade": true,
          "grade_id": "test_p0_smaller_pk",
          "locked": true,
          "points": 2,
          "schema_version": 3,
          "solution": false,
          "task": false
        },
        "id": "ti9oI-XYUHPH"
      },
      "outputs": [],
      "source": [
        "\"\"\"DO NOT MODIFY THIS CELL\"\"\""
      ]
    },
    {
      "cell_type": "code",
      "execution_count": null,
      "metadata": {
        "deletable": false,
        "editable": false,
        "nbgrader": {
          "cell_type": "code",
          "checksum": "648b4310acb54000b8a8774a67ae7c13",
          "grade": true,
          "grade_id": "test_intensity_values_in_boundaries",
          "locked": true,
          "points": 2,
          "schema_version": 3,
          "solution": false,
          "task": false
        },
        "id": "72ybK-RdUHPI"
      },
      "outputs": [],
      "source": [
        "\"\"\"DO NOT MODIFY THIS CELL\"\"\""
      ]
    },
    {
      "cell_type": "code",
      "execution_count": null,
      "metadata": {
        "deletable": false,
        "editable": false,
        "nbgrader": {
          "cell_type": "code",
          "checksum": "a825c6141c177b327b038592fe79d3ce",
          "grade": true,
          "grade_id": "test_correctness",
          "locked": true,
          "points": 2,
          "schema_version": 3,
          "solution": false,
          "task": false
        },
        "id": "_rx_2gflUHPI"
      },
      "outputs": [],
      "source": [
        "\"\"\"DO NOT MODIFY THIS CELL\"\"\""
      ]
    },
    {
      "cell_type": "markdown",
      "metadata": {
        "deletable": false,
        "editable": false,
        "nbgrader": {
          "cell_type": "markdown",
          "checksum": "60c6c7d6062f74f331629ca7818bdbb1",
          "grade": false,
          "grade_id": "cell-4bf513dbb81a7aa4",
          "locked": true,
          "schema_version": 3,
          "solution": false,
          "task": false
        },
        "id": "Bi0KmIeXUHPJ"
      },
      "source": [
        "Apply contrast stretching to `mammo_inv`. Pick proper values for `p0` and `pk`. The result should be a numpy array with variable name `mammo_cs`."
      ]
    },
    {
      "cell_type": "code",
      "execution_count": null,
      "metadata": {
        "deletable": false,
        "nbgrader": {
          "cell_type": "code",
          "checksum": "6c5a3d5f123810e709bc30ec4a864730",
          "grade": false,
          "grade_id": "cell-20daded34d2d64bf",
          "locked": false,
          "schema_version": 3,
          "solution": true,
          "task": false
        },
        "id": "JrIfsjMSUHPL"
      },
      "outputs": [],
      "source": [
        "p0 = None\n",
        "pk = None\n",
        "mammo_cs = None\n",
        "# YOUR CODE HERE"
      ]
    },
    {
      "cell_type": "code",
      "execution_count": null,
      "metadata": {
        "deletable": false,
        "editable": false,
        "nbgrader": {
          "cell_type": "code",
          "checksum": "fc2f00cae0807bf8d73a2f3dc8312aad",
          "grade": true,
          "grade_id": "cell-00b905f7ac2cdd89",
          "locked": true,
          "points": 5,
          "schema_version": 3,
          "solution": false,
          "task": false
        },
        "id": "TjNt10OlUHPL"
      },
      "outputs": [],
      "source": [
        "\"\"\"DO NOT MODIFY THIS CELL\"\"\"\n",
        "assert(p0 is not None),\"p0 cannot be None\"\n",
        "assert(pk is not None),\"pk cannot be None\"\n",
        "assert(mammo_cs is not None),\"mammo_cs cannot be None\""
      ]
    },
    {
      "cell_type": "code",
      "execution_count": null,
      "metadata": {
        "deletable": false,
        "editable": false,
        "nbgrader": {
          "cell_type": "code",
          "checksum": "d63c8e6a026ff0282369738ab642c605",
          "grade": false,
          "grade_id": "cell-e7c96365570c66cf",
          "locked": true,
          "schema_version": 3,
          "solution": false,
          "task": false
        },
        "id": "cFcQXLfdUHPM"
      },
      "outputs": [],
      "source": [
        "# Visualize the result\n",
        "plt.imshow(mammo_cs, cmap=\"gray\")\n",
        "plt.title(\"After contrast stretching\")\n",
        "plt.show()"
      ]
    },
    {
      "cell_type": "markdown",
      "metadata": {
        "deletable": false,
        "editable": false,
        "nbgrader": {
          "cell_type": "markdown",
          "checksum": "030ab4f183cbabaf0dd701dcddd42bda",
          "grade": false,
          "grade_id": "cell-9c722f2f79fc709d",
          "locked": true,
          "schema_version": 3,
          "solution": false,
          "task": false
        },
        "id": "3TQeW6c0UHPN"
      },
      "source": [
        "You will notice that the result at this stage is already much more readable than the raw data you started from. However, the result is still not as good as the one provided by the mammography manufacturer. In order to check for the differences, we will visualize the histogram of the mammography after inversion (before contrast stretching), after contrast stretching and the target histogram."
      ]
    },
    {
      "cell_type": "code",
      "execution_count": null,
      "metadata": {
        "deletable": false,
        "editable": false,
        "nbgrader": {
          "cell_type": "code",
          "checksum": "5558fe56441b570fd7c08dfa90a72f94",
          "grade": false,
          "grade_id": "cell-9212c5aa9eb51bc7",
          "locked": true,
          "schema_version": 3,
          "solution": false,
          "task": false
        },
        "id": "bUolQX0AUHPN"
      },
      "outputs": [],
      "source": [
        "# Visualize and compare histograms\n",
        "plt.subplot(1,3,1)\n",
        "plt.hist(mammo_inv.flatten(),100)\n",
        "plt.title(\"before contrast stretching\")\n",
        "plt.subplot(1,3,2)\n",
        "plt.hist(mammo_cs.flatten(),100)\n",
        "plt.title(\"after contrast stretching\")\n",
        "plt.subplot(1,3,3)\n",
        "plt.hist(out_np.flatten(),100)\n",
        "plt.title(\"target\")\n",
        "plt.show()"
      ]
    },
    {
      "cell_type": "markdown",
      "metadata": {
        "deletable": false,
        "editable": false,
        "nbgrader": {
          "cell_type": "markdown",
          "checksum": "f776f02724f42cf76f67085aea55517a",
          "grade": false,
          "grade_id": "cell-fa4fd300456cf660",
          "locked": true,
          "schema_version": 3,
          "solution": false,
          "task": false
        },
        "id": "_-UOJINHUHPO"
      },
      "source": [
        "**Question:**\n",
        "How did you define the values of p0 and pk? How much does the result change when this parameters sligthly change? Could you deduce this by having a look at the histogram?"
      ]
    },
    {
      "cell_type": "markdown",
      "metadata": {
        "deletable": false,
        "nbgrader": {
          "cell_type": "markdown",
          "checksum": "28028691f32a59853934f2f72633a180",
          "grade": true,
          "grade_id": "cell-8171d9b53c93d2ef",
          "locked": false,
          "points": 10,
          "schema_version": 3,
          "solution": true,
          "task": false
        },
        "id": "fLA_1Wx5UHPO"
      },
      "source": [
        "YOUR ANSWER HERE"
      ]
    },
    {
      "cell_type": "markdown",
      "metadata": {
        "deletable": false,
        "editable": false,
        "nbgrader": {
          "cell_type": "markdown",
          "checksum": "9498fbaeab25ee1340b1017694837385",
          "grade": false,
          "grade_id": "cell-cc500cb74cfa387a",
          "locked": true,
          "schema_version": 3,
          "solution": false,
          "task": false
        },
        "id": "VH4kmEUOUHPP"
      },
      "source": [
        "## Histogram equalization/matching instead of contrast stretching\n",
        "\n",
        "The step of contrast stretching could be replaced by a histogram equalization step. In this way, we assume that the target image is known and accessible, from which we will learn some intensity value correspondance function, known as **look-up-table (LUT)**. A LUT is a table that has entries that correspond to all possible values in the input image, and each value is mapped to an output value, with the aim of mimicking the intensity distribution of the target image, the vendor mammography in our case.\n",
        "\n",
        "Implement a function that takes as input the histogram to transform and the target histogram and return a LUT.\n",
        "\n",
        "For more information on histogram matching, see e.g. [Wikipedia](https://en.wikipedia.org/wiki/Histogram_matching). \n",
        "\n",
        "**Tip**: depending on your implementation, the histogram-matched image may have an additional \"color\" channel (so `image.shape` is `(H, W, 1)`). This additional channel can be removed by squeezing it out: `image = image.squeeze()`."
      ]
    },
    {
      "cell_type": "code",
      "execution_count": null,
      "metadata": {
        "deletable": false,
        "nbgrader": {
          "cell_type": "code",
          "checksum": "b501deacc1dd2eaf05f665c1acfd9100",
          "grade": false,
          "grade_id": "cell-82f1ee9ad5b535a4",
          "locked": false,
          "schema_version": 3,
          "solution": true,
          "task": false
        },
        "id": "06X1pSpPUHPP"
      },
      "outputs": [],
      "source": [
        "def get_histogram_matching_lut(h_input, h_template):\n",
        "    \"\"\"Function to calculate look-up-table for \n",
        "    histogram matching from reference image\n",
        "    \n",
        "    Parameters\n",
        "    ----------\n",
        "    Input:\n",
        "    h_input: histogram to transfrom\n",
        "    h_template: reference histogram\n",
        "    \n",
        "    Returns\n",
        "    -------\n",
        "    LUT: look-up-table\n",
        "    H_input: cumulative distribution of h_input\n",
        "    H_template: cumulative distribution of h_template\n",
        "    \"\"\"\n",
        "    \n",
        "    if len(h_input) != len(h_template):\n",
        "        raise ValueError(\"Histograms length mismatch!\")\n",
        "    n_bins = len(h_input)\n",
        "\n",
        "    # YOUR CODE HERE\n",
        "\n",
        "    # normalize LUT (such that the histogram-matched image is normalized)\n",
        "    LUT = LUT / n_bins\n",
        "\n",
        "    return LUT, H_input, H_template"
      ]
    },
    {
      "cell_type": "code",
      "execution_count": null,
      "metadata": {
        "deletable": false,
        "editable": false,
        "nbgrader": {
          "cell_type": "code",
          "checksum": "d68befa36374ae02feeeb15c80db38ab",
          "grade": true,
          "grade_id": "lut_test_correctness",
          "locked": true,
          "points": 5,
          "schema_version": 3,
          "solution": false,
          "task": false
        },
        "id": "9dZHsmgPUHPQ"
      },
      "outputs": [],
      "source": [
        "\"\"\"DO NOT MODIFY THIS CELL\"\"\""
      ]
    },
    {
      "cell_type": "markdown",
      "metadata": {
        "deletable": false,
        "editable": false,
        "nbgrader": {
          "cell_type": "markdown",
          "checksum": "a8c648eed5c0cdb36c598e6550b378fb",
          "grade": false,
          "grade_id": "cell-3945011c331761f3",
          "locked": true,
          "schema_version": 3,
          "solution": false,
          "task": false
        },
        "id": "0afqf0VGUHPR"
      },
      "source": [
        "Now that the function ````get_histogram_matching_lut()```` has been implemented, you can execute the next cell and visualize the result of the mammography image converted using histogram matching."
      ]
    },
    {
      "cell_type": "code",
      "execution_count": null,
      "metadata": {
        "tags": [],
        "id": "ZjEBdmGTUHPR"
      },
      "outputs": [],
      "source": [
        "# Rescale images between [0,1]\n",
        "out_np = out_np.astype(float)\n",
        "mammo_inv_norm = (mammo_inv - mammo_inv.flatten().min())/(mammo_inv.flatten().max() - mammo_inv.flatten().min())\n",
        "mammo_out_norm = (out_np - out_np.flatten().min())/(out_np.flatten().max() - out_np.flatten().min())\n",
        "\n",
        "n_bins = 100 # Define the number of bins\n",
        "hist_inv = np.histogram(mammo_inv_norm, bins=np.linspace(0., 1., n_bins+1))\n",
        "hist_out = np.histogram(mammo_out_norm, bins=np.linspace(0., 1., n_bins+1))\n",
        "\n",
        "# Compute LUT\n",
        "LUT,H_input,H_template = get_histogram_matching_lut(hist_inv[0], hist_out[0])\n",
        "assert(LUT        is not None),\"LUT cannot be None\"\n",
        "assert(H_input    is not None),\"H_input cannot be None\"\n",
        "assert(H_template is not None),\"H_template cannot be None\"\n",
        "\n",
        "# Histograms before matching\n",
        "plt.suptitle(\"BEFORE HISTOGRAM MATCHING\")\n",
        "plt.subplot(1, 2, 1); plt.hist(mammo_inv_norm.flatten(), 100)\n",
        "plt.title(\"Input\")\n",
        "plt.subplot(1, 2, 2); plt.hist(mammo_out_norm.flatten(), 100)\n",
        "plt.title(\"Target\")\n",
        "plt.show()\n",
        "\n",
        "# Plot cumulative histogram\n",
        "plt.suptitle(\"CUMULATIVE HISTOGRAMS\")\n",
        "plt.subplot(1, 2, 1); plt.plot(H_input)\n",
        "plt.title(\"Input\")\n",
        "plt.subplot(1, 2, 2); plt.plot(H_template)\n",
        "plt.title(\"Target\")\n",
        "plt.show()    \n",
        "    \n",
        "# Apply histogram matching\n",
        "mammo_lut = LUT[(mammo_inv_norm * (n_bins-1)).astype(int)]\n",
        "mammo_lut = mammo_lut.squeeze()\n",
        "\n",
        "# Visual result\n",
        "plt.suptitle(\"VISUAL RESULT\")\n",
        "plt.subplot(1, 2, 1); plt.imshow(mammo_lut, cmap=\"gray\")\n",
        "plt.title(\"Converted image\")\n",
        "plt.subplot(1, 2, 2); plt.imshow(out_np, cmap=\"gray\")\n",
        "plt.title(\"Target\")\n",
        "plt.show()\n",
        "\n",
        "# histograms after matching\n",
        "plt.suptitle(\"AFTER HISTOGRAM MATCHING\")\n",
        "plt.subplot(1, 2, 1)\n",
        "plt.hist(mammo_lut.flatten(), 100)\n",
        "plt.subplot(1, 2, 2)\n",
        "plt.hist(out_np.flatten(), 100)\n",
        "plt.show()"
      ]
    },
    {
      "cell_type": "markdown",
      "metadata": {
        "deletable": false,
        "editable": false,
        "nbgrader": {
          "cell_type": "markdown",
          "checksum": "f6fb88ea51cf7527b5166f5aaada47bf",
          "grade": false,
          "grade_id": "cell-e79af8a2d89dfb9e",
          "locked": true,
          "schema_version": 3,
          "solution": false,
          "task": false
        },
        "id": "ttHz7PnrUHPR"
      },
      "source": [
        "**Question:**\n",
        "How did you pick the number of bins to use to do histogram matching? Does the result depend on the number of bins?"
      ]
    },
    {
      "cell_type": "markdown",
      "metadata": {
        "deletable": false,
        "nbgrader": {
          "cell_type": "markdown",
          "checksum": "76ef400235e6493667799a1416ec0779",
          "grade": true,
          "grade_id": "cell-ad52218571031bcc",
          "locked": false,
          "points": 5,
          "schema_version": 3,
          "solution": true,
          "task": false
        },
        "id": "iabevC25UHPS"
      },
      "source": [
        "YOUR ANSWER HERE"
      ]
    },
    {
      "cell_type": "markdown",
      "metadata": {
        "deletable": false,
        "editable": false,
        "nbgrader": {
          "cell_type": "markdown",
          "checksum": "817b8feb5c2b75e4e5412cbbef064363",
          "grade": false,
          "grade_id": "cell-384754087589a478",
          "locked": true,
          "schema_version": 3,
          "solution": false,
          "task": false
        },
        "id": "AO89zoymUHPS"
      },
      "source": [
        "## 2. Stain normalization with histogram matching (10 points)"
      ]
    },
    {
      "cell_type": "markdown",
      "metadata": {
        "deletable": false,
        "editable": false,
        "nbgrader": {
          "cell_type": "markdown",
          "checksum": "d8aec5d849f400b7cd045645431921f7",
          "grade": false,
          "grade_id": "cell-b574be1a7119ff16",
          "locked": true,
          "schema_version": 3,
          "solution": false,
          "task": false
        },
        "id": "OODv7SJzUHPS"
      },
      "source": [
        "<img src=\"https://github.com/ivanslootweg/ISMI/blob/main/assignment_1/images/stain_examples.png?raw=1\" alt=\"HE1\" style=\"width:200px\" align=\"right\">\n",
        "\n",
        "In the previous exercise, you implemented a histogram matching function and used it to adapt a given mammography image to a given target image. In that case, the goal was to enhance relevant information in raw mammography data and make it visible as a gray-scale image.\n",
        "\n",
        "The same technique can be applied to the field of digital pathology, but with the aim of solving a different problem, the *variability of stain* across images.\n",
        "In pathology, tissue samples are cut and stained with specific dyes in order to enhance some tissues that are relevant for the diagnosis. The most commonly used staining is called Hematoxylyn and Eosin (H&E), which is routinely applied for diagnostic purposes.\n",
        "The problem with H&E is that there is a large variability of stain across laboratories, and even in the same laboratory, when staining is done in different days of the week. This is because the final result strongly depends on the type and the density of the dyes and on the time the tissue is actually exposed to the dye.\n",
        "\n",
        "The examples on the right are images of colorectal cancer tissue samples, extracted from a publicly available dataset (https://zenodo.org/record/53169#.WJRAC_krIuU), where the appearance, mainly the colour, of the HE-stained images, is different.\n",
        "Histogram matching is a technique that can help solve this problem, since we can think of adapting the distribution of colors per channel (R,G,B) by treating each channel independently.\n",
        "\n",
        "When working with digital pathology images, it is worth noting that the image size is often big. Typical histopathology images are gigapixel images (think of Google maps to get an indea) in the order of 100,000 x 100,000 pixel. However, for the sake of simplicity, in this assignment you will only use tiles of 5000x5000 px."
      ]
    },
    {
      "cell_type": "markdown",
      "metadata": {
        "deletable": false,
        "editable": false,
        "nbgrader": {
          "cell_type": "markdown",
          "checksum": "83419396d33e8f03e4d054618ab994ea",
          "grade": false,
          "grade_id": "cell-15fe98e654f4e765",
          "locked": true,
          "schema_version": 3,
          "solution": false,
          "task": false
        },
        "id": "pYyta9d7UHPT"
      },
      "source": [
        "### Load the slides\n",
        "\n",
        "The code cell below will load 2 slide patches and plot them side by side."
      ]
    },
    {
      "cell_type": "code",
      "execution_count": null,
      "metadata": {
        "deletable": false,
        "editable": false,
        "nbgrader": {
          "cell_type": "code",
          "checksum": "49c629e46e32542bc98d3f7d1d641fbf",
          "grade": false,
          "grade_id": "cell-c57300592ea9d193",
          "locked": true,
          "schema_version": 3,
          "solution": false,
          "task": false
        },
        "id": "j_PyNvzpUHPT"
      },
      "outputs": [],
      "source": [
        "# load data\n",
        "HE1 = sitk.GetArrayFromImage(sitk.ReadImage(\"./assignment_1/CRC-Prim-HE-05_APPLICATION.mha\"))\n",
        "HE2 = sitk.GetArrayFromImage(sitk.ReadImage(\"./assignment_1/CRC-Prim-HE-10_APPLICATION.mha\"))\n",
        "\n",
        "print(HE1.shape)\n",
        "print(HE2.shape)\n",
        "\n",
        "plt.subplot(1, 2, 1); plt.imshow(HE1); plt.title(\"HE1\")\n",
        "plt.subplot(1, 2, 2); plt.imshow(HE2); plt.title(\"HE2\")\n",
        "plt.show()"
      ]
    },
    {
      "cell_type": "markdown",
      "metadata": {
        "deletable": false,
        "editable": false,
        "nbgrader": {
          "cell_type": "markdown",
          "checksum": "e9c0766ae078662fd95c1c5318d3b389",
          "grade": false,
          "grade_id": "cell-119ab998ec68fd7b",
          "locked": true,
          "schema_version": 3,
          "solution": false,
          "task": false
        },
        "id": "nXZJsLsiUHPT"
      },
      "source": [
        "### Stain normalization\n",
        "Implement your stain normalization function based on histogram matching based on the following definition."
      ]
    },
    {
      "cell_type": "code",
      "execution_count": null,
      "metadata": {
        "deletable": false,
        "nbgrader": {
          "cell_type": "code",
          "checksum": "71238aa2aa37edce0dd4d574713c42e6",
          "grade": false,
          "grade_id": "cell-93f33d51b11f9506",
          "locked": false,
          "schema_version": 3,
          "solution": true,
          "task": false
        },
        "id": "fzMoF07YUHPT"
      },
      "outputs": [],
      "source": [
        "def stain_normalization(input_img, target_img, n_bins=100):\n",
        "    \"\"\" Stain normalization based on histogram matching.\"\"\"\n",
        "    # normalize to 0-1 range\n",
        "    input_img = input_img/255.\n",
        "    target_img = target_img/255.\n",
        "\n",
        "    # YOUR CODE HERE\n",
        "\n",
        "    # convert back to uint8 range\n",
        "    stain_norm_img = (255.0*stain_norm_img).astype(np.uint8)\n",
        "    return stain_norm_img"
      ]
    },
    {
      "cell_type": "code",
      "execution_count": null,
      "metadata": {
        "deletable": false,
        "editable": false,
        "nbgrader": {
          "cell_type": "code",
          "checksum": "89670fcd06af06d2dccdcee9c623194e",
          "grade": true,
          "grade_id": "cell-b6714e09af9886ac",
          "locked": true,
          "points": 10,
          "schema_version": 3,
          "solution": false,
          "task": false
        },
        "id": "6WXg-NYdUHPU"
      },
      "outputs": [],
      "source": [
        "\"\"\"DO NOT MODIFY THIS CELL\"\"\""
      ]
    },
    {
      "cell_type": "markdown",
      "metadata": {
        "deletable": false,
        "editable": false,
        "nbgrader": {
          "cell_type": "markdown",
          "checksum": "25c1cb6de57279e1935fd73a6e04624a",
          "grade": false,
          "grade_id": "cell-a95817b9ab6efc0b",
          "locked": true,
          "schema_version": 3,
          "solution": false,
          "task": false
        },
        "id": "JltOVKvsUHPU"
      },
      "source": [
        "Now you can use the implemented function to do stain normalization and check the result."
      ]
    },
    {
      "cell_type": "code",
      "execution_count": null,
      "metadata": {
        "deletable": false,
        "editable": false,
        "nbgrader": {
          "cell_type": "code",
          "checksum": "11cddd0a313b931b8169b4c20dd35f3b",
          "grade": false,
          "grade_id": "cell-7f22b513f8173be3",
          "locked": true,
          "schema_version": 3,
          "solution": false,
          "task": false
        },
        "id": "ImvspBOVUHPU"
      },
      "outputs": [],
      "source": [
        "# Transform HE1 to match HE2\n",
        "HE1_norm = stain_normalization(HE1, HE2);\n",
        "assert(HE1_norm is not None),\"HE1_norm cannot be None\"\n",
        "\n",
        "plt.subplot(1,3,1)\n",
        "plt.imshow(HE1); plt.title(\"HE1 before\")\n",
        "plt.subplot(1,3,2)\n",
        "plt.imshow(HE1_norm); plt.title(\"HE1 after\")\n",
        "plt.subplot(1,3,3)\n",
        "plt.imshow(HE2); plt.title(\"target\")\n",
        "plt.show()\n",
        "\n",
        "# Transform HE2 to match HE1\n",
        "HE2_norm = stain_normalization(HE2, HE1);\n",
        "plt.subplot(1,3,1); plt.imshow(HE2)\n",
        "plt.title(\"HE2 before\")\n",
        "plt.subplot(1,3,2); plt.imshow(HE2_norm)\n",
        "plt.title(\"HE2 after\")\n",
        "plt.subplot(1,3,3); plt.imshow(HE1)\n",
        "plt.title(\"target\")\n",
        "plt.show()"
      ]
    },
    {
      "cell_type": "markdown",
      "metadata": {
        "deletable": false,
        "editable": false,
        "nbgrader": {
          "cell_type": "markdown",
          "checksum": "087f143081bbfee2de8b32fb021a7d03",
          "grade": false,
          "grade_id": "cell-e0cd35c961f4c29f",
          "locked": true,
          "schema_version": 3,
          "solution": false,
          "task": false
        },
        "id": "O1KMJyc8UHPV"
      },
      "source": [
        "## 3. Trachea detection in chest CT (35 points)"
      ]
    },
    {
      "cell_type": "markdown",
      "metadata": {
        "deletable": false,
        "editable": false,
        "nbgrader": {
          "cell_type": "markdown",
          "checksum": "0856b46927cdbe64c41dcd463a2594ad",
          "grade": false,
          "grade_id": "cell-5b87ae59ee3d780d",
          "locked": true,
          "schema_version": 3,
          "solution": false,
          "task": false
        },
        "id": "5r0KsZMBUHPV"
      },
      "source": [
        "<img src=\"https://github.com/ivanslootweg/ISMI/blob/main/assignment_1/images/tracheaAxial.png?raw=1\"   align=\"right\">\n",
        "\n",
        "The last part of this assignment is about automatic detection of the trachea in slices of a chest CT scan.\n",
        "The detection of the trachea is often used as initialization of airway segmentation algorithms, where the position of the trachea is used as a seed point to grow segmentation methods.\n",
        "For this purpose, you are going to develop a **blob detector** and process all slides of a given scan.\n",
        "The idea is to implement an algorithm that reads an entire CT scan and returns the coordinates (x,y,z) of a point inside the trachea, which can be used as a reliable seed point for future analysis.\n",
        "See the slice besides that shows where to find the trachea. For more images, visit:\n",
        "- https://w-radiology.com/chest_ct/\n",
        "- https://w-radiology.com/chest_ct-parenchyma/ check it in Coronal view"
      ]
    },
    {
      "cell_type": "markdown",
      "metadata": {
        "deletable": false,
        "editable": false,
        "nbgrader": {
          "cell_type": "markdown",
          "checksum": "aee57f91725aa492fc821e6806ced124",
          "grade": false,
          "grade_id": "cell-2846346dd26f32c6",
          "locked": true,
          "schema_version": 3,
          "solution": false,
          "task": false
        },
        "id": "uoHEzsiXUHPV"
      },
      "source": [
        "### Loading DICOM\n",
        "To develop our algorithm, we will use data from the publicly available dataset LIDC-IDRI (https://wiki.cancerimagingarchive.net/display/Public/LIDC-IDRI).\n",
        "The database contains 1018 scans, but we will only use the first scan for this assignment, which you can find in the data folder.\n",
        "The format of the chest CT file is DICOM, and for this we will need a dicom library in python. In this assignment we use `SimpleITK`, but there are alternatives (e.g. `pydicom`).\n",
        "The following code can be used to read all files in a given folder. "
      ]
    },
    {
      "cell_type": "code",
      "execution_count": 5,
      "metadata": {
        "deletable": false,
        "editable": false,
        "nbgrader": {
          "cell_type": "code",
          "checksum": "8b05bd20b3ce1102a779302a05f0e836",
          "grade": false,
          "grade_id": "cell-a808abfd7029e827",
          "locked": true,
          "schema_version": 3,
          "solution": false,
          "task": false
        },
        "colab": {
          "base_uri": "https://localhost:8080/"
        },
        "id": "Dr_30SPYUHPW",
        "outputId": "b2e6e7be-0356-44ba-d7ce-0b521b0bac01"
      },
      "outputs": [
        {
          "output_type": "stream",
          "name": "stdout",
          "text": [
            "Found 133 dicom files, resulting in an image of dimension (512, 512, 133)\n"
          ]
        }
      ],
      "source": [
        "# Load the first scan from LIDC-IDRI\n",
        "scan_path = \"./assignment_1/LIDC-IDRI/LIDC-IDRI-0001/1.3.6.1.4.1.14519.5.2.1.6279.6001.298806137288633453246975630178/1.3.6.1.4.1.14519.5.2.1.6279.6001.179049373636438705059720603192\"\n",
        "\n",
        "# Read all dicom files in the folder\n",
        "reader = sitk.ImageSeriesReader()\n",
        "dicom_slice_paths = reader.GetGDCMSeriesFileNames(scan_path)\n",
        "reader.SetFileNames(dicom_slice_paths)\n",
        "image = reader.Execute()\n",
        "\n",
        "# Convert the slice to a numpy array\n",
        "ct_slice_numpy = sitk.GetArrayFromImage(image)\n",
        "dims = image.GetSize()\n",
        "\n",
        "# Print scan information\n",
        "print(f\"Found {len(dicom_slice_paths)} dicom files, resulting in an image of dimension {dims}\")"
      ]
    },
    {
      "cell_type": "markdown",
      "metadata": {
        "deletable": false,
        "editable": false,
        "nbgrader": {
          "cell_type": "markdown",
          "checksum": "155b922f1f42fc07756f783028b3ce91",
          "grade": false,
          "grade_id": "cell-c9f8903766bd6c4f",
          "locked": true,
          "schema_version": 3,
          "solution": false,
          "task": false
        },
        "id": "jEHiCdsdUHPW"
      },
      "source": [
        "For convenience, we convert the image to a numpy array."
      ]
    },
    {
      "cell_type": "code",
      "execution_count": 6,
      "metadata": {
        "deletable": false,
        "editable": false,
        "nbgrader": {
          "cell_type": "code",
          "checksum": "36747602d792b5aa00763f3bf3ea16d1",
          "grade": false,
          "grade_id": "cell-dc1951ffa72984f7",
          "locked": true,
          "schema_version": 3,
          "solution": false,
          "task": false
        },
        "colab": {
          "base_uri": "https://localhost:8080/"
        },
        "id": "SQGcEdBTUHPX",
        "outputId": "23f84019-4a2f-4c75-cb17-8f9f4c1cd8a6"
      },
      "outputs": [
        {
          "output_type": "stream",
          "name": "stdout",
          "text": [
            "(133, 512, 512)\n"
          ]
        }
      ],
      "source": [
        "scan = sitk.GetArrayFromImage(image)\n",
        "print(scan.shape)"
      ]
    },
    {
      "cell_type": "markdown",
      "metadata": {
        "deletable": false,
        "editable": false,
        "nbgrader": {
          "cell_type": "markdown",
          "checksum": "a819a6fa054d59a38c00d91efbb90876",
          "grade": false,
          "grade_id": "cell-3058204e33c507f4",
          "locked": true,
          "schema_version": 3,
          "solution": false,
          "task": false
        },
        "id": "7JsS1OTfUHPX"
      },
      "source": [
        "### Seed point detection"
      ]
    },
    {
      "cell_type": "markdown",
      "metadata": {
        "deletable": false,
        "editable": false,
        "nbgrader": {
          "cell_type": "markdown",
          "checksum": "b65c3de04a578e29deafa4e3715591e7",
          "grade": false,
          "grade_id": "cell-fed6395692afa2a2",
          "locked": true,
          "schema_version": 3,
          "solution": false,
          "task": false
        },
        "id": "D86FU-uaUHPY"
      },
      "source": [
        "<img src=\"https://github.com/ivanslootweg/ISMI/blob/main/assignment_1/images/gaussian.gif?raw=1\" align=\"right\" width=\"250\">\n",
        "\n",
        "\n",
        "A blob detector is based on a Gaussian function, which has to be applied at a given scale (i.e., to find small or large blobs). This scale is problem-specific: in our case we need to find blobs with a size comparable to the trachea.\n",
        "As a first step, define a function to make Gaussian kernels in 2D, given a value for **sigma in millimiters**, given by:\n",
        "\n",
        "\\begin{equation}\n",
        "G(x,y) = \\frac{1}{2\\pi\\sigma^2}\\exp^{-(x^2+y^2)/(2\\sigma^2)}\n",
        "\\end{equation}\n",
        "\n",
        "Do not forget to take into account for the voxel size in x and y direction of the CT scan when designing the filters.\n",
        "This information can be found in the header of the dicom file.\n",
        "\n",
        "Your kernel should have a kernel size of $3\\sigma$ (meaning both $x$ and $y$ range from $-3 \\sigma$ to $+3 \\sigma$). Round the number of pixels in the kernel up to ensure $-3 \\sigma$ to $+3 \\sigma$ \"fits\"."
      ]
    },
    {
      "cell_type": "code",
      "execution_count": 55,
      "metadata": {
        "deletable": false,
        "nbgrader": {
          "cell_type": "code",
          "checksum": "28e4c4e55879754b79d49da3fac38038",
          "grade": false,
          "grade_id": "cell-688d0876f5d4034d",
          "locked": false,
          "schema_version": 3,
          "solution": true,
          "task": false
        },
        "id": "SovolLQtUHPZ"
      },
      "outputs": [],
      "source": [
        "import math\n",
        "\n",
        "def gaussian_2d(sigma_mm, voxel_size):\n",
        "    \"\"\"\n",
        "    Parameters\n",
        "    ----------\n",
        "    sigma_mm: sigma in mm\n",
        "    voxel_size: the size of a voxel in mm\n",
        "    \n",
        "    Returns\n",
        "    -------\n",
        "    kernel: kernel\n",
        "    x : matrix of x coordinates of the filter\n",
        "    y : matrix of y coordinates of the filter\n",
        "    \"\"\"\n",
        "    # YOUR CODE HERE\n",
        "\n",
        "    x_matrix = np.arange(-3*sigma_mm+0.5*voxel_size[0],3*sigma_mm-0.4*voxel_size[0], voxel_size[0])\n",
        "    y_matrix = np.arange(-3*sigma_mm+0.5*voxel_size[1],3*sigma_mm-0.4*voxel_size[1], voxel_size[1])\n",
        "\n",
        "    kernel_size = len(x_matrix)\n",
        "\n",
        "    kernel = np.empty((kernel_size, kernel_size))\n",
        "\n",
        "    for x_index in range(kernel_size):\n",
        "      for y_index in range(kernel_size):\n",
        "        x = x_matrix[x_index]\n",
        "        y = y_matrix[y_index]\n",
        "        kernel[x_index][y_index] = (1 / (2 * math.pi * sigma_mm**2)) * math.exp(-(x**2+y**2)/(2*sigma_mm**2))\n",
        "\n",
        "    return kernel, x_matrix, y_matrix "
      ]
    },
    {
      "cell_type": "code",
      "execution_count": null,
      "metadata": {
        "deletable": false,
        "editable": false,
        "nbgrader": {
          "cell_type": "code",
          "checksum": "1a56e6168ace6eded71a703b75d4add7",
          "grade": true,
          "grade_id": "cell-d34faccf6b351725",
          "locked": true,
          "points": 10,
          "schema_version": 3,
          "solution": false,
          "task": false
        },
        "id": "OdW1Vx0gUHPa"
      },
      "outputs": [],
      "source": [
        "\"\"\"DO NOT MODIFY THIS CELL\"\"\""
      ]
    },
    {
      "cell_type": "markdown",
      "metadata": {
        "deletable": false,
        "editable": false,
        "nbgrader": {
          "cell_type": "markdown",
          "checksum": "6f658d6a22b87ad91a185aa42426c829",
          "grade": false,
          "grade_id": "cell-beb6a2e96a1888b7",
          "locked": true,
          "schema_version": 3,
          "solution": false,
          "task": false
        },
        "id": "AZCz20nnUHPa"
      },
      "source": [
        "#### Laplacian of Gaussian (LoG) <img src=\"https://github.com/ivanslootweg/ISMI/blob/main/assignment_1/images/LoG.png?raw=1\" width=\"250\" align=\"right\">\n",
        "Now define a function to make the Laplacian of Gaussian defined by:\n",
        "\n",
        "\\begin{equation}\n",
        "\\nabla^2G(x,y) = \\frac{\\partial^2G(x,y)}{\\partial x^2} + \\frac{\\partial^2G(x,y)}{\\partial y^2}\n",
        "\\end{equation}\n",
        "\n",
        "This function should work for any (2D) input array `g`, such as the `kernel` made above. As such, use numerical derivatives (e.g., `np.gradient`) rather than analytically deriving the LoG. If you want, you can multiply the LoG by -1, to match the figure on the right."
      ]
    },
    {
      "cell_type": "code",
      "execution_count": 77,
      "metadata": {
        "deletable": false,
        "nbgrader": {
          "cell_type": "code",
          "checksum": "5c9f608b7d1daf0ff78bee60bbc8282f",
          "grade": false,
          "grade_id": "cell-ef59f14e90034f9a",
          "locked": false,
          "schema_version": 3,
          "solution": true,
          "task": false
        },
        "colab": {
          "base_uri": "https://localhost:8080/"
        },
        "id": "R2pXuu3bUHPb",
        "outputId": "4d9e072a-bb37-461c-9b1b-ed538d1f1058"
      },
      "outputs": [
        {
          "output_type": "execute_result",
          "data": {
            "text/plain": [
              "(array([[0.03724851, 0.15623992, 0.03724851],\n",
              "        [0.15623992, 0.27523133, 0.15623992],\n",
              "        [0.03724851, 0.15623992, 0.03724851]]),\n",
              " array([[-0.01862425, -0.13761566, -0.01862425],\n",
              "        [-0.01862425, -0.13761566, -0.01862425],\n",
              "        [-0.01862425, -0.13761566, -0.01862425]]),\n",
              " array([[-0.01862425, -0.01862425, -0.01862425],\n",
              "        [-0.13761566, -0.13761566, -0.13761566],\n",
              "        [-0.01862425, -0.01862425, -0.01862425]]))"
            ]
          },
          "metadata": {},
          "execution_count": 77
        }
      ],
      "source": [
        "def laplacian_of_gaussian(g):\n",
        "    \"\"\"Compute the Laplacian of Gaussian\n",
        "    \n",
        "    Parameters\n",
        "    ----------\n",
        "    g : 2d numpy array\n",
        "\n",
        "    Returns\n",
        "    -------\n",
        "    LoG : 2d numpy array\n",
        "    gxx : 2d numpy array\n",
        "        Second partial derivative of g to x\n",
        "    gyy : 2d numpy array\n",
        "        Second partial derivative of g to y\n",
        "    \"\"\"\n",
        "    # YOUR CODE HERE\n",
        "\n",
        "    gxx, gyy = np.gradient(g)\n",
        "\n",
        "    gxx = np.gradient(gxx)[0]\n",
        "    gyy = np.gradient(gyy)[1]\n",
        "\n",
        "    LoG = (gxx + gyy) * -1\n",
        "\n",
        "    return LoG,gxx,gyy\n",
        "\n",
        "laplacian_of_gaussian(gaussian_2d(1,[2,2])[0])"
      ]
    },
    {
      "cell_type": "code",
      "execution_count": null,
      "metadata": {
        "deletable": false,
        "editable": false,
        "nbgrader": {
          "cell_type": "code",
          "checksum": "fd86c3bf4386af15c98f775bea1c2c16",
          "grade": true,
          "grade_id": "cell-d326f7ff4c1af3cf",
          "locked": true,
          "points": 5,
          "schema_version": 3,
          "solution": false,
          "task": false
        },
        "id": "HxNrd2JcUHPd"
      },
      "outputs": [],
      "source": [
        "\"\"\"DO NOT MODIFY THIS CELL\"\"\""
      ]
    },
    {
      "cell_type": "code",
      "execution_count": 78,
      "metadata": {
        "deletable": false,
        "editable": false,
        "nbgrader": {
          "cell_type": "code",
          "checksum": "7aca081dd94e0359171f9df3ed5aa584",
          "grade": false,
          "grade_id": "cell-dc49621156208354",
          "locked": true,
          "schema_version": 3,
          "solution": false,
          "task": false
        },
        "colab": {
          "base_uri": "https://localhost:8080/",
          "height": 139
        },
        "id": "4rFaG7RBUHPd",
        "outputId": "d40ef9b1-6f3a-4324-d735-e547ced94dee"
      },
      "outputs": [
        {
          "output_type": "display_data",
          "data": {
            "text/plain": [
              "<Figure size 432x288 with 4 Axes>"
            ],
            "image/png": "[encoded data removed]"
          },
          "metadata": {
            "needs_background": "light"
          }
        }
      ],
      "source": [
        "# Compute LoG\n",
        "g,x,y = gaussian_2d(3.0, [0.7, 0.7])\n",
        "assert(g is not None),\"g cannot be None\"\n",
        "assert(x is not None),\"x cannot be None\"\n",
        "assert(y is not None),\"y cannot be None\"\n",
        "\n",
        "LoG,gxx,gyy = laplacian_of_gaussian(g)\n",
        "assert(LoG is not None),\"LoG cannot be None\"\n",
        "assert(gxx is not None),\"gxx cannot be None\"\n",
        "assert(gyy is not None),\"gyy cannot be None\"\n",
        "\n",
        "#visualize the filters\n",
        "plt.subplot(1,4,1)\n",
        "plt.imshow(g)\n",
        "plt.title(r\"$g$\")\n",
        "plt.subplot(1,4,2)\n",
        "plt.imshow(gxx)\n",
        "plt.title(r\"$g_{xx}$\")\n",
        "plt.subplot(1,4,3)\n",
        "plt.imshow(gyy)\n",
        "plt.title(r\"$g_{yy}$\")\n",
        "plt.subplot(1,4,4)\n",
        "plt.imshow(LoG)\n",
        "plt.title(r\"$LoG$\")\n",
        "plt.tight_layout()\n",
        "plt.show()"
      ]
    },
    {
      "cell_type": "markdown",
      "metadata": {
        "deletable": false,
        "editable": false,
        "nbgrader": {
          "cell_type": "markdown",
          "checksum": "072cf6ec695005ee51fb8fbb24b9429f",
          "grade": false,
          "grade_id": "cell-d1e87fa003df80a3",
          "locked": true,
          "schema_version": 3,
          "solution": false,
          "task": false
        },
        "id": "9E13ph7yUHPe"
      },
      "source": [
        "You can also visualize your Gaussian filter using a surface-like visualization."
      ]
    },
    {
      "cell_type": "code",
      "execution_count": 79,
      "metadata": {
        "deletable": false,
        "editable": false,
        "nbgrader": {
          "cell_type": "code",
          "checksum": "2a913a8f94c4909fe3314d4139a60a57",
          "grade": false,
          "grade_id": "cell-575d85f327510a30",
          "locked": true,
          "schema_version": 3,
          "solution": false,
          "task": false
        },
        "colab": {
          "base_uri": "https://localhost:8080/",
          "height": 248
        },
        "id": "dGcxoxNFUHPf",
        "outputId": "fd8c5cb1-0131-42f0-ece4-02786229a6a2"
      },
      "outputs": [
        {
          "output_type": "display_data",
          "data": {
            "text/plain": [
              "<Figure size 432x288 with 1 Axes>"
            ],
            "image/png": "[encoded data removed]"
          },
          "metadata": {
            "needs_background": "light"
          }
        }
      ],
      "source": [
        "# Filter surface visualization\n",
        "g,x,y = gaussian_2d(10.0, [0.7, 0.7])\n",
        "LoG,gxx,gyy = laplacian_of_gaussian(g)\n",
        "fig = plt.figure()\n",
        "ax = fig.add_subplot(projection=\"3d\")\n",
        "surf = ax.plot_surface(x, y, LoG, antialiased=True, cmap=cm.jet, linewidth=0)\n",
        "plt.show()"
      ]
    },
    {
      "cell_type": "markdown",
      "metadata": {
        "deletable": false,
        "editable": false,
        "nbgrader": {
          "cell_type": "markdown",
          "checksum": "93de5e642283d06059d8908f3f856b64",
          "grade": false,
          "grade_id": "cell-2d78876d72699fea",
          "locked": true,
          "schema_version": 3,
          "solution": false,
          "task": false
        },
        "id": "raDvPmmCUHPf"
      },
      "source": [
        "We also provide a function that extracts the area that belongs to the thorax for each slice. It is based on some morphology operations that we have not seen yet. No worries if you don't understand it at the moment! You can use it if you think it can be useful in your implementation."
      ]
    },
    {
      "cell_type": "code",
      "execution_count": 80,
      "metadata": {
        "deletable": false,
        "editable": false,
        "nbgrader": {
          "cell_type": "code",
          "checksum": "cb80d70bdbcd0c47b7d21b44a2ec4afb",
          "grade": false,
          "grade_id": "cell-bb6547af0521f967",
          "locked": true,
          "schema_version": 3,
          "solution": false,
          "task": false
        },
        "id": "LRD7AVM9UHPg"
      },
      "outputs": [],
      "source": [
        "# Function to get the area of the thorax\n",
        "def get_body(ct_slice_numpy):\n",
        "    thorax = (ct_slice_numpy > -524)\n",
        "    thorax = binary_fill_holes(thorax)\n",
        "    label, num_label = scipy.ndimage.label(thorax)\n",
        "    size = np.bincount(label.ravel())\n",
        "    biggest_label = size[1:].argmax() + 1\n",
        "    thorax = (label == biggest_label)\n",
        "    return thorax  "
      ]
    },
    {
      "cell_type": "markdown",
      "metadata": {
        "deletable": false,
        "editable": false,
        "nbgrader": {
          "cell_type": "markdown",
          "checksum": "f8c9f14eaaa2a3884f37bd3a959550ee",
          "grade": false,
          "grade_id": "cell-b0d9b6fab64f362f",
          "locked": true,
          "schema_version": 3,
          "solution": false,
          "task": false
        },
        "id": "H0QSYJiVUHPg"
      },
      "source": [
        "Now apply LoG to all slices in the image. We apply the filter by using the convolution operation. When the filter size becomes big, working in the frequency domain is much faster. For this purpose you can use the fast fourier transform. Think of the size of the filter, whether one filter size is enough or whether multiple sizes have to be used. Tune the scale(s) based on realistic assumptions.\n",
        "\n",
        "In the end, capture your algorithm for finding the (x, y, z) coordinate of a point inside the trachea in the function template shown below, such that the code cell will plot your prediction."
      ]
    },
    {
      "cell_type": "code",
      "execution_count": 81,
      "metadata": {
        "deletable": false,
        "nbgrader": {
          "cell_type": "code",
          "checksum": "7064ee7b25e4e5a74c8668a6a58a7b00",
          "grade": true,
          "grade_id": "cell-324ccb111adacf64",
          "locked": false,
          "points": 10,
          "schema_version": 3,
          "solution": true,
          "task": false
        },
        "colab": {
          "base_uri": "https://localhost:8080/",
          "height": 269
        },
        "id": "HUbKUbpGUHPh",
        "outputId": "17a03271-9d7a-4d67-fc6e-cc24a3085fbd"
      },
      "outputs": [
        {
          "output_type": "display_data",
          "data": {
            "text/plain": [
              "<Figure size 432x288 with 1 Axes>"
            ],
            "image/png": "[encoded data removed]"
          },
          "metadata": {
            "needs_background": "light"
          }
        }
      ],
      "source": [
        "# You can use this code cell to experiment\n",
        "# Put your final algorithm inside this function and verify that it works using the visualization\n",
        "\n",
        "def find_seed_point(scan, verbose=0):\n",
        "    \"\"\"Find a point inside the trachea\n",
        "\n",
        "    Parameters\n",
        "    ----------\n",
        "    scan: 3D numpy array\n",
        "    verbose: (optional) set to 1 to show information for debugging\n",
        "\n",
        "    Returns\n",
        "    -------\n",
        "    seed_point: 3-tuple, (x,y,z)\n",
        "    \"\"\"\n",
        "    seed_point = (0, 0, 0)\n",
        "    # YOUR CODE HERE\n",
        "\n",
        "    \n",
        "\n",
        "\n",
        "    return seed_point\n",
        "\n",
        "seed_point = find_seed_point(scan)\n",
        "plt.figure()\n",
        "plt.imshow(scan[seed_point[2], :, :], vmin=-1024.0, vmax=1024.0, cmap=\"gray\")\n",
        "plt.plot(seed_point[0], seed_point[1], \"rx\")\n",
        "plt.show()"
      ]
    },
    {
      "cell_type": "markdown",
      "metadata": {
        "deletable": false,
        "editable": false,
        "nbgrader": {
          "cell_type": "markdown",
          "checksum": "cb7f9fd51df970ad2e4e8a38bc49ed89",
          "grade": false,
          "grade_id": "cell-008df2169a7102ae",
          "locked": true,
          "schema_version": 3,
          "solution": false,
          "task": false
        },
        "id": "I4PUhZ7nUHPh"
      },
      "source": [
        "**Question:**\n",
        "What are the criteria that you assumed in order to pick the value(s) of sigma?"
      ]
    },
    {
      "cell_type": "markdown",
      "metadata": {
        "deletable": false,
        "nbgrader": {
          "cell_type": "markdown",
          "checksum": "b41a252e0ef914401d48d9ee44763518",
          "grade": true,
          "grade_id": "cell-6abf84196352307c",
          "locked": false,
          "points": 5,
          "schema_version": 3,
          "solution": true,
          "task": false
        },
        "id": "ueBKQyqNUHPi"
      },
      "source": [
        "YOUR ANSWER HERE"
      ]
    },
    {
      "cell_type": "markdown",
      "metadata": {
        "deletable": false,
        "editable": false,
        "nbgrader": {
          "cell_type": "markdown",
          "checksum": "4c4b51ddc784bcae2998121c1c913659",
          "grade": false,
          "grade_id": "cell-87014c5682072e11",
          "locked": true,
          "schema_version": 3,
          "solution": false,
          "task": false
        },
        "id": "Lj4QcmURUHPj"
      },
      "source": [
        "**Question:**\n",
        "Is the seed-point that you found unique, or could you find more than one? In that case, how did you choose the one you used?"
      ]
    },
    {
      "cell_type": "markdown",
      "metadata": {
        "deletable": false,
        "nbgrader": {
          "cell_type": "markdown",
          "checksum": "484059761202663a6ede6d18465f2729",
          "grade": true,
          "grade_id": "cell-0e0bdcdfe91cd3f8",
          "locked": false,
          "points": 5,
          "schema_version": 3,
          "solution": true,
          "task": false
        },
        "id": "rNIvQVzUUHPj"
      },
      "source": [
        "YOUR ANSWER HERE"
      ]
    }
  ],
  "metadata": {
    "kernelspec": {
      "display_name": "Python 3 (ipykernel)",
      "language": "python",
      "name": "python3"
    },
    "language_info": {
      "codemirror_mode": {
        "name": "ipython",
        "version": 3
      },
      "file_extension": ".py",
      "mimetype": "text/x-python",
      "name": "python",
      "nbconvert_exporter": "python",
      "pygments_lexer": "ipython3",
      "version": "3.8.12"
    },
    "colab": {
      "provenance": []
    }
  },
  "nbformat": 4,
  "nbformat_minor": 0
}