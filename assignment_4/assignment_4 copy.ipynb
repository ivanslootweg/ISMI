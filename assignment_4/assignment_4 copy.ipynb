{
 "cells": [
  {
   "cell_type": "markdown",
   "id": "61c44721",
   "metadata": {},
   "source": [
    "# Intelligent Systems in Medical Imaging 2023\n",
    "\n",
    "This Jupyter notebook is part of the course Intelligent Systems in Medical Imaging (ISMI) from Radboud University (Nijmegen, Netherlands), and it was developed by researchers of Radboud University Medical Center (Nijmegen, Netherlands).\n",
    "\n",
    "You should have obtained this notebook by downloading it from the official Brightspace page of the course.\n",
    "\n",
    "This notebook formulates an assignment as part of the ISMI course, and the content of this notebook should be used solely to develop a solution to this assignment. You should not make the code provided in this notebook, or your own solution, publicly available."
   ]
  },
  {
   "cell_type": "markdown",
   "id": "d87235db",
   "metadata": {},
   "source": [
    "## Teaching Assistants\n",
    "\n",
    "* Bram de Wilde (bram.dewilde@radboudumc.nl)\n",
    "* Pierpaolo Vendittelli (pierpaolo.vendittelli@radboudumc.nl)\n",
    "* Joeran Bosma (joeran.bosma@radboudumc.nl)\n",
    "* Stephan Dooper (stephan.dooper@radboudumc.nl)\n",
    "\n",
    "For questions about the assignments that go beyond the content, you can contact Bram de Wilde. Questions about the content are addressed in the tutorial sessions. You are also encouraged to use the Brightspace discussion forums to discuss content of the assignments. We will also keep an eye out there to help!"
   ]
  },
  {
   "cell_type": "markdown",
   "id": "36991b2d",
   "metadata": {},
   "source": [
    "## Guidelines and instructions\n",
    "Make sure you write code in any place that says \"YOUR CODE HERE\" by substituting `None` variables or by adding your own solution. Make sure you write in any place that says \"YOUR ANSWER HERE\" with your answers to the questions.\n",
    "\n",
    "Please **do not delete or add any cells**.\n",
    "\n",
    "Before you turn this problem in, make sure everything runs without errors. The easiest way to check this is to restart the kernel and run all cells (in the menubar, select Runtime$\\rightarrow$Restart & Run All).\n",
    "\n",
    "* Groups: You should work in **groups of 2 or 3 people**. (groups of 2 are preferred!)\n",
    "* You are expected to work in Google Colab. If you run the notebooks locally, you may have to solve some issues yourself!\n",
    "* Submit your **fully executed** notebook to Brightspace with file name format: `GroupN_NameSurname1_NameSurname2_NameSurname3.ipynb`\n",
    "* The deadlines for all assignments are on Brightspace.\n",
    "* Deadlines are soft, but make an effort to be on time. We prioritise feedback on assignments that are handed in before the deadline.\n",
    "* Each assignment has 100 points, your grade is your total number of points divided by 10.\n",
    "* The assignments are mandatory, but **do not count** towards your final grade for the course.\n",
    "* For assignments where you have to submit to grand-challenge.org, use team name format `ismi-GroupN-nickname1`.\n",
    "* When working with Google Colab, we advise you to download model checkpoints (.h5 files). This way you don't lose your checkpoint if your session times out. Also, don't forget to connect to a **GPU runtime** when training neural networks!\n",
    "* In Google Colab, you can mount your Google Drive to save files, by clicking the Folder icon on the left, and then click the Mount Drive icon.\n",
    "\n",
    "There are more detailed instructions on Brightspace on how to use Google Colab for the assignments. You can find it here: https://brightspace.ru.nl/d2l/le/content/333312/Home"
   ]
  },
  {
   "attachments": {},
   "cell_type": "markdown",
   "id": "488f3bf1",
   "metadata": {},
   "source": [
    "## Students\n",
    "Please fill in this cell with your names, e-mail address and s-numbers. This information will be used to grade your assignment.\n",
    "\n",
    "* [Ivan Slootweg], [s1001424], [ilse.slootweg@ru.nl]\n",
    "* [Elina Antonova], [s1057069], [elina.antonova@ru.nl]\n",
    "* [Sven van der Post], [s1028679], [sven.vanderpost@ru.nl]"
   ]
  },
  {
   "cell_type": "markdown",
   "id": "32a7d3f4-6836-4bab-a7d9-2405d2bc7eba",
   "metadata": {
    "deletable": false,
    "editable": false,
    "nbgrader": {
     "cell_type": "markdown",
     "checksum": "8114ac2434f049c84b7c8dc84ea3a1ce",
     "grade": false,
     "grade_id": "cell-a5ab39adab1b8bb9",
     "locked": true,
     "schema_version": 3,
     "solution": false,
     "task": false
    },
    "tags": []
   },
   "source": [
    "# Assignment 4: Image Classification with Convolutional Neural Networks"
   ]
  },
  {
   "cell_type": "markdown",
   "id": "223253cd-b109-4d10-831d-4c38ffb84d91",
   "metadata": {
    "deletable": false,
    "editable": false,
    "nbgrader": {
     "cell_type": "markdown",
     "checksum": "4834aece902359b312867054562b629c",
     "grade": false,
     "grade_id": "cell-b56e7b79343d3579",
     "locked": true,
     "schema_version": 3,
     "solution": false,
     "task": false
    },
    "tags": []
   },
   "source": [
    "## Introduction\n",
    "\n",
    "<img src=\"./figures/cifar_10.jpg\" alt=\"CIFAR10\" align=\"right\" width=\"450\">\n",
    "\n",
    "In this assignment, we are going to build, train and validate **convolutional neural networks** (ConvNets, CNNs).\n",
    "For this purpose, we will use data from the publicly available CIFAR10 dataset.\n",
    "CIFAR10 is a dataset commonly used in the community of computer vision and machine learning to benchmark new algorithms and network architectures.\n",
    "\n",
    "CIFAR10 is a dataset that contains (small) RGB images of 32x32 px of ten different classes:\n",
    "\n",
    "* airplane\t\t\t\t\t\t\t\t\t\t\n",
    "* automobile\t\t\t\t\t\t\t\t\t\t\n",
    "* bird\t\t\t\t\t\t\t\t\t\t\n",
    "* cat\t\t\t\t\t\t\t\t\t\t\n",
    "* deer\t\t\t\t\t\t\t\t\t\t\n",
    "* dog\t\t\t\t\t\t\t\t\t\t\n",
    "* frog\t\t\t\t\t\t\t\t\t\t\n",
    "* horse\t\t\t\t\t\t\t\t\t\t\n",
    "* ship\t\t\t\t\t\t\t\t\t\t\n",
    "* truck\n",
    "\n",
    "More details can be found at this link: https://www.cs.toronto.edu/~kriz/cifar.html\n",
    "\n",
    "We searched for the state-of-the-art result on this dataset and apparently an accuracy of 99.5% has recently been reached. The approach is described in this paper: https://arxiv.org/abs/2010.11929v2\n",
    "\n",
    "In this assignment, you will probably reach an accuracy between **60% and 70%**, which is perfectly fine!"
   ]
  },
  {
   "cell_type": "markdown",
   "id": "db3abb11-b3bb-4e79-b346-4289e060cf2e",
   "metadata": {
    "deletable": false,
    "editable": false,
    "nbgrader": {
     "cell_type": "markdown",
     "checksum": "913ff20bb3f1be51cbb75e28226e9cfe",
     "grade": false,
     "grade_id": "cell-8bed354558375ed0",
     "locked": true,
     "schema_version": 3,
     "solution": false,
     "task": false
    },
    "tags": []
   },
   "source": [
    "# Data\n",
    "We will train our ConvNet with images from CIFAR10, a dataset of 60,000 colour images of 32x32 pixels in 10 classes. The downloaded training samples come split into 5 batches of 10,000 samples each, which is useful to do cross-validation for example. In this assignment, you will have to decide how to best split the dataset into training and validation sets. A separate test set is provided in CIFAR10, which is the same set used by other researchers to benchmark their methods."
   ]
  },
  {
   "cell_type": "markdown",
   "id": "b306910f-cc1a-496b-bc0f-03a55c7e7972",
   "metadata": {
    "deletable": false,
    "editable": false,
    "nbgrader": {
     "cell_type": "markdown",
     "checksum": "1704f567dcea22ca3448f04ed84bd71f",
     "grade": false,
     "grade_id": "cell-cd47cee22ac57a83",
     "locked": true,
     "schema_version": 3,
     "solution": false,
     "task": false
    },
    "tags": []
   },
   "source": [
    "# Tasks\n",
    "We define 9 tasks in this assignment.\n",
    "Although 9 tasks sound like a lot of work, you will see that (1) they are highly repetitive (meaning, you will do a lot of copy-paste across cells in the notebook), (2) you can reuse some of the things you did last week.\n",
    "Like we mentioned in the lecture this week, given the experience you have gained by defining datasets and training neural networks, training convolutional neural networks is just a natural step towards using different architectures (and some additional tricks and tools).\n",
    "\n",
    "---\n",
    "\n",
    "The tasks that we propose are the following:\n",
    "\n",
    "### Task 1. Split data and build convolutional networks (20 points)\n",
    "In this task, you will first define your training and validation set, then you will build the architecture of convolutional networks.\n",
    "\n",
    "### Task 2. Train convolutional networks (10 points)\n",
    "In this task, you will train your first model using CIFAR10, apply the trained model to the test set. In order to define training functions and parameteres, you can reuse a lot of code developed last week if needed.\n",
    "\n",
    "### Task 3. Add dropout layer(s) (10 points)\n",
    "In this task, you will modify the architecture of your network by adding dropout, which is implemented in PyTorch in the form of a layer. After that, you will repeat the training procedure and compare the results with the ones of the *plain* network.\n",
    "\n",
    "### Task 4. Add batch normalization (10 points)\n",
    "In this task, you will do something similar to task 3, but now adding batch normalization.\n",
    "You will repeat the experiment and compare the performance with previous architectures.\n",
    "\n",
    "### Task 5. Try different initialization strategies (10 points)\n",
    "We have seen that at least a couple of initilization strategies are known in the literature for (convolutional) neural networks.\n",
    "Several strategies are implemented in the PyTorch library.\n",
    "Try some of them and report the results.\n",
    "\n",
    "### Task 6. Try different nonlinearities (10 points)\n",
    "The same for nonlinearities, we have seen that ```ReLU``` is some kind of default choice for ConvNets, but other strategies exists. Do experiments, report the results and compare with previous approaches.\n",
    "\n",
    "### Task 7. Add L2 regularization (10 points)\n",
    "Modify the loss function to use L2 regularization.\n",
    "Again, run experiments and report results.\n",
    "\n",
    "### Task 8. Add data augmentation (10 points)\n",
    "Think of possible ways you can augment the (training) data.\n",
    "You can build a new (bigger) training set, or implement some kind of data augmentation *on-the-fly*, where some patches in the mini-batch are randomly selected and augmented with a (random) operation. Think of transformations that make sense in the context of classification of natural images.\n",
    "\n",
    "### Task 9. Try different architectures (10 points)\n",
    "You can try to improve the performance by modifying the architecture, using more layers, or wider layers (same number of layers but more filters, which means more parameters). Use all the tools you have investigated so far, the optimal combination of the options you have tried in previous tasks. The goal is to get high accuracy on the validation (and therefore on the test) set!\n",
    "\n",
    "\n",
    "---\n",
    "\n",
    "\n",
    "As done in previous assignments, in this notebook we provide some parts of code implemented.\n",
    "Some other parts are not implemented, but we define the variables that will be used in functions, to help you in the development of the assignment.\n",
    "Things that have been declared but not implemented are assigned a **None** value.\n",
    "That is the part that you have to implement.\n",
    "This means that every time you see **None**, it means that something is missing and you have to implement it.\n",
    "\n",
    "## Reporting your results\n",
    "\n",
    "When you are done with the assignments you will have to hand in this notebook to **Brightspace**, DO NOT submit the notebook to **grand-challenge**."
   ]
  },
  {
   "cell_type": "markdown",
   "id": "6687685a-de92-439b-a503-4490f0287b34",
   "metadata": {
    "deletable": false,
    "editable": false,
    "nbgrader": {
     "cell_type": "markdown",
     "checksum": "3ebf8e56fca9dfa7016e2f3ff8c95996",
     "grade": false,
     "grade_id": "cell-0552ddf55842f79b",
     "locked": true,
     "schema_version": 3,
     "solution": false,
     "task": false
    },
    "tags": []
   },
   "source": [
    "## Let's get started"
   ]
  },
  {
   "cell_type": "code",
   "execution_count": 5,
   "id": "c67743d1-3d4b-4917-baa4-6c10ff4ce36d",
   "metadata": {
    "deletable": false,
    "editable": false,
    "nbgrader": {
     "cell_type": "code",
     "checksum": "b6e4007ce624134aa85d8b62984bbfd8",
     "grade": false,
     "grade_id": "cell-7e2238474d1eb16f",
     "locked": true,
     "schema_version": 3,
     "solution": false,
     "task": false
    },
    "tags": []
   },
   "outputs": [],
   "source": [
    "# import libraries\n",
    "import os\n",
    "os.environ[\"OMP_NUM_THREADS\"]=\"8\"\n",
    "os.environ[\"MKL_NUM_THREADS\"]=\"8\"\n",
    "\n",
    "import numpy as np\n",
    "import pickle\n",
    "import time\n",
    "import matplotlib\n",
    "import matplotlib.pyplot as plt\n",
    "from tqdm import tnrange\n",
    "from tqdm.notebook import tqdm\n",
    "from IPython import display\n",
    "from PIL import Image\n",
    "from os import environ\n",
    "from pathlib import Path\n",
    "\n",
    "from sklearn.metrics import accuracy_score, confusion_matrix, ConfusionMatrixDisplay\n",
    "import torch\n",
    "import torch.nn as nn\n",
    "import torch.optim as optim\n",
    "import torch.nn.functional as F\n",
    "import torchvision\n",
    "import torchvision.transforms as transforms\n",
    "\n",
    "from torch.utils.data import random_split, DataLoader, Dataset\n",
    "\n",
    "%matplotlib inline\n",
    "matplotlib.rcParams['figure.figsize'] = (20, 12)"
   ]
  },
  {
   "cell_type": "code",
   "execution_count": 6,
   "id": "b213a3b2-fc37-4a74-a6c9-b8d14b4fb704",
   "metadata": {
    "deletable": false,
    "editable": false,
    "nbgrader": {
     "cell_type": "code",
     "checksum": "7ae68b89975c44557f5151615e12d4d5",
     "grade": false,
     "grade_id": "cell-c82c7744340dc49e",
     "locked": true,
     "schema_version": 3,
     "solution": false,
     "task": false
    },
    "tags": []
   },
   "outputs": [],
   "source": [
    "network_dir = Path('.')          # path to store neural network model/weights data"
   ]
  },
  {
   "cell_type": "markdown",
   "id": "33443d6f-558c-43d3-905e-c6828e0c4819",
   "metadata": {
    "deletable": false,
    "editable": false,
    "nbgrader": {
     "cell_type": "markdown",
     "checksum": "5c3506a9b896d4631f4f7828514dff9a",
     "grade": false,
     "grade_id": "cell-0e5bfbac09801577",
     "locked": true,
     "schema_version": 3,
     "solution": false,
     "task": false
    },
    "tags": []
   },
   "source": [
    "## Get to know your data\n",
    "Load data and define datasets.\n",
    "In order to train your network, you will have to define a training set and a validation set. Do not use the test set as training data, and do not use any knowledge on the labels of the test set (being a publicly available dataset, we cannot avoid exposing the labels of the test set).\n",
    "\n",
    "We provide an example how to load a data batch.\n",
    "Think of the best way to split data into a training and a validation set.\n",
    "Note that the format that layers in convolutional networks like (at least in the Pytorch libraries that we are using), is as follows:\n",
    "\n",
    "    (n_samples, n_channels, rows, cols)\n",
    "\n",
    "This means that each training (but also validation and test) sample needs to have four dimensions. This kind of structure (multi-dimensional array), is also referred to as a **tensor**. In practice, this format is also convenient because the first index of the tensor refers to the sample itself, so we can use:\n",
    "\n",
    "    tensor[i]\n",
    "    \n",
    "to extract the i-th example.\n",
    "\n",
    "During training, several samples will be used to update the parameters of a network. In the case of CIFAR10, if we use M samples per mini-batch, the shape of the mini-batch data is:\n",
    "\n",
    "    (M, 3, 32, 32)\n",
    "\n",
    "where:\n",
    "  * M is the number of samples in a mini-batch\n",
    "  * 3 is the number of channels (i.e. RGB) the image has, this value is 1 for grayscale\n",
    "  * 32 is the number of pixels in one row of the image\n",
    "  * 32 is the number of columns the image has\n",
    "\n",
    "In the training, validation and test datasets, make sure the data is organized in this way! We will do this during the assignment"
   ]
  },
  {
   "cell_type": "markdown",
   "id": "019c291d-b473-4cd1-8869-f32be78ea3d5",
   "metadata": {
    "deletable": false,
    "editable": false,
    "nbgrader": {
     "cell_type": "markdown",
     "checksum": "2ecfdc3d93222091c881c46d424ab4c6",
     "grade": false,
     "grade_id": "cell-3521324be8f138f7",
     "locked": true,
     "schema_version": 3,
     "solution": false,
     "task": false
    },
    "tags": []
   },
   "source": [
    "### Download CIFAR10 data\n",
    "The following cell will download the 5 batches of the CIFAR10 training dataset as well as the test set to your disk and load it in memory."
   ]
  },
  {
   "cell_type": "code",
   "execution_count": 13,
   "id": "e2c22b70-c282-4f3e-be70-7c50f17e44bd",
   "metadata": {
    "deletable": false,
    "editable": false,
    "nbgrader": {
     "cell_type": "code",
     "checksum": "c4f616c6d952c826afcdeda9ddcfb278",
     "grade": false,
     "grade_id": "cell-6303f6b888c53f34",
     "locked": true,
     "schema_version": 3,
     "solution": false,
     "task": false
    },
    "tags": []
   },
   "outputs": [
    {
     "name": "stdout",
     "output_type": "stream",
     "text": [
      "Files already downloaded and verified\n",
      "Files already downloaded and verified\n"
     ]
    }
   ],
   "source": [
    "dataset = torchvision.datasets.CIFAR10(root='./data', train=True, download=True)\n",
    "dataset.targets = np.array(dataset.targets)\n",
    "\n",
    "# PyTorch data needs channels first, so permute the images to do this.\n",
    "# dataset.data = np.transpose(dataset.data, (0, 3, 1, 2)) / 255\n",
    "dataset.data = dataset.data / 255\n",
    "\n",
    "\n",
    "testset = torchvision.datasets.CIFAR10(root='./data', train=False, download=True)\n",
    "testset.data = testset.data / 255\n",
    "\n",
    "classes = ('plane', 'car', 'bird', 'cat',\n",
    "           'deer', 'dog', 'frog', 'horse', 'ship', 'truck')"
   ]
  },
  {
   "cell_type": "code",
   "execution_count": 14,
   "id": "8ebf9c20-c6ba-467b-a40a-81ca71152042",
   "metadata": {
    "deletable": false,
    "editable": false,
    "nbgrader": {
     "cell_type": "code",
     "checksum": "75cc0b1163601319c171e273d4119ece",
     "grade": false,
     "grade_id": "cell-d4ab8432b0293430",
     "locked": true,
     "schema_version": 3,
     "solution": false,
     "task": false
    },
    "tags": []
   },
   "outputs": [],
   "source": [
    "# The individual test file names, these are important later for submitting to GC\n",
    "def get_filenames():\n",
    "    root='./data'\n",
    "    base_folder ='cifar-10-batches-py'\n",
    "    test_list = [\n",
    "        ['test_batch', '40351d587109b95175f43aff81a1287e'],\n",
    "    ]\n",
    "    \n",
    "    filenames = []\n",
    "\n",
    "    for file_name, checksum in test_list:\n",
    "        file_path = os.path.join(root, base_folder, file_name)\n",
    "        with open(file_path, 'rb') as f:\n",
    "            entry = pickle.load(f, encoding='latin1')\n",
    "        filenames.extend(entry[\"filenames\"]) \n",
    "    return filenames"
   ]
  },
  {
   "cell_type": "markdown",
   "id": "e63cb916-e948-4879-ad49-c04dafdb205d",
   "metadata": {
    "deletable": false,
    "editable": false,
    "nbgrader": {
     "cell_type": "markdown",
     "checksum": "46ea48fd151bfc636af6e9813f895a1e",
     "grade": false,
     "grade_id": "cell-5dc50aea3724d677",
     "locked": true,
     "schema_version": 3,
     "solution": false,
     "task": false
    },
    "tags": []
   },
   "source": [
    "### Data visualization\n",
    "Before you define your datasets, it is useful to check the distribution of labels across batches of CIFAR10, in case some batches have skewed distributions of labels.\n",
    "In order to do that, you can use visualize the histogram of labels using the function ```histogram()``` of the numpy library:\n",
    "\n",
    "    counts, _ =np.histogram()"
   ]
  },
  {
   "cell_type": "code",
   "execution_count": 15,
   "id": "f3a22f83-eff9-4633-98d3-8686a7a6d5e1",
   "metadata": {
    "deletable": false,
    "editable": false,
    "nbgrader": {
     "cell_type": "code",
     "checksum": "12001816650ad842dc4bd0fa42a5b846",
     "grade": false,
     "grade_id": "cell-4d60fb35d1a24ccc",
     "locked": true,
     "schema_version": 3,
     "solution": false,
     "task": false
    },
    "tags": []
   },
   "outputs": [
    {
     "data": {
      "text/plain": [
       "Text(0.5, 1.0, 'Cifar-10 test label distribution')"
      ]
     },
     "execution_count": 15,
     "metadata": {},
     "output_type": "execute_result"
    },
    {
     "data": {
      "image/png": "[encoded data removed]",
      "text/plain": [
       "<Figure size 2000x300 with 1 Axes>"
      ]
     },
     "metadata": {},
     "output_type": "display_data"
    },
    {
     "data": {
      "image/png": "[encoded data removed]",
      "text/plain": [
       "<Figure size 2000x300 with 1 Axes>"
      ]
     },
     "metadata": {},
     "output_type": "display_data"
    }
   ],
   "source": [
    "#Data distributions of the training and test set\n",
    "\n",
    "fig, ax = plt.subplots(figsize=(20, 3))\n",
    "# np histogram returns the amount of counts per class\n",
    "counts, _ = np.histogram(dataset.targets)\n",
    "ax.bar(classes, counts)\n",
    "plt.title('Cifar-10 training label distribution')\n",
    "\n",
    "fig, ax = plt.subplots(figsize=(20, 3))\n",
    "# np histogram returns the amount of counts per class\n",
    "counts, _ = np.histogram(testset.targets)\n",
    "ax.bar(classes, counts, color='red')\n",
    "plt.title('Cifar-10 test label distribution')"
   ]
  },
  {
   "cell_type": "markdown",
   "id": "16bb397b-0bac-43f5-919b-ad515e70c9ad",
   "metadata": {
    "tags": []
   },
   "source": [
    "### Display several images\n",
    "\n",
    "You can also take a look at several examples from the training set "
   ]
  },
  {
   "cell_type": "code",
   "execution_count": 16,
   "id": "5152c267-f7a5-40da-9be7-5929df26441e",
   "metadata": {
    "tags": []
   },
   "outputs": [],
   "source": [
    "from torchvision.utils import make_grid\n",
    "\n",
    "def show_batch(images):\n",
    "    print(images.shape)\n",
    "    fig, ax = plt.subplots(figsize=(12, 6))\n",
    "    ax.set_xticks([]); ax.set_yticks([])\n",
    "    ax.imshow(make_grid(torch.from_numpy(images).permute(0,3,2,1), nrow=4).permute(2,1,0))\n"
   ]
  },
  {
   "cell_type": "code",
   "execution_count": 17,
   "id": "aa6aa93d-f79e-4570-bf60-fc7bdfbea4df",
   "metadata": {
    "tags": []
   },
   "outputs": [
    {
     "name": "stdout",
     "output_type": "stream",
     "text": [
      "(32, 32, 32, 3)\n"
     ]
    },
    {
     "data": {
      "image/png": "[encoded data removed]",
      "text/plain": [
       "<Figure size 1200x600 with 1 Axes>"
      ]
     },
     "metadata": {},
     "output_type": "display_data"
    }
   ],
   "source": [
    "show_batch(dataset.data[0:32])"
   ]
  },
  {
   "cell_type": "markdown",
   "id": "aa482f46-730d-4c1e-a0bf-06b8e9ebe6ed",
   "metadata": {
    "deletable": false,
    "editable": false,
    "nbgrader": {
     "cell_type": "markdown",
     "checksum": "94701902abd613f3674963181643bd99",
     "grade": false,
     "grade_id": "cell-9a4a999b1ad20869",
     "locked": true,
     "schema_version": 3,
     "solution": false,
     "task": false
    },
    "tags": []
   },
   "source": [
    "### Question\n",
    "Do you think that you have to organize batches in a specific way in order to make a training and a validation set, and would this affect the performance of your network significantly? Are there any other constraints specific to medical images?"
   ]
  },
  {
   "attachments": {},
   "cell_type": "markdown",
   "id": "d351f18d-a6b3-4cc2-9f10-58035a369de5",
   "metadata": {
    "deletable": false,
    "nbgrader": {
     "cell_type": "markdown",
     "checksum": "05a264a34f1f71dfe9a32cdfbe53251f",
     "grade": true,
     "grade_id": "cell-7721c7246e259e06",
     "locked": false,
     "points": 3,
     "schema_version": 3,
     "solution": true,
     "task": false
    },
    "tags": []
   },
   "source": [
    "Yes, label distribution has to be somewhat equal ( no overrepresentation) within a set. For medical images specifically, image pixel values and features should be normalized to allow for optimal classification (unit variance, 0 mean). The test set should be normalized with standard deviation and mean of the trainig set."
   ]
  },
  {
   "cell_type": "markdown",
   "id": "a9ba3d79-27d5-4979-a193-57c6979bfadb",
   "metadata": {
    "deletable": false,
    "editable": false,
    "nbgrader": {
     "cell_type": "markdown",
     "checksum": "a246e16f5a843901732c9e5db6ad4ea6",
     "grade": false,
     "grade_id": "cell-23798bccaffff520",
     "locked": true,
     "schema_version": 3,
     "solution": false,
     "task": false
    },
    "tags": []
   },
   "source": [
    "We have already defined a training set and a test set. However, it is good practice to split the training dataset further into a **smaller training** set and a **validation** set. Implement a function called ```load_data``` that builds and returns the training and validation datasets. Create a training dataset with 40000 images, and a validation set with 10000 images.\n",
    "\n",
    "You will be using this function in your experiments later."
   ]
  },
  {
   "cell_type": "code",
   "execution_count": 21,
   "id": "451e64b7-f612-457b-87e4-822142dfad09",
   "metadata": {
    "deletable": false,
    "nbgrader": {
     "cell_type": "code",
     "checksum": "bf0c332f998fd0fab92eb7b52329e4f6",
     "grade": false,
     "grade_id": "cell-d36274f5ea7db6c5",
     "locked": false,
     "schema_version": 3,
     "solution": true,
     "task": false
    },
    "tags": []
   },
   "outputs": [],
   "source": [
    "def load_data(verbose: int = 1):\n",
    "    \"\"\" \n",
    "    Make training set\n",
    "    Notes:\n",
    "      * x_train - The variables x_train and y_train have been created for you.\n",
    "    You need to populate x_train with the correct data from the dataset variable defined above\n",
    "    The image data is accessible from dataset.data, and the labels can be retrieved using dataset.targets\n",
    "    (hint: use array indexing to populate the correct part of x_train \n",
    "    with the batch x_train = dataset.data[start:end])\n",
    "      * y_train - this is the set of y labels for the training set, so you will need to\n",
    "    populate y_train with the corresponding y labels for the data in x_train\n",
    "    \"\"\"\n",
    "    \n",
    "    \"\"\"\n",
    "    Note: the data is currently in batches x width x height x channels format\n",
    "          PyTorch requires them to be in batches x channels x height x width \n",
    "          We will deal with this later!\n",
    "    \"\"\"\n",
    "    start_train = 0\n",
    "    end_train = 40000\n",
    "    x_train = dataset.data[start_train:end_train]\n",
    "    y_train = dataset.targets[start_train:end_train]\n",
    "        \n",
    "    # YOUR CODE HERE\n",
    "    \n",
    "    \"\"\"\n",
    "    Make validation set\n",
    "    Notes:\n",
    "    This is almost identical to setting up the training data (x) and corresponding \n",
    "    training labels (y) except it is a smaller set of data.\n",
    "    Hint: The dataset variable has 50000 images, and we have extracted 40000 before. \n",
    "    none of the data from the training dataset should be present in the \n",
    "    validation set (so that only leaves the remaining 10000 images in the dataset variable ;)\n",
    "    \"\"\"\n",
    "    start_val = 40000\n",
    "    end_val = 50000\n",
    "    x_val = dataset.data[start_val:end_val]\n",
    "    y_val = dataset.targets[start_val:end_val]\n",
    "    \n",
    "    # YOUR CODE HERE\n",
    "    \n",
    "    \n",
    "    \"\"\"\n",
    "    Make test set\n",
    "    There is only set of data for test in the batches dictionary: cifar10-test\n",
    "    Note that there are no labels (y) for the test data.\n",
    "    \"\"\"\n",
    "    x_test = testset.data\n",
    "    y_test = testset.targets\n",
    "    \n",
    "    # load labels CIFAR10\n",
    "    if verbose > 0:\n",
    "        label_to_names = {0: 'airplane', 1: 'automobile', 2: 'bird', 3: 'cat', 4: 'deer', 5: 'dog', 6: 'frog', 7: 'horse', 8: 'ship', 9: 'truck'}\n",
    "        print (\"-----------------------------------------------------\")\n",
    "        print (label_to_names)\n",
    "        print (\"-----------------------------------------------------\")\n",
    "        print (\"> shape training set tensor: {}\".format(x_train.shape))\n",
    "        print (\"> length training labels: {}\".format(len(y_train)))\n",
    "        print (\"-----------------------------------------------------\")\n",
    "        print (\"> shape validation set tensor: {}\".format(x_val.shape))\n",
    "        print (\"> length training labels: {}\".format(len(y_val)))\n",
    "        print (\"-----------------------------------------------------\")\n",
    "        print (\"> shape test set tensor: {}\".format(x_test.shape))\n",
    "        \n",
    "    return np.array(x_train), np.array(y_train), np.array(x_val), np.array(y_val), np.array(x_test), np.array(y_test)\n"
   ]
  },
  {
   "cell_type": "code",
   "execution_count": 19,
   "id": "fbc8615c-9aa5-4ecb-83cd-3ca8c28d9115",
   "metadata": {
    "deletable": false,
    "editable": false,
    "nbgrader": {
     "cell_type": "code",
     "checksum": "902ef85b49c8ce88d01469cdc7df2913",
     "grade": true,
     "grade_id": "func-load-data",
     "locked": true,
     "points": 2,
     "schema_version": 3,
     "solution": false,
     "task": false
    },
    "tags": []
   },
   "outputs": [
    {
     "data": {
      "text/plain": [
       "' DO NOT MODIFY THIS CELL '"
      ]
     },
     "execution_count": 19,
     "metadata": {},
     "output_type": "execute_result"
    }
   ],
   "source": [
    "\"\"\" DO NOT MODIFY THIS CELL \"\"\"\n"
   ]
  },
  {
   "cell_type": "code",
   "execution_count": 20,
   "id": "561e5d7b-95a2-48ec-99ba-8df605f2ceac",
   "metadata": {
    "deletable": false,
    "editable": false,
    "nbgrader": {
     "cell_type": "code",
     "checksum": "5c54730ac3ef9fb5ccf9acf99b11310c",
     "grade": false,
     "grade_id": "cell-d51457cf46aad715",
     "locked": true,
     "schema_version": 3,
     "solution": false,
     "task": false
    },
    "tags": []
   },
   "outputs": [
    {
     "name": "stdout",
     "output_type": "stream",
     "text": [
      "-----------------------------------------------------\n",
      "{0: 'airplane', 1: 'automobile', 2: 'bird', 3: 'cat', 4: 'deer', 5: 'dog', 6: 'frog', 7: 'horse', 8: 'ship', 9: 'truck'}\n",
      "-----------------------------------------------------\n",
      "> shape training set tensor: (40000, 32, 32, 3)\n",
      "> length training labels: 40000\n",
      "-----------------------------------------------------\n",
      "> shape validation set tensor: (10000, 32, 32, 3)\n",
      "> length training labels: 10000\n",
      "-----------------------------------------------------\n",
      "> shape test set tensor: (10000, 32, 32, 3)\n"
     ]
    }
   ],
   "source": [
    "x_train, y_train, x_val, y_val, x_test, y_test = load_data()"
   ]
  },
  {
   "cell_type": "markdown",
   "id": "90fa2c9a-d8f3-46e9-8a3f-879fed4bb83d",
   "metadata": {
    "deletable": false,
    "editable": false,
    "nbgrader": {
     "cell_type": "markdown",
     "checksum": "07b54ae39bc2ea2c0a8f75273599eb8e",
     "grade": false,
     "grade_id": "cell-c8b4ef360f98f0fb",
     "locked": true,
     "schema_version": 3,
     "solution": false,
     "task": false
    },
    "tags": []
   },
   "source": [
    "## Normalize the datasets\n",
    "\n",
    "By now you should be familiar that we normalize our dataset by subtracting the mean and dividing by the standard deviation of the training statistics.\n",
    "Since this is an important task, we ask that you do this again.\n",
    "\n",
    "### * * * FOR FINAL SUBMISSION / GRADING * * * ###\n",
    "In this assignment, we ask you to compute the means and standard deviations over the batch and spatial dimensions. The final result should be a 1 x 3 array for both the means and standard deviations (one value for each of the **channels**). You can then subtract and divide the training data using the resulting values."
   ]
  },
  {
   "cell_type": "code",
   "execution_count": 22,
   "id": "142adccd-e199-4b37-aad3-93a48f35e150",
   "metadata": {
    "deletable": false,
    "nbgrader": {
     "cell_type": "code",
     "checksum": "4c51dfe2be4c28df7f3c86a48e8b3cf3",
     "grade": false,
     "grade_id": "cell-4fae0b9ce52023b3",
     "locked": false,
     "schema_version": 3,
     "solution": true,
     "task": false
    },
    "tags": []
   },
   "outputs": [],
   "source": [
    "epsilon = 0.00000000001\n",
    "x_mean = x_train.mean(axis=0)\n",
    "x_std  = x_train.std(axis=0)\n",
    "\n",
    "x_train_norm = (x_train  - x_mean) / (x_std + epsilon)\n",
    "x_val_norm =  (x_val  - x_mean) / (x_std + epsilon)\n",
    "x_test_norm =  (x_test  - x_mean) / (x_std + epsilon)\n",
    "\n",
    "# YOUR CODE HERE"
   ]
  },
  {
   "cell_type": "code",
   "execution_count": null,
   "id": "2deab227-887e-44bd-8160-e988f2980d52",
   "metadata": {
    "deletable": false,
    "editable": false,
    "nbgrader": {
     "cell_type": "code",
     "checksum": "7bb08b569aafbb21f5154a9592d40116",
     "grade": true,
     "grade_id": "normalization",
     "locked": true,
     "points": 5,
     "schema_version": 3,
     "solution": false,
     "task": false
    },
    "tags": []
   },
   "outputs": [],
   "source": [
    "\"\"\"DO NOT MODIFY THIS CELL\"\"\""
   ]
  },
  {
   "cell_type": "markdown",
   "id": "0fac4e2f-339d-4672-a2d3-69ad4678df6e",
   "metadata": {
    "deletable": false,
    "editable": false,
    "nbgrader": {
     "cell_type": "markdown",
     "checksum": "f56c336fc67ebdb1ce018c38abe03fb9",
     "grade": false,
     "grade_id": "cell-3114e660107aed91",
     "locked": true,
     "schema_version": 3,
     "solution": false,
     "task": false
    },
    "tags": []
   },
   "source": [
    "## PyTorch Datasets\n",
    "PyTorch has several convenient pipelines that make data loading, sampling, and batching a bit easier.   \n",
    "Within the Dataset class, you can define how your data should be loaded and transformed. \n",
    "\n",
    "For this assignment, we provide the Dataset class for you\n",
    "\n",
    "You can read more about DataLoaders and Datasets from the links below **(optional)**\n",
    "\n",
    "https://pytorch.org/tutorials/beginner/basics/data_tutorial.html   \n",
    "https://pytorch.org/docs/stable/data.html   \n",
    "https://pytorch.org/tutorials/beginner/data_loading_tutorial.html   "
   ]
  },
  {
   "cell_type": "code",
   "execution_count": 23,
   "id": "f2b3bfd2-554d-4825-ad8c-cc7e72929be7",
   "metadata": {
    "deletable": false,
    "editable": false,
    "nbgrader": {
     "cell_type": "code",
     "checksum": "4ca0640e93f9aee374784d7a1494a69e",
     "grade": false,
     "grade_id": "cell-1eeea081e921614b",
     "locked": true,
     "schema_version": 3,
     "solution": false,
     "task": false
    },
    "tags": []
   },
   "outputs": [],
   "source": [
    "# DataLoaders need a Dataset class as input\n",
    "# We simply wrap the training data and labels in such a class and give it as input to a DataLoader\n",
    "class CustomDataset(Dataset):\n",
    "    def __init__(self, data, labels, transform=None):\n",
    "        self.images = data\n",
    "        self.labels = labels\n",
    "        self.transform = transform\n",
    "        \n",
    "    def __getitem__(self, idx):\n",
    "        image = self.images[idx]     \n",
    "        \n",
    "        if self.transform:\n",
    "            image = self.transform(image)\n",
    "        \n",
    "        label = self.labels[idx]\n",
    "        return (image, label)\n",
    "\n",
    "    def __len__(self):\n",
    "        return len(self.labels)"
   ]
  },
  {
   "cell_type": "markdown",
   "id": "2526dd80-ca98-4f27-af6d-1a91247675e2",
   "metadata": {
    "deletable": false,
    "editable": false,
    "nbgrader": {
     "cell_type": "markdown",
     "checksum": "99907a54259624abad216b7113f260de",
     "grade": false,
     "grade_id": "cell-a4c8c2f615d23a7a",
     "locked": true,
     "schema_version": 3,
     "solution": false,
     "task": false
    },
    "tags": []
   },
   "source": [
    "## Dataloaders\n",
    "The DataLoader class wraps an iterable around the Dataset to enable easy access to the samples.   \n",
    "Within the DataLoader, you can easily control the batch size, shuffling, and even parallelism/distributed training.   \n",
    "\n",
    "the Dataset is a powerful tool by which you can write how you want a particular sample to be loaded, transformed, and returned.\n",
    "However, it can only return a single sample at a time, and is not optimized to be fast. This is where the DataLoaders come in to play   \n",
    "\n",
    "Dataloaders allow you to fill in how many examples you want to return, i.e. the **batch size** , and also allow for a degree of multiprocessing, which speeds up the computations.\n",
    "Especially the first property is important for this assignment. In many real life scenarios, it is impossible to keep all of your training data in memory (which we are doing now). \n",
    "\n",
    "The dataloader will instead return batches from the complete dataset on which you can perform mini batch gradient descent directly. This means that the batch size itself is a hyperparameter you will need to optimize, especially when **Batch normalization** layers will come into play later on.\n",
    "\n",
    "\n",
    "#### Batch Size Values\n",
    "\n",
    "The ```batch_size``` value is often a power-of-two value. This is for memory alignment reasons -> power-of-two improves performance when doing memory access. Typical values are: ```8, 16, 32, 64, 128, 256```, depending on the size of a single sample and the amount of RAM you have available.\n",
    "\n",
    "You want to set the ```batch_size``` value as high as possible so you can process the maximum amout of images in parallel, which in turn has a significant speed-up on training. \n",
    "\n",
    "However, do not set the ```batch_size``` too high otherwise the host machine may have to start using so-called \"swap memory\" which is overflow memory on disk and roughly 1000 - 10000 times slower than accessing the RAM. You can monitor the RAM usage - and if it goes into swap memory - via the cmdline tools ```top```, ```htop```, or ```free``` on Linux/\\*nix systems."
   ]
  },
  {
   "cell_type": "code",
   "execution_count": null,
   "id": "89ef8eea-32f7-40f9-98c5-e330b81da990",
   "metadata": {
    "deletable": false,
    "nbgrader": {
     "cell_type": "code",
     "checksum": "996151fbe35dddb543dfd4ca0c0115ca",
     "grade": true,
     "grade_id": "cell-6cb1dc03afd2de1e",
     "locked": false,
     "points": 0,
     "schema_version": 3,
     "solution": true,
     "task": false
    },
    "tags": []
   },
   "outputs": [],
   "source": [
    "batch_size = None\n",
    "\n",
    "# YOUR CODE HERE\n",
    "''' \n",
    "These are the dataloaders for the training and validation set. We use the ToTensor transform to convert the numpy array to a proper Pytorch Tensor\n",
    "We will come back to these later when introducting data augmentation\n",
    "'''\n",
    "\n",
    "''' \n",
    "The transform.Compose function will transform your dataset from a numpy array into a Pytorch tensor, \n",
    "and will additionally also transpose the data from [batches, width, height, channels] to [batches, channels, width, height]\n",
    "'''\n",
    "composed = transforms.Compose([torchvision.transforms.ToTensor()])\n",
    "test_loader = DataLoader(\n",
    "    CustomDataset(x_test_norm, \n",
    "                  y_test, \n",
    "                  transform=composed), \n",
    "    batch_size=len(x_test_norm), num_workers=4, shuffle=False)\n",
    "\n",
    "train_loader = DataLoader(\n",
    "    CustomDataset(x_train_norm, \n",
    "                  y_train, \n",
    "                  transform=composed), \n",
    "    batch_size=batch_size, num_workers=4, shuffle=True)\n",
    "\n",
    "val_loader = DataLoader(\n",
    "    CustomDataset(x_val_norm, \n",
    "                  y_val, \n",
    "                  transform=composed), \n",
    "    batch_size=batch_size, num_workers=4, shuffle=True)"
   ]
  },
  {
   "cell_type": "markdown",
   "id": "b7e3d820-7aec-49d6-af16-8b0511a61844",
   "metadata": {
    "deletable": false,
    "editable": false,
    "nbgrader": {
     "cell_type": "markdown",
     "checksum": "1e7f3e2132b465d15be9f417eee66500",
     "grade": false,
     "grade_id": "cell-72cdae205468dcf3",
     "locked": true,
     "schema_version": 3,
     "solution": false,
     "task": false
    },
    "tags": []
   },
   "source": [
    "# Task 1: build a simple convolutional network\n",
    "\n",
    "In this task you create the definition of your convolutional network. You can use parts of your code from last week, if needed. In this assignment we will be using the Pytorch framework to create our network. A guide can be found here: https://pytorch.org/tutorials/beginner/blitz/cifar10_tutorial.html#define-a-convolutional-neural-network\n",
    "\n",
    "Example of sequential API:\n",
    "```python\n",
    "import torch.nn as nn\n",
    "import torch.nn.functional as F\n",
    "\n",
    "\n",
    "class Net(nn.Module):\n",
    "    def __init__(self):\n",
    "        super().__init__()\n",
    "        self.conv1 = nn.Conv2d(3, 6, 5)\n",
    "        self.pool = nn.MaxPool2d(2, 2)\n",
    "        self.conv2 = nn.Conv2d(6, 16, 5)\n",
    "        self.fc1 = nn.Linear(16 * 5 * 5, 120)\n",
    "        self.fc2 = nn.Linear(120, 84)\n",
    "        self.fc3 = nn.Linear(84, 10)\n",
    "\n",
    "    def forward(self, x):\n",
    "        x = self.pool(F.relu(self.conv1(x)))\n",
    "        x = self.pool(F.relu(self.conv2(x)))\n",
    "        x = torch.flatten(x, 1) # flatten all dimensions except batch dimension\n",
    "        x = F.relu(self.fc1(x))\n",
    "        x = F.relu(self.fc2(x))\n",
    "        x = self.fc3(x)\n",
    "        return x\n",
    "\n",
    "\n",
    "net = Net()\n",
    "```\n",
    "\n",
    "### Network\n",
    "\n",
    "Define your network builder function. \n",
    "We build a convolutional network that contains (somewhat arbitrarily, just to give us a starting point):\n",
    "\n",
    "1. convolutional layer, 16 filters, kernel size of 5, relu activation\n",
    "2. max pooling layer, pool size of 3\n",
    "3. convolutional layer, 32 filters, kernel size of 5, relu activation\n",
    "4. max pooling layer, pool size of 3\n",
    "5. flatten layer\n",
    "6. dense layer, 256 units, relu activation\n",
    "\n",
    "### Hints\n",
    "\n",
    "1. You will need the `2D` versions of the layers (e.g. `Conv2D`)\n",
    "2. Select the number of convolutional and max pooling layers and choose the filter size so that the input image is shrinked to 5x5 before the fully connected layers.\n",
    "2. Use at least one fully connected layer between the last convolutional layer and the output fully connected layer with a linear activation (no activation)\n",
    "3. You can reuse the code you used last week to build a fully-connected network, just remember that this time you have to use convolutional layers!\n",
    "4. Take a look at the example above, it should only be a slight modification"
   ]
  },
  {
   "cell_type": "code",
   "execution_count": null,
   "id": "0660068a-9308-4455-82e7-65aebc38b434",
   "metadata": {
    "deletable": false,
    "nbgrader": {
     "cell_type": "code",
     "checksum": "a4c34f0bed94ee7547fe0c908f288f02",
     "grade": true,
     "grade_id": "cell-a37012a148a041fb",
     "locked": false,
     "points": 7,
     "schema_version": 3,
     "solution": true,
     "task": false
    },
    "tags": []
   },
   "outputs": [],
   "source": [
    "\"\"\"\n",
    "Define your network. You can assume an input size of (1,3,32,32)\n",
    "\"\"\"\n",
    "\n",
    "class Net(nn.Module):\n",
    "\n",
    "    def __init__(self):\n",
    "        # YOUR CODE HERE\n",
    "\n",
    "\n",
    "    def forward(self, x):\n",
    "        # YOUR CODE HERE\n",
    "        return x\n",
    "\n",
    "network = Net()\n",
    "print(network)"
   ]
  },
  {
   "cell_type": "markdown",
   "id": "35a5b350-d2bd-4d12-bcf5-7d7a91146be3",
   "metadata": {
    "deletable": false,
    "editable": false,
    "nbgrader": {
     "cell_type": "markdown",
     "checksum": "4fbeb6484cc8c281d39d1ccce44548ba",
     "grade": false,
     "grade_id": "cell-080db7170a2da490",
     "locked": true,
     "schema_version": 3,
     "solution": false,
     "task": false
    },
    "tags": []
   },
   "source": [
    "## Loss Function & Optimization Algorithm\n",
    "\n",
    "Now that the architecture is defined, we have to specify the two other components of our learning framework, namely the loss function and the optimization algorithm.\n",
    "\n",
    "### Loss\n",
    "We have to define a function that, given the network, gets the predicted probability for a given input sample.\n",
    "Since we are dealing with a multi-class classification problem, ```categorical cross-entropy``` seems a reasonable choice. Please remember that the ```CrossEntropyloss```, unlike the ```NLLLoss``` from the previous assignments, assumes that you do **not have a softmax as your final activation, but a linear activation instead**.   \n",
    "https://pytorch.org/docs/stable/generated/torch.nn.CrossEntropyLoss.html\n",
    "\n",
    "### Optimization algorithm\n",
    "We also have to specify how we want to train our model. In our case, we will use \"Stochastic Gradient Descent\". As we have seen in the lecture, gradient descent algorithms need a **learning rate**, which indicates how much we step in the (opposite) direction of the gradient. We have also seen that strategy to adapt the learning rate during training are possible, but for the moment we just define a fixed learning rate. Pick a value and see what happens, you can optimize this later.   \n",
    "https://pytorch.org/docs/stable/generated/torch.optim.SGD.html"
   ]
  },
  {
   "cell_type": "code",
   "execution_count": null,
   "id": "ddfced53-ca22-48f5-b73f-847638f65809",
   "metadata": {
    "deletable": false,
    "nbgrader": {
     "cell_type": "code",
     "checksum": "474e731bc3d8d85c4e50628d4a612e7e",
     "grade": true,
     "grade_id": "cell-229abc11d9451665",
     "locked": false,
     "points": 3,
     "schema_version": 3,
     "solution": true,
     "task": false
    },
    "tags": []
   },
   "outputs": [],
   "source": [
    "\"\"\" \n",
    " - define the loss function\n",
    " - pick a value for your learning rate (a value less than 1.0 e.g. 0.1)\n",
    " - define Stochastic Gradient Descent as the Pytorch optimizer, which takes the learning rate as input parameter\n",
    "\"\"\"\n",
    "\n",
    "loss_function = None\n",
    "learning_rate = None\n",
    "optimizer = None\n",
    "\n",
    "# YOUR CODE HERE"
   ]
  },
  {
   "cell_type": "markdown",
   "id": "027e8e9d-9f5a-40e1-bc48-f5ff13de2e7e",
   "metadata": {
    "deletable": false,
    "editable": false,
    "nbgrader": {
     "cell_type": "markdown",
     "checksum": "d2a1b6e7fe5dc145d9c4e080475f7dff",
     "grade": false,
     "grade_id": "cell-6ada69d5eb46bcea",
     "locked": true,
     "schema_version": 3,
     "solution": false,
     "task": false
    },
    "tags": []
   },
   "source": [
    "# Task 2: Train your network\n",
    "Now you can define a class that trains the convolutional network by updating parameters for each mini-batch. This function includes the two main steps that we implemented last week:\n",
    "\n",
    "  1. a pass over the training set, to update the parameters\n",
    "  2. a pass over the validation set, to check the performance.\n",
    "  \n",
    "During training/validation, you will have to store the loss and accuracy values, in order to visualize them after each epoch in a plot that shows the learning curves. This is useful to monitor the training procedure.\n",
    "\n",
    "During training, we will also be saving to disk the parameters of the network which has the best performance on the validation set. This will be stored as the file ```best_model.pt``` in the directory ```network_dir```, which by default is the root directory of this notebook.\n",
    "\n",
    "Below we have defined a class that implements the training and validation routines. \n",
    "The class contains the following functions:\n",
    "\n",
    "1. ```train_network```: Contains the code to train the network along\n",
    "2. ```train_one_epoch```: Contains the code to train one epoch\n",
    "3. ```validate_dataset```: Performs an evaluation pass over the (validation) dataset\n",
    "4. ```save_best_network```: saves the current network and its weights\n",
    "5. ```load_best_network```: loads the best network based on best validation accuracy\n",
    "6. ```plot_epoch_statistics```: Helper function to plot the training and validation curves\n",
    "\n",
    "\n",
    "Within ```train_network``` and ```train_one_epoch``` there are still several lines of code you have to fill in yourself as part of the exercises"
   ]
  },
  {
   "cell_type": "code",
   "execution_count": null,
   "id": "5b27753f-d38a-4b8a-af04-dd904b6bf496",
   "metadata": {
    "deletable": false,
    "nbgrader": {
     "cell_type": "code",
     "checksum": "729024d1f8764fe87f4f8345511cf542",
     "grade": true,
     "grade_id": "cell-8c0c1804792f51c7",
     "locked": false,
     "points": 8,
     "schema_version": 3,
     "solution": true,
     "task": false
    },
    "tags": []
   },
   "outputs": [],
   "source": [
    "class TrainNet():\n",
    "    \n",
    "    def __init__(self, network, optimizer, loss_function, name):\n",
    "        \"\"\"\n",
    "        Make training set\n",
    "        Notes:\n",
    "          * network - The network you have created before, should be a nn.Module() \n",
    "          * optimizer - The optimizer you have created before.\n",
    "          * loss_function - The crossentropy loss function\n",
    "          * name: To identify which model came from which task, you can give your models \n",
    "          a name so you can distinguish them later on. Give them clear distinguishable names to make it easy for yourself\n",
    "        \"\"\"\n",
    "\n",
    "        self.network = network\n",
    "        self.optimizer = optimizer\n",
    "        self.loss_function = loss_function\n",
    "        self.name = name\n",
    "        self.network_filepath = network_dir / f'{name}_best_model.pt'\n",
    "        self.running_train_loss = []\n",
    "        self.runnin_val_loss = []\n",
    "        self.running_train_acc = []\n",
    "        self.running_val_acc = []\n",
    "        self.best_val_accuracy = 0\n",
    "        \n",
    "    def train_network(self, train_data, val_data, max_epochs=10):\n",
    "        # Contains the code to train the network and calculate performance metrics\n",
    "        \n",
    "        for epoch in tqdm(range(max_epochs), position=0, leave=False, desc=\"Epochs\"):\n",
    "\n",
    "            self._train_one_epoch(train_data)\n",
    "            \n",
    "            \n",
    "            \"\"\"\n",
    "            EXERCISE: Get training loss and accuracy\n",
    "            Uncomment the following lines of Python and replace the None value \n",
    "            within the function with the correct datasets\n",
    "            to calculate the training and validation losses and accuracy\n",
    "            \"\"\"\n",
    "            \n",
    "            # Get training loss and accuracy\n",
    "            #train_loss, train_acc = self.validate_dataset(None)\n",
    "\n",
    "            # Get validation loss and accuracy\n",
    "            #val_loss, val_acc = self.validate_dataset(None)\n",
    "            \n",
    "            # YOUR CODE HERE\n",
    "            \n",
    "            print(f\"epoch {epoch}: train loss: {train_loss}, train accuracy: {train_acc}, val loss: {val_loss}, val accuracy: {val_acc}\") \n",
    "\n",
    "            self.running_train_loss.append(train_loss)\n",
    "            self.runnin_val_loss.append(val_loss)\n",
    "            self.running_train_acc.append(train_acc)\n",
    "            self.running_val_acc.append(val_acc)\n",
    "            \n",
    "            if val_acc > self.best_val_accuracy:\n",
    "                # Look up how to save your network\n",
    "                self.best_val_accuracy = val_acc\n",
    "                self._save_best_network()\n",
    "                \n",
    "        self._plot_epoch_statistics()\n",
    "            \n",
    "    def _train_one_epoch(self, dataloader):\n",
    "        \n",
    "        # Set the network to train mode\n",
    "        self.network.train()\n",
    "        for x, y in tqdm(dataloader, position=1, leave=False, desc=\"Samples\", total=len(dataloader)):  \n",
    "\n",
    "            x = x.float()\n",
    "            \n",
    "            \"\"\" \n",
    "            EXERCISE: fill in the right values for y_pred and loss\n",
    "            \"\"\"\n",
    "            y_pred = None\n",
    "            loss = None\n",
    "            \n",
    "            # YOUR CODE HERE\n",
    "\n",
    "            \n",
    "            # Optimization step\n",
    "            self.optimizer.zero_grad()\n",
    "            loss.backward()\n",
    "            self.optimizer.step()\n",
    "            \n",
    "    def validate_dataset(self, dataloader):\n",
    "        total_loss = 0\n",
    "        correct=0\n",
    "        \n",
    "        # Set the network into eval mode (changes how dropout and BN work)\n",
    "        self.network.eval()\n",
    "        \n",
    "        # perform an evaluation pass, \n",
    "        with torch.no_grad():\n",
    "            for x, y in tqdm(dataloader, position=1, leave=False, desc=\"Samples\", total=len(dataloader)):    \n",
    "                x = x.float()\n",
    "                \n",
    "                # Evaluate the model and get the batch loss and predictions\n",
    "                loss_value, y_pred_class = self._evaluate_batch(x, y)\n",
    "                \n",
    "                # Get the number of correct predictions and accumulate\n",
    "                correct += torch.sum(y_pred_class == y).detach().numpy()\n",
    "\n",
    "                # Accumulate loss\n",
    "                total_loss += loss_value.detach().numpy()\n",
    "\n",
    "        # The loss is meaned over the batches, to get the proper loss, multiple by the batch size and divide by number of images\n",
    "        total_loss = (total_loss * dataloader.batch_size) / (dataloader.batch_size * len(dataloader))\n",
    "        accuracy = correct / (dataloader.batch_size * len(dataloader))\n",
    "        return total_loss, accuracy\n",
    "    \n",
    "    def _evaluate_batch(self,x , y):\n",
    "        # Get logits from the model\n",
    "        y_pred = self.network(x)\n",
    "\n",
    "        # binarize the probabilities to predictions\n",
    "        y_pred_class = torch.argmax(y_pred, dim=1)\n",
    "                \n",
    "        # Calculate the loss\n",
    "        loss_value = self.loss_function(y_pred, y)\n",
    "        \n",
    "        return loss_value, y_pred_class\n",
    "    \n",
    "    def _save_best_network(self):\n",
    "        torch.save(self.network, self.network_filepath)\n",
    "    \n",
    "    def _load_best_network(self):\n",
    "        return torch.load(self.network_filepath)\n",
    "\n",
    "    def _plot_epoch_statistics(self):\n",
    "        # Helper function, plots the training and validation curves\n",
    "        fig = plt.figure(figsize=(10, 5))\n",
    "        tra_loss_plt = plt.plot(range(len(self.running_train_loss)), self.running_train_loss , 'b')\n",
    "        tra_accs_plt = plt.plot(range(len(self.runnin_val_loss)), self.runnin_val_loss, 'c')\n",
    "        val_loss_plt = plt.plot(range(len(self.running_train_acc)), self.running_train_acc, 'g')\n",
    "        val_acc_plt = plt.plot(range(len(self.running_val_acc)), self.running_val_acc, 'r')\n",
    "        plt.xlabel('epoch')\n",
    "        plt.ylabel('loss')\n",
    "        plt.legend(['training loss', 'validation loss', 'training accuracy', 'validation accuracy'],\n",
    "                  loc='center left', bbox_to_anchor=(1, 0.5))\n",
    "        plt.title('Best validation accuracy = {:.2f}%'.format(100. * self.best_val_accuracy))\n",
    "        "
   ]
  },
  {
   "cell_type": "markdown",
   "id": "e543f337-f8c5-4e96-a71b-30f06061c5b9",
   "metadata": {
    "deletable": false,
    "editable": false,
    "nbgrader": {
     "cell_type": "markdown",
     "checksum": "86677701d64427ecbc5a0b54c7db4d31",
     "grade": false,
     "grade_id": "cell-4cf0a7c8e610b4c8",
     "locked": true,
     "schema_version": 3,
     "solution": false,
     "task": false
    },
    "tags": []
   },
   "source": [
    "### Check validation performance before training\n",
    "All the main components required to train our network have been defined now.\n",
    "However, we have seen that in order to properly monitor the behaviour of a network during training, we should check the performance (the accuracy) on a separate validation set, and see if it returns something sensible."
   ]
  },
  {
   "cell_type": "code",
   "execution_count": null,
   "id": "ce877ff5-58fa-40b0-8abf-b3b37ffe4175",
   "metadata": {
    "deletable": false,
    "nbgrader": {
     "cell_type": "code",
     "checksum": "0542ee5fb78624d7d1c2ee2d380d2d4d",
     "grade": true,
     "grade_id": "cell-be72dab3948e3fc5",
     "locked": false,
     "points": 2,
     "schema_version": 3,
     "solution": true,
     "task": false
    },
    "tags": []
   },
   "outputs": [],
   "source": [
    "# Initialize the TrainNet class using the network, optimizer, and loss functions you defined earlier\n",
    "\n",
    "\"\"\"\n",
    "Train your network\n",
    "Uncomment the following line of Python and pass the correct arguments to TrainNet():\n",
    "network, optimizer, loss_function, name\n",
    "make sure you give a distinguishable name, \n",
    "This will be used to save the weights \\\n",
    "\n",
    "\"\"\"\n",
    "\n",
    "#model = TrainNet(None)\n",
    "\n",
    "# Perform an evaluation pass using the TrainNet class\n",
    "\n",
    "#loss, accuracy = model.validate_dataset(val_loader)\n",
    "#print(f\"validation loss {loss}, validation accuracy {accuracy}\")\n",
    "#model.train_network(train_loader, val_loader, max_epochs=10)\n",
    "\n",
    "\n",
    "# YOUR CODE HERE"
   ]
  },
  {
   "cell_type": "markdown",
   "id": "f3717fae-0b0d-4b97-95d6-4b1acb4bbe3a",
   "metadata": {
    "deletable": false,
    "editable": false,
    "nbgrader": {
     "cell_type": "markdown",
     "checksum": "fb5c82012374d4bf590bb88464f12fd2",
     "grade": false,
     "grade_id": "cell-9ef76e0b09eba869",
     "locked": true,
     "schema_version": 3,
     "solution": false,
     "task": false
    },
    "tags": []
   },
   "source": [
    "### Test set evaluation\n",
    "Once you are satisfies with the performance of your network on the training and validation sets, you can try evlauating the test set.\n",
    "To facilitate this process, we have defined the following function that you can re-use during the rest of the notebook\n"
   ]
  },
  {
   "cell_type": "code",
   "execution_count": null,
   "id": "b24269b6-05d6-43d8-82bb-1a79f6726b5e",
   "metadata": {
    "deletable": false,
    "editable": false,
    "nbgrader": {
     "cell_type": "code",
     "checksum": "27c4268a3f72b626d055dd22732b17cc",
     "grade": false,
     "grade_id": "cell-ceb03677c2749de8",
     "locked": true,
     "schema_version": 3,
     "solution": false,
     "task": false
    },
    "tags": []
   },
   "outputs": [],
   "source": [
    "# prepare to count predictions for each class\n",
    "def evaluate_test_set(model, test_loader):\n",
    "    \"\"\"Evaluate the Cifar-10 test set using a model\n",
    "\n",
    "    Args:\n",
    "        model: TrainNet object\n",
    "        test_loader : The dataloader for the test set\n",
    "    \"\"\"\n",
    "    \n",
    "    model._load_best_network()\n",
    "    \n",
    "    # Set the network into eval mode (changes how dropout and BN work)\n",
    "    model.network.eval()\n",
    "\n",
    "    # perform an evaluation pass, \n",
    "    total_loss = 0\n",
    "    with torch.no_grad():\n",
    "        for x, y in tqdm(test_loader, position=1, leave=False, desc=\"Samples\", total=len(test_loader)):    \n",
    "            x = x.float()\n",
    "\n",
    "            # Evaluate the model and get the batch loss and predictions\n",
    "            loss_value, y_pred_class = model._evaluate_batch(x, y)\n",
    "\n",
    "\n",
    "            # Accumulate loss\n",
    "            total_loss += loss_value.detach().numpy()\n",
    "\n",
    "    # The loss is meaned over the batches, to get the proper loss, multiple by the batch size and divide by number of images\n",
    "    total_loss = (total_loss * test_loader.batch_size) / (test_loader.batch_size * len(test_loader))\n",
    "\n",
    "    print(\"Test loss\", total_loss)\n",
    "    print(\"Test accuracy\", accuracy_score(y.detach().numpy(), y_pred_class.detach().numpy()))\n",
    "    conf_mat = confusion_matrix(y.detach().numpy(), y_pred_class.detach().numpy())\n",
    "    disp = ConfusionMatrixDisplay(conf_mat, display_labels=classes)\n",
    "    disp.plot(cmap=plt.cm.Blues)\n",
    "    plt.show()"
   ]
  },
  {
   "cell_type": "code",
   "execution_count": null,
   "id": "ef3e0571-28ec-4372-b325-7f6c555ebd3c",
   "metadata": {
    "tags": []
   },
   "outputs": [],
   "source": [
    "evaluate_test_set(model, test_loader)"
   ]
  },
  {
   "cell_type": "markdown",
   "id": "5c8b2dd1-dd58-4ea1-b6b8-233af4116126",
   "metadata": {
    "deletable": false,
    "editable": false,
    "nbgrader": {
     "cell_type": "markdown",
     "checksum": "d505bead35737f6e97fce0afe85d6de6",
     "grade": false,
     "grade_id": "cell-c11d4f04ced8231d",
     "locked": true,
     "schema_version": 3,
     "solution": false,
     "task": false
    },
    "tags": []
   },
   "source": [
    "# Task 3: Add dropout layers\n",
    "Modify your network so it makes use of the regulariztion feature known as dropout.\n",
    "\n",
    "**Hints**: \n",
    "1. Dropout is typically added after fully-connected layers, but it can be applied to convolutional layers as well.\n",
    "2. You can apply dropout for any (or all) layers in a neural network, usually immediately following an activation layer in your model defintion e.g.\n",
    "   1. **`nn.Linear`**\n",
    "   2. **`nn.Relu`**\n",
    "   2. **`nn.Dropout(...)`**\n",
    "   3. **`nn..Conv2d(...)`**\n",
    "3. By setting the dropout rate to 0.0 you effectively remove any dropout functionality. This is a quick and easy way of seeing whether dropout contributes (or not) to improving the accuracy of the network as a whole without having to re-work the model architecture.\n",
    "\n",
    "### * * * FOR FINAL SUBMISSION / GRADING * * * ###\n",
    "\n",
    "Please add a single `Dropout` layer to the network between the final two `Dense` layers with dropout rate of 0.3"
   ]
  },
  {
   "cell_type": "code",
   "execution_count": null,
   "id": "cf6b0d56-b95f-4e6a-89fc-7a0a1ea9b7f4",
   "metadata": {
    "deletable": false,
    "nbgrader": {
     "cell_type": "code",
     "checksum": "396aea55ab0061d146d75ad7c9932e4b",
     "grade": true,
     "grade_id": "cell-efb3f9163971ec42",
     "locked": false,
     "points": 8,
     "schema_version": 3,
     "solution": true,
     "task": false
    },
    "tags": []
   },
   "outputs": [],
   "source": [
    "# HINT: re-use the architecture you defined above, and add the dropout as required\n",
    "class Net_Dropout(nn.Module):\n",
    "\n",
    "    def __init__(self):\n",
    "        # YOUR CODE HERE\n",
    "\n",
    "\n",
    "    def forward(self, x):\n",
    "        # YOUR CODE HERE\n",
    "        return x"
   ]
  },
  {
   "cell_type": "code",
   "execution_count": null,
   "id": "69061ba6-c337-4e32-91b8-dbf0efcdda6a",
   "metadata": {
    "deletable": false,
    "nbgrader": {
     "cell_type": "code",
     "checksum": "ca456d174e5bf3dda30f522287ee4674",
     "grade": true,
     "grade_id": "cell-1c061d17f8f006e7",
     "locked": false,
     "points": 2,
     "schema_version": 3,
     "solution": true,
     "task": false
    },
    "tags": []
   },
   "outputs": [],
   "source": [
    "loss_function = None\n",
    "learning_rate=None\n",
    "network = None\n",
    "optimizer = None\n",
    "# Remember to give your network a different name than before!\n",
    "model_dropout = None\n",
    "\n",
    "\"\"\" network.compile(loss=..., optimizer=..., metrics=...) \"\"\"\n",
    "\n",
    "# YOUR CODE HERE"
   ]
  },
  {
   "cell_type": "code",
   "execution_count": null,
   "id": "6992b610-086a-4b19-bd8c-3882f2822602",
   "metadata": {
    "deletable": false,
    "editable": false,
    "nbgrader": {
     "cell_type": "code",
     "checksum": "62349fa8a0450f016716a29ebe557c14",
     "grade": false,
     "grade_id": "cell-4dea2146cc8d820f",
     "locked": true,
     "schema_version": 3,
     "solution": false,
     "task": false
    },
    "tags": []
   },
   "outputs": [],
   "source": [
    "# train and validate the network\n",
    "model_dropout.train_network(train_loader, val_loader, max_epochs=10)"
   ]
  },
  {
   "cell_type": "code",
   "execution_count": null,
   "id": "6dde6c4d-f2ba-4f10-a161-5cc895cbfc1d",
   "metadata": {
    "tags": []
   },
   "outputs": [],
   "source": [
    "evaluate_test_set(model_dropout, test_loader)"
   ]
  },
  {
   "cell_type": "markdown",
   "id": "d4e5fef7-b50c-4bed-b076-25fa64025216",
   "metadata": {
    "deletable": false,
    "editable": false,
    "nbgrader": {
     "cell_type": "markdown",
     "checksum": "a577a48313bb91c180d85bb86e937894",
     "grade": false,
     "grade_id": "cell-e3650b0c49bff519",
     "locked": true,
     "schema_version": 3,
     "solution": false,
     "task": false
    },
    "tags": []
   },
   "source": [
    "# Task 4: Add batch normalization\n",
    "\n",
    "Add batch normalization to your network.\n",
    "\n",
    "The batch normalization layer (`nn.BatchNorm2d`, `nn.BatchNorm1d`) is added directly after a neural layer (`Conv2d`, `Dense` etc) and prior to any subsequent layers (e.g. `Dropout`). For the final softmax layer, you should not add any batch normalization (it makes no sense if you think about it, what are you trying to normalize at that point?).Also, consider that the batch_size you have specified earlier comes in to play here. You can try to see what happens when you specify (very) low or higher batch sizes.\n",
    "\n",
    "### * * * FOR FINAL SUBMISSION / GRADING * * * ###\n",
    "\n",
    "You should end up with a total of three `BatchNormalization` layers, in the correct positions. "
   ]
  },
  {
   "cell_type": "code",
   "execution_count": null,
   "id": "ed0d3e81-1355-4925-90be-bc4eae5c8ef7",
   "metadata": {
    "deletable": false,
    "nbgrader": {
     "cell_type": "code",
     "checksum": "100f236c1fe28236191bc9e0cd57eeb9",
     "grade": true,
     "grade_id": "cell-ccac1fdb73c350fa",
     "locked": false,
     "points": 8,
     "schema_version": 3,
     "solution": true,
     "task": false
    },
    "tags": []
   },
   "outputs": [],
   "source": [
    "class Net_BatchNorm(nn.Module):\n",
    "\n",
    "    def __init__(self):\n",
    "        # YOUR CODE HERE\n",
    "\n",
    "\n",
    "    def forward(self, x):\n",
    "        # YOUR CODE HERE\n",
    "        return x"
   ]
  },
  {
   "cell_type": "code",
   "execution_count": null,
   "id": "22ba71dc-4278-4c67-8d16-5b309f94eba3",
   "metadata": {
    "deletable": false,
    "nbgrader": {
     "cell_type": "code",
     "checksum": "d74e6cdd829b85c43e68aecfe4570eab",
     "grade": true,
     "grade_id": "cell-0c3cffcde6628b82",
     "locked": false,
     "points": 2,
     "schema_version": 3,
     "solution": true,
     "task": false
    },
    "tags": []
   },
   "outputs": [],
   "source": [
    "loss_function = None\n",
    "learning_rate=None\n",
    "network = None\n",
    "optimizer = None\n",
    "# Remember to give your network a different name than before!\n",
    "model_bn = None\n",
    "\n",
    "# YOUR CODE HERE"
   ]
  },
  {
   "cell_type": "code",
   "execution_count": null,
   "id": "47094dbb-36b0-43c2-bf4a-e555ea05efea",
   "metadata": {
    "deletable": false,
    "editable": false,
    "nbgrader": {
     "cell_type": "code",
     "checksum": "016748cbd892d6a4d3ff5d0108b016f2",
     "grade": false,
     "grade_id": "cell-05c572912d693f66",
     "locked": true,
     "schema_version": 3,
     "solution": false,
     "task": false
    },
    "tags": []
   },
   "outputs": [],
   "source": [
    "model_bn.train_network(train_loader, val_loader, max_epochs=10)"
   ]
  },
  {
   "cell_type": "code",
   "execution_count": null,
   "id": "3515de8c-d53a-4c78-973e-5a5dbcddc58b",
   "metadata": {
    "tags": []
   },
   "outputs": [],
   "source": [
    "evaluate_test_set(model_bn, test_loader)"
   ]
  },
  {
   "cell_type": "markdown",
   "id": "ccfaebdf-3b82-4daf-9ded-2e112be5cfff",
   "metadata": {
    "deletable": false,
    "editable": false,
    "nbgrader": {
     "cell_type": "markdown",
     "checksum": "5d5124e93eb904cc768dfeeb5d2e18a5",
     "grade": false,
     "grade_id": "cell-ca320a76aa58f6ce",
     "locked": true,
     "schema_version": 3,
     "solution": false,
     "task": false
    },
    "tags": []
   },
   "source": [
    "# Task 5: Try different initialization strategies\n",
    "Try different Weight initialization strategies in your network. Make a new cell for each different strategy and retrain your network each time. Please see https://pytorch.org/docs/stable/nn.init.html for examples of kernel initializers.   \n",
    "\n",
    "for this particular exercise, you do not have to create a new architecture, but re-use the network from before. \n",
    "\n",
    "### * * * FOR FINAL SUBMISSION / GRADING * * * ###\n",
    "In Pytorch, neural network layers can be initialized with different weights through their ```weight``` a ```bias``` attributes.\n",
    "For this exercise, change the weights and bias initializations of your network in the following way:\n",
    "\n",
    "1. fill in the code for the initialization of the Conv2D layers in the function below, you can start with the same initializers that are already filled in for the Linear layers\n",
    "2. Try different initialization strategies. A full list can be found on https://pytorch.org/docs/stable/nn.init.html"
   ]
  },
  {
   "cell_type": "code",
   "execution_count": null,
   "id": "59cb5548-2f57-44eb-8f72-1be060063c79",
   "metadata": {
    "deletable": false,
    "nbgrader": {
     "cell_type": "code",
     "checksum": "382761978d7d24cc76cd5aa9f3b39386",
     "grade": true,
     "grade_id": "cell-411d6375bca95cca",
     "locked": false,
     "points": 8,
     "schema_version": 3,
     "solution": true,
     "task": false
    },
    "tags": []
   },
   "outputs": [],
   "source": [
    "# Reuse the network from the previous exercise, but try a different initialization\n",
    "\n",
    "def init_weights(m):\n",
    "    \" here, m contains a pytorch neural network layer. Make sure to initialize the weights with xavier_uniform and the biases with zeros\"\n",
    "    if isinstance(m, nn.Linear):\n",
    "        torch.nn.init.xavier_uniform_(m.weight)\n",
    "        torch.nn.init.zeros_(m.bias)\n",
    "\n",
    "    if isinstance(m, nn.Conv2d):\n",
    "        # YOUR CODE HERE\n",
    "    "
   ]
  },
  {
   "cell_type": "code",
   "execution_count": null,
   "id": "d9d7decc-2d29-4a56-bf69-137463d28504",
   "metadata": {
    "deletable": false,
    "nbgrader": {
     "cell_type": "code",
     "checksum": "fa583bc630b3151e1c47f3db295fa5cf",
     "grade": true,
     "grade_id": "cell-3babdf74e0ad6be6",
     "locked": false,
     "points": 2,
     "schema_version": 3,
     "solution": true,
     "task": false
    },
    "tags": []
   },
   "outputs": [],
   "source": [
    "loss_function = None\n",
    "learning_rate=None\n",
    "network = Net_BatchNorm()\n",
    "# Apply the initialization function on the network\n",
    "network.apply(init_weights)\n",
    "optimizer = None\n",
    "# Remember to give your network a different name than before!\n",
    "model_init = None\n",
    "\n",
    "# YOUR CODE HERE"
   ]
  },
  {
   "cell_type": "code",
   "execution_count": null,
   "id": "8eb89f63-dd42-4231-8962-e92ad88336cf",
   "metadata": {
    "deletable": false,
    "editable": false,
    "nbgrader": {
     "cell_type": "code",
     "checksum": "0198650e51fded6925a726560a8866a3",
     "grade": false,
     "grade_id": "cell-60cb4f77ce77c977",
     "locked": true,
     "schema_version": 3,
     "solution": false,
     "task": false
    },
    "tags": []
   },
   "outputs": [],
   "source": [
    "model_init.train_network(train_loader, val_loader, max_epochs=10)"
   ]
  },
  {
   "cell_type": "code",
   "execution_count": null,
   "id": "a6bc9766-e9b1-4782-b60a-00831fd23999",
   "metadata": {
    "tags": []
   },
   "outputs": [],
   "source": [
    "evaluate_test_set(model_init, test_loader)"
   ]
  },
  {
   "cell_type": "markdown",
   "id": "8d751e74-7c15-42f6-9bd7-3586d4886a29",
   "metadata": {
    "deletable": false,
    "editable": false,
    "nbgrader": {
     "cell_type": "markdown",
     "checksum": "616dbbc2f464c165432bf8373ce5e50f",
     "grade": false,
     "grade_id": "cell-19124ecf4578bd0e",
     "locked": true,
     "schema_version": 3,
     "solution": false,
     "task": false
    },
    "tags": []
   },
   "source": [
    "# Task 6: Try different nonlinearities\n",
    "\n",
    "Try different nonlinearities in your network. You can view supported activations functions in the PyTorch documentation: https://pytorch.org/docs/stable/nn.html#non-linear-activations-weighted-sum-nonlinearity. \n",
    "\n",
    "### * * * FOR FINAL SUBMISSION / GRADING * * * ###\n",
    "\n",
    "Please specify the non-linear advanced activation layer `LeakyReLU`."
   ]
  },
  {
   "cell_type": "code",
   "execution_count": null,
   "id": "20e418f4-3d7d-478b-ba62-968ed9b6d6ec",
   "metadata": {
    "deletable": false,
    "nbgrader": {
     "cell_type": "code",
     "checksum": "b5558f2c237ff3228f19f3fcb01be908",
     "grade": true,
     "grade_id": "cell-e7dccde7e319bf99",
     "locked": false,
     "points": 8,
     "schema_version": 3,
     "solution": true,
     "task": false
    },
    "tags": []
   },
   "outputs": [],
   "source": [
    "class Net_NonLin(nn.Module):\n",
    "\n",
    "    def __init__(self):\n",
    "        # YOUR CODE HERE\n",
    "\n",
    "\n",
    "    def forward(self, x):\n",
    "        # YOUR CODE HERE\n",
    "        return x\n"
   ]
  },
  {
   "cell_type": "code",
   "execution_count": null,
   "id": "6897390a-b5bb-43e8-a396-84a4b1a73f16",
   "metadata": {
    "deletable": false,
    "nbgrader": {
     "cell_type": "code",
     "checksum": "43ca78dbacb1b9c3cf56d367999fe155",
     "grade": true,
     "grade_id": "cell-6d5d65a620d84a50",
     "locked": false,
     "points": 2,
     "schema_version": 3,
     "solution": true,
     "task": false
    },
    "tags": []
   },
   "outputs": [],
   "source": [
    "loss_function = None\n",
    "learning_rate= None\n",
    "network = None\n",
    "optimizer = None\n",
    "# Remember to give your network a different name than before!\n",
    "model_nonlin = None\n",
    "\n",
    "# YOUR CODE HERE"
   ]
  },
  {
   "cell_type": "code",
   "execution_count": null,
   "id": "6506d3a7-d480-4779-b169-7e319d707dea",
   "metadata": {
    "deletable": false,
    "editable": false,
    "nbgrader": {
     "cell_type": "code",
     "checksum": "1faf70bc19c5b849599ec1259e34fbf4",
     "grade": false,
     "grade_id": "cell-ebf09e0cee9f0345",
     "locked": true,
     "schema_version": 3,
     "solution": false,
     "task": false
    },
    "tags": []
   },
   "outputs": [],
   "source": [
    "model_nonlin.train_network(train_loader, val_loader, max_epochs=10)"
   ]
  },
  {
   "cell_type": "code",
   "execution_count": null,
   "id": "82fb3baf-040b-4589-82ab-2644f4fbf6dc",
   "metadata": {},
   "outputs": [],
   "source": [
    "evaluate_test_set(model_nonlin, test_loader)"
   ]
  },
  {
   "cell_type": "markdown",
   "id": "ee68473a-8b1d-4088-a02f-cec97ae1487c",
   "metadata": {
    "deletable": false,
    "editable": false,
    "nbgrader": {
     "cell_type": "markdown",
     "checksum": "309925a0ee38f7d866dd81fea679289f",
     "grade": false,
     "grade_id": "cell-023051e7292fbb6f",
     "locked": true,
     "schema_version": 3,
     "solution": false,
     "task": false
    },
    "tags": []
   },
   "source": [
    "# Task 7: L2 normalization and different optimizers\n",
    "Different optimizers can be used to speed up training and even improve generalization. You can take a look at the different optimizers here: https://pytorch.org/docs/stable/optim.html\n",
    "\n",
    "### L2 regularization\n",
    "In Pytorch, L2 regularization is integrated into the optimizers via the ```weight_decay``` parameter. For example, within the SGD optimizers we have used thus far, the full set of options are:\n",
    "\n",
    "``` python\n",
    "torch.optim.SGD(params, lr=<required parameter>, momentum=0, dampening=0, weight_decay=0, nesterov=False, *, maximize=False, foreach=None, differentiable=False)\n",
    "```\n",
    "\n",
    "### * * * FOR FINAL SUBMISSION / GRADING * * * ###\n",
    "\n",
    "Please set the optimizer to AdamW, and use a weight_decay of 0.01. You can again re-use the previous network, and you do not have to include weight initialization (but if you want to, it is fine)\n"
   ]
  },
  {
   "cell_type": "code",
   "execution_count": null,
   "id": "4ec804cb-8916-4183-b0cb-b3facd3ac92e",
   "metadata": {
    "deletable": false,
    "nbgrader": {
     "cell_type": "code",
     "checksum": "849abf9fbd6eb415d3146d807a1f210a",
     "grade": true,
     "grade_id": "cell-cacfe9a33a0bb449",
     "locked": false,
     "points": 10,
     "schema_version": 3,
     "solution": true,
     "task": false
    },
    "tags": []
   },
   "outputs": [],
   "source": [
    "# YOUR CODE HERE\n",
    "\n",
    "# YOUR CODE HERE"
   ]
  },
  {
   "cell_type": "code",
   "execution_count": null,
   "id": "30a48a9d-a2c5-4f98-9c7e-552b54aa4bd3",
   "metadata": {
    "deletable": false,
    "editable": false,
    "nbgrader": {
     "cell_type": "code",
     "checksum": "8c5bcc9c5f504677a1327db3cf739942",
     "grade": false,
     "grade_id": "cell-e10eeccc0a251492",
     "locked": true,
     "schema_version": 3,
     "solution": false,
     "task": false
    },
    "tags": []
   },
   "outputs": [],
   "source": [
    "model_norm_optim.train_network(train_loader, val_loader, max_epochs=10)"
   ]
  },
  {
   "cell_type": "markdown",
   "id": "dbf94c48-7773-45b6-84cf-451c1fbea5fb",
   "metadata": {
    "deletable": false,
    "editable": false,
    "nbgrader": {
     "cell_type": "markdown",
     "checksum": "c09f6e4633c4a5b7e25694e367fb805d",
     "grade": false,
     "grade_id": "cell-ed1304ebf228bc5e",
     "locked": true,
     "schema_version": 3,
     "solution": false,
     "task": false
    },
    "tags": []
   },
   "source": [
    "### Test and submit results\n",
    "Now you can run the network on the test set"
   ]
  },
  {
   "cell_type": "code",
   "execution_count": null,
   "id": "58c17c0d-55cb-4105-a43b-a4b19353436e",
   "metadata": {
    "deletable": false,
    "editable": false,
    "nbgrader": {
     "cell_type": "code",
     "checksum": "35c64c589b314e9c238aac9f394abb4b",
     "grade": false,
     "grade_id": "cell-2548d495e719ee4e",
     "locked": true,
     "schema_version": 3,
     "solution": false,
     "task": false
    },
    "tags": []
   },
   "outputs": [],
   "source": [
    "evaluate_test_set(model_norm_optim, test_loader)"
   ]
  },
  {
   "cell_type": "markdown",
   "id": "abd20400-3595-4f42-9193-f6f19d22aabe",
   "metadata": {
    "deletable": false,
    "editable": false,
    "nbgrader": {
     "cell_type": "markdown",
     "checksum": "50912e09d31a2aa7b26db0d5a5ffb2c4",
     "grade": false,
     "grade_id": "cell-734d1aafb2df452c",
     "locked": true,
     "schema_version": 3,
     "solution": false,
     "task": false
    },
    "tags": []
   },
   "source": [
    "# Task 8: Add Image Augmentation\n",
    "\n",
    "In this task you will have to apply different image augmentation techniques. Note that image augmentation is often also referred to as data augmentation when the context (here: image processing) is already clearly defined. However, to avoid any confusion, we will use the more precise term \"image augmentation\" consistently throughout this text.\n",
    "\n",
    "The Pytorch framework supports extensive image augmentation pre-processing routines, ready for you to use. The easiest way is to use ```transforms.Compose()``` function, and then pass it to the dataset/dataloader classes. An example is specified below:\n",
    "\n",
    "```python\n",
    "composed = transforms.Compose([torchvision.transforms.ToTensor(),\n",
    "                               torchvision.transforms.ElasticTransform(alpha=250.0)])\n",
    "\n",
    "train_loader = DataLoader(CustomDataset(x_train_norm, y_train, transform=composed), batch_size=batch_size, num_workers=4, shuffle=True)\n",
    "\n",
    "                               \n",
    "```\n",
    "The example above first converts the image into a Pytorch tensor [batch, channels, width, height] from a numpy array [batch, width, height, channels]. Then, the image undergoes an elastic transformation.\n",
    "\n",
    "\n",
    "### * * * FOR FINAL SUBMISSION / GRADING * * * ###\n",
    "\n",
    "Please ensure that your final network incorporates the following image augmentations in the following order and with the following parameters:\n",
    "\n",
    "   1. torchvision.transforms.ToTensor() \n",
    "      * Change the numpy image into a Tensor, do not forget this or else you will encounter errors!\n",
    "   1. randomly horizontally flip the images using [RandomHorizontalFlip](https://pytorch.org/vision/stable/generated/torchvision.transforms.RandomHorizontalFlip.html#torchvision.transforms.RandomHorizontalFlip)\n",
    "      * horizontal flip `mode` *ONLY* with a probability of 0.5\n",
    "   1. randomly rotate the images by a small amount using [RandomRotation](https://pytorch.org/vision/stable/generated/torchvision.transforms.RandomRotation.html#torchvision.transforms.RandomRotation)\n",
    "      * rotate by a `factor` of 23 degrees\n",
    "   1. randomly shift the image position away from centre by a small amount\n",
    "      * width and height shift `factor` of 0.2. This can be achieved using the [RandomAffine](https://pytorch.org/vision/stable/generated/torchvision.transforms.RandomAffine.html#torchvision.transforms.RandomAffine) function, you can set the degrees equal to (0,0) and only fill in values for the translate parameter.\n",
    "   1. Do **not** modify the transforms for the validation or test set!\n",
    "      * Although this is something that a lot of researchers do in practice, which is called test time augmentation, we do not do it in this assignment\n",
    "      \n",
    "      \n",
    "You can find a full list of all the supported augmentations at https://pytorch.org/vision/stable/transforms.html   \n",
    "\n",
    "To read more and see several examples, go to https://pytorch.org/vision/stable/auto_examples/plot_transforms.html#sphx-glr-auto-examples-plot-transforms-py"
   ]
  },
  {
   "cell_type": "code",
   "execution_count": null,
   "id": "16cdd3e9-0cb1-4b39-8d83-b8d662de3ee4",
   "metadata": {
    "deletable": false,
    "nbgrader": {
     "cell_type": "code",
     "checksum": "e6042b0dc460a8d7651da0378eceb72d",
     "grade": true,
     "grade_id": "cell-f67a3ae4d958e852",
     "locked": false,
     "points": 8,
     "schema_version": 3,
     "solution": true,
     "task": false
    },
    "tags": []
   },
   "outputs": [],
   "source": [
    "composed_train = None\n",
    "\n",
    "# YOUR CODE HERE\n",
    "\n",
    "composed_val = transforms.Compose([torchvision.transforms.ToTensor()])"
   ]
  },
  {
   "cell_type": "code",
   "execution_count": null,
   "id": "a869aa9b-1cbe-4b1f-b6ea-f5752e3a55fb",
   "metadata": {
    "deletable": false,
    "editable": false,
    "nbgrader": {
     "cell_type": "code",
     "checksum": "2fb451cbb8dce3cb61cf25fac34aca47",
     "grade": false,
     "grade_id": "cell-58ef52b3746e7555",
     "locked": true,
     "schema_version": 3,
     "solution": false,
     "task": false
    },
    "tags": []
   },
   "outputs": [],
   "source": [
    "composed = transforms.Compose([torchvision.transforms.ToTensor()])\n",
    "train_loader = DataLoader(CustomDataset(x_train_norm, y_train, transform=composed_train), batch_size=batch_size, num_workers=4, shuffle=True)\n",
    "val_loader = DataLoader(CustomDataset(x_val_norm, y_val, transform=composed_val), batch_size=batch_size, num_workers=4, shuffle=True)"
   ]
  },
  {
   "cell_type": "code",
   "execution_count": null,
   "id": "15a45409-56cb-42ab-929e-6e9570778ffc",
   "metadata": {
    "deletable": false,
    "nbgrader": {
     "cell_type": "code",
     "checksum": "2814ecbd7f8ff94d7dbbda0b9591ddd1",
     "grade": true,
     "grade_id": "cell-f0dba8fcf7731315",
     "locked": false,
     "points": 2,
     "schema_version": 3,
     "solution": true,
     "task": false
    },
    "tags": []
   },
   "outputs": [],
   "source": [
    "loss_function = None\n",
    "learning_rate=None\n",
    "network = None\n",
    "optimizer = None\n",
    "model_aug = None\n",
    "\n",
    "# YOUR CODE HERE"
   ]
  },
  {
   "cell_type": "code",
   "execution_count": null,
   "id": "fac52959-6fe5-427c-bfb9-5dc3735f12a4",
   "metadata": {
    "deletable": false,
    "editable": false,
    "nbgrader": {
     "cell_type": "code",
     "checksum": "bac1f251a9c7917555ddf368717901e6",
     "grade": false,
     "grade_id": "cell-a2d5d495382635b7",
     "locked": true,
     "schema_version": 3,
     "solution": false,
     "task": false
    },
    "tags": []
   },
   "outputs": [],
   "source": [
    "model_aug.train_network(train_loader, val_loader, max_epochs=10)"
   ]
  },
  {
   "cell_type": "code",
   "execution_count": null,
   "id": "183c1953-f0ea-46ac-8135-d4b831ef24c3",
   "metadata": {},
   "outputs": [],
   "source": [
    "evaluate_test_set(model_aug, test_loader)"
   ]
  },
  {
   "cell_type": "markdown",
   "id": "60e74699-a588-49a7-aaab-ef83f9396db5",
   "metadata": {
    "deletable": false,
    "editable": false,
    "nbgrader": {
     "cell_type": "markdown",
     "checksum": "5a951e440d59d3f3423f3f5e1348a7c0",
     "grade": false,
     "grade_id": "cell-95be0b0f85164a0a",
     "locked": true,
     "schema_version": 3,
     "solution": false,
     "task": false
    },
    "tags": []
   },
   "source": [
    "# Task 9: Try different architectures\n",
    "\n",
    "The architectures we used so far were pretty simple. Try to build a different architecture and see how it performs. You can try to experiment with both deeper networks (more layers) and wider ones. "
   ]
  },
  {
   "cell_type": "code",
   "execution_count": null,
   "id": "1acc35ef-d127-4f95-ad27-7a70ba9ee339",
   "metadata": {
    "deletable": false,
    "nbgrader": {
     "cell_type": "code",
     "checksum": "d7ccbe014ba814bbce017750a03c0a31",
     "grade": true,
     "grade_id": "cell-61ae7a5dd6e330bc",
     "locked": false,
     "points": 10,
     "schema_version": 3,
     "solution": true,
     "task": false
    },
    "tags": []
   },
   "outputs": [],
   "source": [
    "# YOUR CODE HERE"
   ]
  },
  {
   "cell_type": "code",
   "execution_count": null,
   "id": "2fe77239-5f57-415d-bae1-244ca9838875",
   "metadata": {
    "deletable": false,
    "nbgrader": {
     "cell_type": "code",
     "checksum": "76dcc28a48bb77810a332bbd77e9db90",
     "grade": true,
     "grade_id": "cell-a591faa0d8b7a7d7",
     "locked": false,
     "points": 0,
     "schema_version": 3,
     "solution": true,
     "task": false
    },
    "tags": []
   },
   "outputs": [],
   "source": [
    "# YOUR CODE HERE"
   ]
  },
  {
   "cell_type": "code",
   "execution_count": null,
   "id": "486e71b8-08cf-45f5-b382-36bed7e9af5c",
   "metadata": {
    "deletable": false,
    "editable": false,
    "nbgrader": {
     "cell_type": "code",
     "checksum": "087c3c206c6550d4e959770f04a6a16b",
     "grade": false,
     "grade_id": "cell-8bc712053e6f1777",
     "locked": true,
     "schema_version": 3,
     "solution": false,
     "task": false
    },
    "tags": []
   },
   "outputs": [],
   "source": [
    "model_deep.train_network(train_loader, val_loader, max_epochs=10)\n"
   ]
  },
  {
   "cell_type": "code",
   "execution_count": null,
   "id": "a316b180-60cf-4f56-afc4-b2c512cd2800",
   "metadata": {},
   "outputs": [],
   "source": [
    "evaluate_test_set(model_deep, test_loader)"
   ]
  }
 ],
 "metadata": {
  "kernelspec": {
   "display_name": "venvismi",
   "language": "python",
   "name": "python3"
  },
  "language_info": {
   "codemirror_mode": {
    "name": "ipython",
    "version": 3
   },
   "file_extension": ".py",
   "mimetype": "text/x-python",
   "name": "python",
   "nbconvert_exporter": "python",
   "pygments_lexer": "ipython3",
   "version": "3.7.9"
  },
  "vscode": {
   "interpreter": {
    "hash": "76a9277cc4d167e2888fe82fc62755f31886abcbf64f056fc1be86a0173158ca"
   }
  }
 },
 "nbformat": 4,
 "nbformat_minor": 5
}
